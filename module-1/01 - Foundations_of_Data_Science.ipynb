{
 "cells": [
  {
   "cell_type": "markdown",
   "id": "d220867f",
   "metadata": {},
   "source": [
    "![](../images/logos/KIEPSKIES.jpg)"
   ]
  },
  {
   "cell_type": "markdown",
   "id": "f23d38cd",
   "metadata": {},
   "source": [
    "# Foundations of Data Science\n",
    "## 🚀 Welcome to Data Science\n",
    "\n",
    "Hey there! 👋 Ready to dive into the world of **Data Science**? Whether you're a beginner or have some experience, this introduction will give you a solid foundation in the key concepts, terminology, and real-world applications. So, grab your favorite drink ☕ and let’s get started!"
   ]
  },
  {
   "cell_type": "markdown",
   "id": "a0fb5c7b",
   "metadata": {},
   "source": [
    "______________________________________________________________________________________________________"
   ]
  },
  {
   "cell_type": "markdown",
   "id": "3dba5068",
   "metadata": {},
   "source": [
    "### 🎯 What is Data Science?\n",
    "\n",
    "Imagine you have a **huge pile of raw data**—numbers, text, images, or even sounds. Data Science is all about **making sense of that data** to uncover patterns, insights, and trends that can drive decisions.\n",
    "\n",
    "It’s a mix of:\n",
    "\n",
    "- **Mathematics & Statistics** – To analyze and interpret data\n",
    "- **Programming** – To manipulate, process, and visualize data\n",
    "- **Domain Knowledge** – To apply insights to real-world problems\n",
    "- **Machine Learning (AI)** – To build predictive models that learn from data\n",
    "\n",
    "In simple terms, Data Science helps turn messy data into meaningful stories! 📊📖"
   ]
  },
  {
   "cell_type": "markdown",
   "id": "84092859",
   "metadata": {},
   "source": [
    "_________________________________________________________________________"
   ]
  },
  {
   "cell_type": "markdown",
   "id": "0293584e",
   "metadata": {},
   "source": [
    "### 🔑 Key Terminology in Data Science\n",
    "Here are some must-know terms you'll hear often:\n",
    "\n",
    "📌 **Dataset**\n",
    "\n",
    "A collection of data in a structured format (e.g., a table with rows and columns). Think of an Excel sheet full of customer purchases.\n",
    "\n",
    "📌 **Features & Labels**\n",
    "- Features: The characteristics or attributes of the data (e.g., age, income, product purchased).\n",
    "- Label (Target Variable): The outcome we’re trying to predict (e.g., will a customer buy again?).\n",
    "\n",
    "📌 **Structured vs. Unstructured Data**\n",
    "\n",
    "- Structured: Organized in tables (like spreadsheets or databases).\n",
    "- Unstructured: Free-form data like images, audio, and text.\n",
    "\n",
    "📌 Big Data\n",
    "\n",
    "Extremely large datasets that require special tools (like Hadoop or Spark) to process. Think **Google searches, social media feeds, or Netflix recommendations!**\n",
    "\n",
    "📌 Machine Learning (ML)\n",
    "\n",
    "A subset of AI that enables computers to learn patterns from data and make predictions without being explicitly programmed.\n",
    "\n",
    "📌 Artificial Intelligence (AI)\n",
    "\n",
    "The broader field of machines performing tasks that typically require human intelligence (e.g., speech recognition, recommendation systems).\n",
    "\n",
    "📌 Data Cleaning\n",
    "\n",
    "The process of removing or correcting errors, missing values, and inconsistencies in data. Garbage in, garbage out! If your data is messy, your results will be too.\n",
    "\n",
    "📌 Data Visualization\n",
    "\n",
    "Turning data into charts, graphs, and dashboards for better understanding. **A picture is worth a thousand numbers!** 📊🎨"
   ]
  },
  {
   "cell_type": "markdown",
   "id": "7fa37c16",
   "metadata": {},
   "source": [
    "___________________________________________________________________________________"
   ]
  },
  {
   "cell_type": "markdown",
   "id": "c8111701",
   "metadata": {},
   "source": [
    "### 🌎 How is Data Science Used in the Real World?\n",
    "\n",
    "You see Data Science in action **every single day**—even if you don’t realize it! Here are some cool real-world applications:\n",
    "\n",
    "🎥 **Netflix & YouTube Recommendations**\n",
    "\n",
    "Ever wondered how Netflix always knows what you’d love to watch next? **Data Science + Machine Learning** analyze your viewing history to suggest movies & shows.\n",
    "\n",
    "🛒 **E-Commerce (Amazon, Jumia, Alibaba)**\n",
    "\n",
    "- Personalized product recommendations 🏷️\n",
    "- Predicting which products will be in demand 📈\n",
    "- Detecting fraudulent transactions 🔍\n",
    "\n",
    "🏥 **Healthcare**\n",
    "\n",
    "- Diagnosing diseases from medical images 🏥\n",
    "- Predicting patient readmission rates 📉\n",
    "- Personalized treatment plans 💊\n",
    "\n",
    "🚗 **Self-Driving Cars (Tesla, Waymo)**\n",
    "\n",
    "Using sensors & ML to detect objects, recognize road signs, and make real-time driving decisions.\n",
    "\n",
    "💰 **Finance & Fraud Detection**\n",
    "\n",
    "Banks and fintech companies use AI to detect unusual transactions, preventing fraud before it happens! 🚨"
   ]
  },
  {
   "cell_type": "markdown",
   "id": "1d18c790",
   "metadata": {},
   "source": [
    "______________________________________________________________________________"
   ]
  },
  {
   "cell_type": "markdown",
   "id": "1f309ce8",
   "metadata": {},
   "source": [
    "### 🏆 Why Learn Data Science?\n",
    "\n",
    "If you're wondering whether Data Science is the right path for you, here are **3 reasons why it’s an amazing skill to have:**\n",
    "\n",
    "- **High Demand:** Every industry—from healthcare to finance—needs Data Scientists. The job market is booming! 🚀\n",
    "- **Great Earning Potential:** Data Science roles offer **high salaries** because skilled professionals are in demand. 💰\n",
    "- **Problem-Solving Power:** You get to **solve real-world problems** and make a real impact!"
   ]
  },
  {
   "cell_type": "markdown",
   "id": "63960799",
   "metadata": {},
   "source": [
    "____________________________________________________________________________________"
   ]
  },
  {
   "cell_type": "markdown",
   "id": "d7fb93dd",
   "metadata": {},
   "source": [
    "### 💡 Your Data Science Journey Starts Here!\n",
    "\n",
    "Data Science is a fascinating field with endless possibilities! In this course, we’ll cover:\n",
    "\n",
    "🚀 How to set up your Python environment 🐍\n",
    "📊 Data wrangling and visualization techniques\n",
    "🧠 Introduction to Machine Learning models\n",
    "🛠️ Hands-on projects to apply your skills\n",
    "\n",
    "Stay curious, ask questions, and have fun along the way! Ready to become a Data Science pro? Let’s go! 🎯🔥"
   ]
  },
  {
   "cell_type": "markdown",
   "id": "5c218069",
   "metadata": {},
   "source": [
    "______________________________________________________________________________________"
   ]
  },
  {
   "cell_type": "markdown",
   "id": "b89df331",
   "metadata": {},
   "source": [
    "![](../images/logos/python.jpeg)\n",
    "## Python \n",
    "\n",
    "Python is a versatile, high-level programming language known for its simplicity and readability, widely used in web development, data analysis, automation, and more"
   ]
  },
  {
   "cell_type": "markdown",
   "id": "f9386ad4",
   "metadata": {},
   "source": [
    "### 1. Why Learn Python?\n",
    "\n",
    "Python is one of the most popular programming languages in the world, and here's why you should consider learning it:\n",
    "\n",
    "- **Easy to learn:** Python’s syntax is simple and readable, making it a great choice for beginners.\n",
    "- **Versatile:** Python is used in many fields—data analysis, web development, machine learning, automation, and more!\n",
    "- **Growing demand:** Python skills are highly sought after in the job market, from tech companies to startups.\n",
    "- **Great community:** You'll find a wealth of resources and support online as the Python community is vast and active."
   ]
  },
  {
   "cell_type": "markdown",
   "id": "5641605c",
   "metadata": {},
   "source": [
    "______________________________________________________________________________________________________________________"
   ]
  },
  {
   "cell_type": "markdown",
   "id": "41073e8c",
   "metadata": {},
   "source": [
    "### 2. What Can Python Do? \n",
    "\n",
    "Python can do a lot! Here are just a few examples:\n",
    "\n",
    "- **Data Analysis:** 'Crunch numbers', analyze trends, and visualize data.\n",
    "- **Web Development:** Build websites with frameworks like Django or Flask.\n",
    "- **Automation:** Write scripts to automate repetitive tasks.\n",
    "- **Machine Learning & AI:** Create intelligent systems that learn from data.\n",
    "- **Scripting & Software Development:** Develop applications from simple tools to complex systems."
   ]
  },
  {
   "cell_type": "markdown",
   "id": "59ead342",
   "metadata": {},
   "source": [
    "_________________________________________________________________________________________________________________________________________"
   ]
  },
  {
   "cell_type": "markdown",
   "id": "33a50efa",
   "metadata": {},
   "source": [
    "### 3. Installation of Python and necessary toolkits\n",
    "\n",
    "Before we start coding, we need to set up your environment. Follow these steps to install Python and its essential tools:\n",
    "\n",
    "1. **Install Python:**\n",
    "\n",
    "- Go to Python’s official website.You can find it [here](http://python.org/)\n",
    "- Download the latest version for your operating system.\n",
    "- Run the installer and make sure to check the box that says “Add Python to PATH.”\n",
    "\n",
    "2. **Install a Code Editor:**\n",
    "\n",
    "For this course, we recommend **VS Code** and **Jupyter Notebook**.\n",
    "VS Code: Download from [here](https://code.visualstudio.com/). *Remember to install python extension to run python*\n",
    "\n",
    "Jupyter Notebook: You can install it by typing `pip install notebook` in your terminal or command prompt. Alternatively, it can be installed by `pip3 install jupyter`"
   ]
  },
  {
   "cell_type": "markdown",
   "id": "dd5f8d60",
   "metadata": {},
   "source": [
    "<span style=\"color: green;\">**Practical exercise**</span>\n",
    "\n",
    "Lets install python and its toolkit\n",
    "\n",
    "- install python (windows, Mac and Linux)\n",
    "- install vs code. Will be used to discuss python fundamentals\n",
    "- finally install `jupyter notebook`\n",
    "\n",
    "Write our first `\"Hello World program\"`"
   ]
  },
  {
   "cell_type": "markdown",
   "id": "d2e82cdb",
   "metadata": {},
   "source": [
    "#### <span style=\"color: #00008B;\">First Python Program</span> \n",
    "\n",
    "Let’s dive into some basic but super important Python features: the `print()` statement and comments. Ready? Let's go!\n",
    "\n",
    "**What is the print() statement?**\n",
    "\n",
    "The `print()` statement is how you tell Python to display something on the screen. It’s the simplest way to interact with your code—kind of like telling Python, “Hey, show me this!”\n",
    "\n",
    "Here's an example:"
   ]
  },
  {
   "cell_type": "code",
   "execution_count": 1,
   "id": "dd1b55ce",
   "metadata": {},
   "outputs": [
    {
     "name": "stdout",
     "output_type": "stream",
     "text": [
      "Hello, world!\n"
     ]
    }
   ],
   "source": [
    "print(\"Hello, world!\")"
   ]
  },
  {
   "cell_type": "markdown",
   "id": "6d3bd776",
   "metadata": {},
   "source": [
    "<span style=\"color: orange;\">**Try it out:**</span> \n",
    "\n",
    "Open your Python environment and type this in! What will you print to the screen? Maybe your name or a fun fact about yourself?"
   ]
  },
  {
   "cell_type": "code",
   "execution_count": 2,
   "id": "cabab6ff",
   "metadata": {},
   "outputs": [
    {
     "name": "stdout",
     "output_type": "stream",
     "text": [
      "Hello Mustafa!\n"
     ]
    }
   ],
   "source": [
    "print(\"Hello Mustafa!\")"
   ]
  },
  {
   "cell_type": "markdown",
   "id": "fdcdb45b",
   "metadata": {},
   "source": [
    "**Comments**\n",
    "\n",
    "Comments are lines in your code that Python ignores when running your program. They’re super useful for explaining what your code does (and leaving little notes for your future self or others!).\n",
    "\n",
    "In Python, comments start with a `#` symbol. Like this:"
   ]
  },
  {
   "cell_type": "code",
   "execution_count": 3,
   "id": "3b701f7b",
   "metadata": {},
   "outputs": [],
   "source": [
    "# This is a comment and won't be executed"
   ]
  },
  {
   "cell_type": "markdown",
   "id": "56d1e41c",
   "metadata": {},
   "source": [
    "You see! There are no results. Python ignored it Lets try integrating comments with other lines of code"
   ]
  },
  {
   "cell_type": "code",
   "execution_count": 4,
   "id": "25caf6b1",
   "metadata": {},
   "outputs": [
    {
     "name": "stdout",
     "output_type": "stream",
     "text": [
      "Python is fun!\n"
     ]
    }
   ],
   "source": [
    "# This is a comment and won't be executed\n",
    "print(\"Python is fun!\")  # This prints a message"
   ]
  },
  {
   "cell_type": "markdown",
   "id": "e8b62e1d",
   "metadata": {},
   "source": [
    "**Notice the position of the `#` sign**\n",
    "\n",
    "Comments are used to remind yourself why you wrote a certain line of code or to disable certain parts of your code temporarily."
   ]
  },
  {
   "cell_type": "markdown",
   "id": "181e1533",
   "metadata": {},
   "source": [
    "<span style=\"color: green;\">**Practical exercise**</span>\n",
    "\n",
    " Write a small program that prints your name and includes a comment describing what the code does. For example:"
   ]
  },
  {
   "cell_type": "code",
   "execution_count": 5,
   "id": "6ca30810",
   "metadata": {},
   "outputs": [],
   "source": [
    "# Solution"
   ]
  },
  {
   "cell_type": "markdown",
   "id": "936b42b3",
   "metadata": {},
   "source": [
    "________________________________________________________________________________________________________________"
   ]
  },
  {
   "cell_type": "markdown",
   "id": "3b9da345",
   "metadata": {},
   "source": [
    "### <span style=\"color: #00008B;\">The Building Blocks of Python 🧱</span> \n",
    "\n",
    "Now that you've mastered printing and commenting, let’s learn about Python data types and operators. These are the fundamental tools you'll use to work with data in Python. Thats why the ya referred to as the **Building Blocks!**"
   ]
  },
  {
   "cell_type": "markdown",
   "id": "a86e7d9c",
   "metadata": {},
   "source": [
    "### <span style=\"color: #00008B;\">Basic Data Types</span> "
   ]
  },
  {
   "cell_type": "markdown",
   "id": "58e57004",
   "metadata": {},
   "source": [
    "1. **Strings `(str)`:** Think of strings as text—anything inside quotes is a string."
   ]
  },
  {
   "cell_type": "code",
   "execution_count": 6,
   "id": "5d30b1dc",
   "metadata": {},
   "outputs": [],
   "source": [
    "name = 'Mustafa'\n",
    "greeting = \"Hello, World!\""
   ]
  },
  {
   "cell_type": "markdown",
   "id": "c859d70e",
   "metadata": {},
   "source": [
    "Strings can be inside single quotation marks(`''`) or double quotation marks(`\"\"`). \n",
    "\n",
    "<span style=\"color: orange;\">**Try it:**</span> : Write your own string and print it! What's your favorite quote or phrase?"
   ]
  },
  {
   "cell_type": "markdown",
   "id": "b5380a2f",
   "metadata": {},
   "source": [
    "2. **Integers `(int)`:** Whole numbers, no decimal point."
   ]
  },
  {
   "cell_type": "code",
   "execution_count": 7,
   "id": "f73c1128",
   "metadata": {},
   "outputs": [],
   "source": [
    "age = 25\n",
    "apples = 5"
   ]
  },
  {
   "cell_type": "markdown",
   "id": "9ec9941c",
   "metadata": {},
   "source": [
    "<span style=\"color: orange;\">**Try it:**</span> : Declare an integer and use print() to display it. \n",
    "\n",
    "3. **Float `(float)`:** Numbers with a decimal point."
   ]
  },
  {
   "cell_type": "code",
   "execution_count": 8,
   "id": "2443074a",
   "metadata": {},
   "outputs": [],
   "source": [
    "price = 19.99\n",
    "weight = 72.5"
   ]
  },
  {
   "cell_type": "markdown",
   "id": "f7cadaa1",
   "metadata": {},
   "source": [
    "<span style=\"color: orange;\">**Try it:**</span> : Store and print a float.\n",
    "\n",
    "4. **Booleans (bool):** Only `True` or `False`. Booleans are used in logical comparisons."
   ]
  },
  {
   "cell_type": "code",
   "execution_count": 9,
   "id": "d840acf0",
   "metadata": {},
   "outputs": [],
   "source": [
    "is_student = True\n",
    "is_sunny = False"
   ]
  },
  {
   "cell_type": "markdown",
   "id": "fc3cefe1",
   "metadata": {},
   "source": [
    "<span style=\"color: orange;\">**Try it:**</span> :Create your own boolean variable and print it. Is today a weekday? 😄\n",
    "____________________________________________________________________________________________\n",
    "### <span style=\"color: #00008B;\">Operators</span> "
   ]
  },
  {
   "cell_type": "markdown",
   "id": "34308b7c",
   "metadata": {},
   "source": [
    "Operators allow you to manipulate and compare data. Let’s break it down:\n",
    "\n",
    "1. **Arithmetic Operators:** These let you perform calculations with numbers.\n",
    "\n",
    "- `+` (Addition): `5 + 3 → 8`\n",
    "- `-` (Subtraction): `10 - 6 → 4`\n",
    "- `*` (Multiplication): `4 * 2 → 8`\n",
    "- `/` (Division): `15 / 3 → 5.0`\n",
    "- `**` (Exponentiation): `2 ** 3 → 8` (2 raised to the power of 3)\n",
    "\n",
    "\n",
    "<span style=\"color: green;\">**Practical Activity**</span> \n",
    "\n",
    "Try adding, subtracting, multiplying, and dividing numbers! For example:"
   ]
  },
  {
   "cell_type": "code",
   "execution_count": 10,
   "id": "94a118cc",
   "metadata": {},
   "outputs": [
    {
     "name": "stdout",
     "output_type": "stream",
     "text": [
      "15\n",
      "4.5\n"
     ]
    }
   ],
   "source": [
    "print(10 + 5)  # Add numbers\n",
    "print(9 / 2)   # Divide numbers"
   ]
  },
  {
   "cell_type": "markdown",
   "id": "8c3a3b34",
   "metadata": {},
   "source": [
    "2. **Comparison Operators:** These compare values and return True or False.\n",
    "\n",
    "- `==` (Equal to): `5 == 5 → True`\n",
    "- `!=` (Not equal to): `3 != 4 → True`\n",
    "- `>` (Greater than): `7 > 2 → True`\n",
    "- `<` (Less than): `3 < 5 → True`\n",
    "\n",
    "<span style=\"color: green;\">**Practical Activity**</span>  \n",
    "\n",
    "Use comparison operators to check if your age is greater than a number or if a price is equal to what you expect. Example:"
   ]
  },
  {
   "cell_type": "code",
   "execution_count": 11,
   "id": "4be6bfd9",
   "metadata": {},
   "outputs": [
    {
     "name": "stdout",
     "output_type": "stream",
     "text": [
      "True\n",
      "True\n"
     ]
    }
   ],
   "source": [
    "print(10 > 5)   # Is 10 greater than 5?\n",
    "print(5 == 5)   # Is 5 equal to 5?"
   ]
  },
  {
   "cell_type": "markdown",
   "id": "d278bbdd",
   "metadata": {},
   "source": [
    "3. **Logical Operators:** These are used with booleans (`True` or `False`) to make more complex conditions.\n",
    "\n",
    "- `and`: Both conditions must be `True`.\n",
    "- `or`: At least one condition must be `True`.\n",
    "- `not`: Reverses the boolean value.\n",
    "\n",
    "**Example:**"
   ]
  },
  {
   "cell_type": "code",
   "execution_count": 12,
   "id": "23c3e4be",
   "metadata": {
    "scrolled": true
   },
   "outputs": [
    {
     "name": "stdout",
     "output_type": "stream",
     "text": [
      "False\n",
      "True\n"
     ]
    }
   ],
   "source": [
    "is_raining = False\n",
    "is_sunny = True\n",
    "print(is_raining and is_sunny)  # Both must be true\n",
    "print(is_raining or is_sunny)   # At least one is true"
   ]
  },
  {
   "cell_type": "markdown",
   "id": "f3a840f6",
   "metadata": {},
   "source": [
    "_________________________________________________________________________________________________________________________________________\n",
    "## <span style=\"color: #00008B;\">📊 Data Types, Data Sources & Data Formats</span> "
   ]
  },
  {
   "cell_type": "markdown",
   "id": "bbf16b83",
   "metadata": {},
   "source": [
    "Hey there, future Data Scientist! 👋 Today, we’re diving deep into **Data Types**, **Data Sources**, and **Data Formats**—the foundation of every data-driven project. By the end, you'll know **where data comes from, how it’s stored, and how to work with different data structures** in Python. Plus, we’ve got some hands-on practical exercises to sharpen your skills! Ready? Let’s go! 🚀\n",
    "_________________________________________________________________________________________________________________"
   ]
  },
  {
   "cell_type": "markdown",
   "id": "e704b475",
   "metadata": {},
   "source": [
    "### <span style=\"color: #00008B;\">🔹 1. Data Types: The Building Blocks of Data Science</span>"
   ]
  },
  {
   "cell_type": "markdown",
   "id": "9be88632",
   "metadata": {},
   "source": [
    "Every dataset is made up of different types of data. Understanding them helps in **data cleaning, transformation, and modeling.**\n",
    "\n",
    "**📌 Common Data Types in Python**\n",
    "\n",
    "|Data Type\t| Description\t| Example|\n",
    "|:--- |:--- |:--- |\n",
    "| Integer (`int`)\t| Whole numbers\t| `42, -7, 1000` |\n",
    "| Float (`float`)\t| Decimal numbers\t| `3.14, -2.5, 100.0` |\n",
    "| String (`str`)\t| Textual data\t| `\"hello\", \"123\", \"data science\"`|\n",
    "| Boolean (`bool`) | True/False values | `True, False` |\n",
    "| List (`list`) | Ordered collection of values | `[1, 2, 3], [\"apple\", \"banana\"]` |\n",
    "| Tuple (`tuple`)\t| Immutable collection | `(5, 10, 15)` |\n",
    "| Dictionary (`dict`) | Key-value pairs | `{\"name\": \"John\", \"age\": 25}` |\n",
    "| Set (`set`)\t| Unique unordered values |\t`{1, 2, 3, 3, 4}` |\n",
    "\n",
    "\n",
    "💡 Pro Tip: Choosing the right data type improves memory efficiency and processing speed.\n",
    "\n",
    "<span style=\"color: orange;\">**Try it!**</span> \n",
    "\n",
    "Try this out:"
   ]
  },
  {
   "cell_type": "code",
   "execution_count": 13,
   "id": "957d0d66",
   "metadata": {},
   "outputs": [
    {
     "name": "stdout",
     "output_type": "stream",
     "text": [
      "<class 'int'>\n",
      "<class 'float'>\n",
      "<class 'str'>\n",
      "<class 'list'>\n",
      "<class 'tuple'>\n",
      "<class 'dict'>\n",
      "<class 'set'>\n",
      "<class 'bool'>\n"
     ]
    }
   ],
   "source": [
    "# What will be the data type of each variable?\n",
    "x = 10\n",
    "y = 3.5\n",
    "z = \"Data Science\"\n",
    "a = [1, 2, 3, 4]\n",
    "b = (10, 20, 30)\n",
    "c = {\"name\": \"Alice\", \"age\": 25}\n",
    "d = {1, 2, 2, 3, 4}\n",
    "e = True\n",
    "\n",
    "# Print their types\n",
    "print(type(x))\n",
    "print(type(y))\n",
    "print(type(z))\n",
    "print(type(a))\n",
    "print(type(b))\n",
    "print(type(c))\n",
    "print(type(d))\n",
    "print(type(e))"
   ]
  },
  {
   "cell_type": "markdown",
   "id": "3029dc5d",
   "metadata": {},
   "source": [
    "_______________________________________________________________________________________________________________"
   ]
  },
  {
   "cell_type": "markdown",
   "id": "a3d1caeb",
   "metadata": {},
   "source": [
    "### <span style=\"color: #00008B;\"> 🌍 2. Data Sources: Where Does Data Come From?</span> \n",
    "\n",
    "Data Science wouldn't exist without data! However before we dive into data source lets explore; \n",
    "\n",
    "<span style=\"color: #00008B;\">**📌 Structured vs. Unstructured Data Sources**</span> \n",
    "\n",
    "|Type\t| Description\t| Example|\n",
    "|:--- |:--- |:--- |\n",
    "| Structured Data\t| Organized in tables/databases\t| SQL databases, Spreadsheets |\n",
    "| Unstructured Data\t| No fixed format\t| Text, Images, Videos, PDFs |\n",
    "| Semi-Structured Data\t| Partially Structured\t| JSON, XML, APIs|\n",
    "\n",
    "<span style=\"color: #00008B;\">**📌 Common Data Sources**</span> \n",
    "\n",
    "Now that we have explored different types of data gathered from the data sources, lets find out where we get our data from; \n",
    "\n",
    "- Public datasets \n",
    "- APIs\n",
    "- Webscraping \n",
    "\n",
    "Lets expand the data sources in detail; \n",
    "\n",
    "- **Public Datasets**\n",
    "\n",
    "Want free data to practice? Check these out:\n",
    "\n",
    "* [Kaggle 🏆](https://www.kaggle.com/datasets)\n",
    "* [Google Dataset Search 🔍](https://archive.ics.uci.edu/datasets/)\n",
    "* [UCI Machine Learning Repository 🎓](https://datasetsearch.research.google.com/)\n",
    "\n",
    "- **APIs (Application Programming Interfaces)**\n",
    "\n",
    "APIs let us fetch live data from platforms like Twitter, OpenWeather, and Google Maps.\n",
    "\n",
    "<span style=\"color: orange;\">**Try it!:</span> Fetching stock data from AlphaVintage API"
   ]
  },
  {
   "cell_type": "code",
   "execution_count": 14,
   "id": "800b5dc4",
   "metadata": {},
   "outputs": [
    {
     "name": "stdout",
     "output_type": "stream",
     "text": [
      "{'Meta Data': {'1. Information': 'Intraday (5min) open, high, low, close prices and volume', '2. Symbol': 'IBM', '3. Last Refreshed': '2025-02-28 19:55:00', '4. Interval': '5min', '5. Output Size': 'Compact', '6. Time Zone': 'US/Eastern'}, 'Time Series (5min)': {'2025-02-28 19:55:00': {'1. open': '252.5000', '2. high': '252.5000', '3. low': '252.0300', '4. close': '252.5000', '5. volume': '46'}, '2025-02-28 19:50:00': {'1. open': '252.5000', '2. high': '252.5000', '3. low': '252.5000', '4. close': '252.5000', '5. volume': '131'}, '2025-02-28 19:45:00': {'1. open': '252.5000', '2. high': '252.5900', '3. low': '252.4300', '4. close': '252.5000', '5. volume': '89'}, '2025-02-28 19:35:00': {'1. open': '252.4000', '2. high': '252.4000', '3. low': '252.4000', '4. close': '252.4000', '5. volume': '2'}, '2025-02-28 19:30:00': {'1. open': '252.0200', '2. high': '252.0200', '3. low': '252.0200', '4. close': '252.0200', '5. volume': '70'}, '2025-02-28 19:25:00': {'1. open': '252.0200', '2. high': '252.0200', '3. low': '252.0200', '4. close': '252.0200', '5. volume': '1'}, '2025-02-28 19:20:00': {'1. open': '252.4000', '2. high': '252.4000', '3. low': '252.4000', '4. close': '252.4000', '5. volume': '1'}, '2025-02-28 19:15:00': {'1. open': '252.5200', '2. high': '252.5200', '3. low': '252.4200', '4. close': '252.4200', '5. volume': '30'}, '2025-02-28 19:10:00': {'1. open': '252.4300', '2. high': '252.4300', '3. low': '252.4300', '4. close': '252.4300', '5. volume': '6'}, '2025-02-28 19:00:00': {'1. open': '252.4400', '2. high': '252.4400', '3. low': '252.0000', '4. close': '252.0000', '5. volume': '2397270'}, '2025-02-28 18:50:00': {'1. open': '252.4400', '2. high': '252.4400', '3. low': '252.1000', '4. close': '252.1000', '5. volume': '10'}, '2025-02-28 18:45:00': {'1. open': '252.0100', '2. high': '252.0900', '3. low': '252.0100', '4. close': '252.0100', '5. volume': '5'}, '2025-02-28 18:35:00': {'1. open': '252.0100', '2. high': '252.0110', '3. low': '252.0100', '4. close': '252.0110', '5. volume': '2'}, '2025-02-28 18:30:00': {'1. open': '252.4400', '2. high': '252.4400', '3. low': '252.4400', '4. close': '252.4400', '5. volume': '2397170'}, '2025-02-28 18:25:00': {'1. open': '252.0900', '2. high': '252.0900', '3. low': '252.0900', '4. close': '252.0900', '5. volume': '4'}, '2025-02-28 18:10:00': {'1. open': '252.4400', '2. high': '252.4400', '3. low': '252.4400', '4. close': '252.4400', '5. volume': '30'}, '2025-02-28 18:05:00': {'1. open': '252.2500', '2. high': '252.4400', '3. low': '252.2000', '4. close': '252.4400', '5. volume': '35'}, '2025-02-28 18:00:00': {'1. open': '252.2400', '2. high': '252.2400', '3. low': '252.2400', '4. close': '252.2400', '5. volume': '1'}, '2025-02-28 17:55:00': {'1. open': '252.4293', '2. high': '252.4293', '3. low': '252.0200', '4. close': '252.0200', '5. volume': '11'}, '2025-02-28 17:50:00': {'1. open': '252.4300', '2. high': '252.4300', '3. low': '252.0101', '4. close': '252.0101', '5. volume': '4'}, '2025-02-28 17:40:00': {'1. open': '252.4400', '2. high': '252.4400', '3. low': '252.4400', '4. close': '252.4400', '5. volume': '16'}, '2025-02-28 17:30:00': {'1. open': '251.7000', '2. high': '252.0001', '3. low': '251.7000', '4. close': '252.0001', '5. volume': '11'}, '2025-02-28 17:25:00': {'1. open': '250.2000', '2. high': '250.2000', '3. low': '250.2000', '4. close': '250.2000', '5. volume': '1'}, '2025-02-28 17:15:00': {'1. open': '252.3280', '2. high': '252.3280', '3. low': '250.2000', '4. close': '250.2000', '5. volume': '2'}, '2025-02-28 17:10:00': {'1. open': '252.4300', '2. high': '252.4300', '3. low': '252.4300', '4. close': '252.4300', '5. volume': '6'}, '2025-02-28 17:05:00': {'1. open': '252.3900', '2. high': '252.4400', '3. low': '252.3900', '4. close': '252.4400', '5. volume': '4'}, '2025-02-28 17:00:00': {'1. open': '251.1995', '2. high': '252.4000', '3. low': '251.1995', '4. close': '252.3900', '5. volume': '58'}, '2025-02-28 16:55:00': {'1. open': '252.4400', '2. high': '252.4400', '3. low': '251.9400', '4. close': '251.9400', '5. volume': '62904'}, '2025-02-28 16:50:00': {'1. open': '252.0000', '2. high': '252.0000', '3. low': '252.0000', '4. close': '252.0000', '5. volume': '10'}, '2025-02-28 16:45:00': {'1. open': '252.6200', '2. high': '252.6200', '3. low': '252.0000', '4. close': '252.0000', '5. volume': '418'}, '2025-02-28 16:40:00': {'1. open': '252.4000', '2. high': '252.4000', '3. low': '252.4000', '4. close': '252.4000', '5. volume': '1'}, '2025-02-28 16:35:00': {'1. open': '252.0700', '2. high': '252.4488', '3. low': '252.0000', '4. close': '252.0000', '5. volume': '202605'}, '2025-02-28 16:30:00': {'1. open': '252.4400', '2. high': '252.9900', '3. low': '252.4400', '4. close': '252.4400', '5. volume': '80066'}, '2025-02-28 16:25:00': {'1. open': '252.5200', '2. high': '252.9203', '3. low': '252.4122', '4. close': '252.9203', '5. volume': '13975'}, '2025-02-28 16:20:00': {'1. open': '252.4400', '2. high': '252.4703', '3. low': '252.4000', '4. close': '252.4703', '5. volume': '5483'}, '2025-02-28 16:15:00': {'1. open': '252.4400', '2. high': '252.4400', '3. low': '250.2000', '4. close': '252.4400', '5. volume': '113340'}, '2025-02-28 16:10:00': {'1. open': '252.4400', '2. high': '252.9900', '3. low': '251.7000', '4. close': '252.9900', '5. volume': '2402869'}, '2025-02-28 16:05:00': {'1. open': '252.4400', '2. high': '252.4400', '3. low': '251.9400', '4. close': '252.4400', '5. volume': '105743'}, '2025-02-28 16:00:00': {'1. open': '252.4600', '2. high': '252.9900', '3. low': '252.1800', '4. close': '252.5700', '5. volume': '5366815'}, '2025-02-28 15:55:00': {'1. open': '252.0300', '2. high': '252.8099', '3. low': '251.9500', '4. close': '252.5700', '5. volume': '361286'}, '2025-02-28 15:50:00': {'1. open': '251.2800', '2. high': '252.0000', '3. low': '251.1500', '4. close': '252.0000', '5. volume': '167524'}, '2025-02-28 15:45:00': {'1. open': '251.1400', '2. high': '251.5000', '3. low': '251.0700', '4. close': '251.2200', '5. volume': '83029'}, '2025-02-28 15:40:00': {'1. open': '250.8575', '2. high': '251.4200', '3. low': '250.8200', '4. close': '251.1050', '5. volume': '51334'}, '2025-02-28 15:35:00': {'1. open': '250.3500', '2. high': '250.9800', '3. low': '250.3500', '4. close': '250.8550', '5. volume': '41158'}, '2025-02-28 15:30:00': {'1. open': '250.6400', '2. high': '250.8500', '3. low': '250.3300', '4. close': '250.3500', '5. volume': '43039'}, '2025-02-28 15:25:00': {'1. open': '250.2200', '2. high': '250.8000', '3. low': '250.2200', '4. close': '250.6300', '5. volume': '39436'}, '2025-02-28 15:20:00': {'1. open': '250.5200', '2. high': '250.5400', '3. low': '249.8800', '4. close': '250.2000', '5. volume': '79327'}, '2025-02-28 15:15:00': {'1. open': '250.8000', '2. high': '250.9450', '3. low': '250.5100', '4. close': '250.6100', '5. volume': '52506'}, '2025-02-28 15:10:00': {'1. open': '250.4050', '2. high': '250.9000', '3. low': '250.2100', '4. close': '250.8550', '5. volume': '93311'}, '2025-02-28 15:05:00': {'1. open': '249.9800', '2. high': '250.5100', '3. low': '249.7900', '4. close': '250.4000', '5. volume': '36903'}, '2025-02-28 15:00:00': {'1. open': '249.3850', '2. high': '249.9500', '3. low': '249.3675', '4. close': '249.8800', '5. volume': '69510'}, '2025-02-28 14:55:00': {'1. open': '249.3250', '2. high': '249.7500', '3. low': '249.2600', '4. close': '249.3300', '5. volume': '61460'}, '2025-02-28 14:50:00': {'1. open': '249.5600', '2. high': '249.6300', '3. low': '249.0700', '4. close': '249.3300', '5. volume': '39407'}, '2025-02-28 14:45:00': {'1. open': '249.4850', '2. high': '249.6200', '3. low': '249.2800', '4. close': '249.6200', '5. volume': '28837'}, '2025-02-28 14:40:00': {'1. open': '249.4100', '2. high': '249.7600', '3. low': '248.9900', '4. close': '249.4850', '5. volume': '53739'}, '2025-02-28 14:35:00': {'1. open': '248.7050', '2. high': '249.4900', '3. low': '248.6750', '4. close': '249.3300', '5. volume': '40114'}, '2025-02-28 14:30:00': {'1. open': '248.2000', '2. high': '248.7600', '3. low': '247.9200', '4. close': '248.7050', '5. volume': '58783'}, '2025-02-28 14:25:00': {'1. open': '247.9435', '2. high': '248.2800', '3. low': '247.8300', '4. close': '248.2450', '5. volume': '52272'}, '2025-02-28 14:20:00': {'1. open': '248.1300', '2. high': '248.1450', '3. low': '247.6000', '4. close': '247.9450', '5. volume': '20843'}, '2025-02-28 14:15:00': {'1. open': '247.5200', '2. high': '248.1400', '3. low': '247.5200', '4. close': '248.1400', '5. volume': '37851'}, '2025-02-28 14:10:00': {'1. open': '247.7300', '2. high': '247.9300', '3. low': '247.5000', '4. close': '247.5200', '5. volume': '35736'}, '2025-02-28 14:05:00': {'1. open': '247.7400', '2. high': '247.9895', '3. low': '247.6000', '4. close': '247.7000', '5. volume': '30044'}, '2025-02-28 14:00:00': {'1. open': '247.6900', '2. high': '248.2400', '3. low': '247.6000', '4. close': '247.7350', '5. volume': '48145'}, '2025-02-28 13:55:00': {'1. open': '248.3900', '2. high': '248.4900', '3. low': '247.6000', '4. close': '247.6800', '5. volume': '94492'}, '2025-02-28 13:50:00': {'1. open': '248.9050', '2. high': '248.9400', '3. low': '248.2800', '4. close': '248.3900', '5. volume': '79381'}, '2025-02-28 13:45:00': {'1. open': '249.1800', '2. high': '249.1900', '3. low': '248.7500', '4. close': '248.7523', '5. volume': '35542'}, '2025-02-28 13:40:00': {'1. open': '249.2600', '2. high': '249.5900', '3. low': '248.7400', '4. close': '249.0800', '5. volume': '40991'}, '2025-02-28 13:35:00': {'1. open': '248.8500', '2. high': '249.4700', '3. low': '248.7800', '4. close': '249.2600', '5. volume': '57174'}, '2025-02-28 13:30:00': {'1. open': '248.6600', '2. high': '248.8800', '3. low': '248.4400', '4. close': '248.8800', '5. volume': '25117'}, '2025-02-28 13:25:00': {'1. open': '247.7050', '2. high': '248.7600', '3. low': '247.7050', '4. close': '248.7600', '5. volume': '36976'}, '2025-02-28 13:20:00': {'1. open': '247.7600', '2. high': '248.0300', '3. low': '247.5600', '4. close': '247.6100', '5. volume': '21323'}, '2025-02-28 13:15:00': {'1. open': '248.4300', '2. high': '248.5000', '3. low': '247.5924', '4. close': '247.7750', '5. volume': '41272'}, '2025-02-28 13:10:00': {'1. open': '248.1500', '2. high': '248.4199', '3. low': '248.1000', '4. close': '248.4000', '5. volume': '16847'}, '2025-02-28 13:05:00': {'1. open': '247.9600', '2. high': '248.2500', '3. low': '247.9200', '4. close': '248.2500', '5. volume': '36138'}, '2025-02-28 13:00:00': {'1. open': '247.9900', '2. high': '248.3299', '3. low': '247.9900', '4. close': '248.0000', '5. volume': '18853'}, '2025-02-28 12:55:00': {'1. open': '248.2910', '2. high': '248.4500', '3. low': '247.8400', '4. close': '248.0000', '5. volume': '26755'}, '2025-02-28 12:50:00': {'1. open': '248.0150', '2. high': '248.4200', '3. low': '247.8400', '4. close': '248.2900', '5. volume': '25831'}, '2025-02-28 12:45:00': {'1. open': '248.6600', '2. high': '248.7600', '3. low': '247.9300', '4. close': '248.0700', '5. volume': '41125'}, '2025-02-28 12:40:00': {'1. open': '249.2300', '2. high': '249.2300', '3. low': '248.5200', '4. close': '248.6700', '5. volume': '28363'}, '2025-02-28 12:35:00': {'1. open': '249.4150', '2. high': '249.4400', '3. low': '249.0000', '4. close': '249.2000', '5. volume': '31270'}, '2025-02-28 12:30:00': {'1. open': '249.5400', '2. high': '249.5699', '3. low': '249.2100', '4. close': '249.3408', '5. volume': '52032'}, '2025-02-28 12:25:00': {'1. open': '249.6350', '2. high': '249.7100', '3. low': '249.4600', '4. close': '249.5800', '5. volume': '27884'}, '2025-02-28 12:20:00': {'1. open': '250.5400', '2. high': '250.5400', '3. low': '249.5600', '4. close': '249.6350', '5. volume': '43494'}, '2025-02-28 12:15:00': {'1. open': '250.3900', '2. high': '250.5979', '3. low': '250.1800', '4. close': '250.4350', '5. volume': '26095'}, '2025-02-28 12:10:00': {'1. open': '250.3700', '2. high': '250.6100', '3. low': '250.2401', '4. close': '250.4675', '5. volume': '15478'}, '2025-02-28 12:05:00': {'1. open': '249.9750', '2. high': '250.3925', '3. low': '249.9000', '4. close': '250.3550', '5. volume': '91500'}, '2025-02-28 12:00:00': {'1. open': '250.2300', '2. high': '250.4864', '3. low': '249.9500', '4. close': '249.9750', '5. volume': '30880'}, '2025-02-28 11:55:00': {'1. open': '250.3900', '2. high': '250.4100', '3. low': '249.9100', '4. close': '250.1600', '5. volume': '24963'}, '2025-02-28 11:50:00': {'1. open': '250.4000', '2. high': '250.4900', '3. low': '250.1500', '4. close': '250.4900', '5. volume': '18969'}, '2025-02-28 11:45:00': {'1. open': '250.0700', '2. high': '250.4700', '3. low': '249.9176', '4. close': '250.4084', '5. volume': '22028'}, '2025-02-28 11:40:00': {'1. open': '249.7700', '2. high': '250.0600', '3. low': '249.7000', '4. close': '250.0400', '5. volume': '23564'}, '2025-02-28 11:35:00': {'1. open': '249.3800', '2. high': '249.8700', '3. low': '249.2300', '4. close': '249.7300', '5. volume': '21379'}, '2025-02-28 11:30:00': {'1. open': '248.5900', '2. high': '249.4400', '3. low': '248.5700', '4. close': '249.3400', '5. volume': '22164'}, '2025-02-28 11:25:00': {'1. open': '248.8250', '2. high': '248.9600', '3. low': '248.5000', '4. close': '248.6100', '5. volume': '34508'}, '2025-02-28 11:20:00': {'1. open': '249.2400', '2. high': '249.5500', '3. low': '248.7600', '4. close': '248.8250', '5. volume': '20775'}, '2025-02-28 11:15:00': {'1. open': '249.3550', '2. high': '249.4500', '3. low': '248.7500', '4. close': '249.1550', '5. volume': '58269'}, '2025-02-28 11:10:00': {'1. open': '249.8000', '2. high': '249.8500', '3. low': '249.1257', '4. close': '249.4400', '5. volume': '32191'}, '2025-02-28 11:05:00': {'1. open': '250.1775', '2. high': '250.4600', '3. low': '249.7400', '4. close': '249.8000', '5. volume': '56224'}, '2025-02-28 11:00:00': {'1. open': '250.1275', '2. high': '250.5300', '3. low': '249.9500', '4. close': '250.3150', '5. volume': '31067'}, '2025-02-28 10:55:00': {'1. open': '249.9650', '2. high': '250.2300', '3. low': '249.8000', '4. close': '250.2300', '5. volume': '34931'}}}\n"
     ]
    }
   ],
   "source": [
    "# Secure API key \n",
    "## export API_KEY=\"your_api_key_here\" # linux\n",
    "## set API_KEY=your_api_key_here # windows\n",
    "\n",
    "# Access the API Key \n",
    "import os\n",
    "api_key = os.getenv('API_KEY') # Read the API key from the environment variable\n",
    "\n",
    "# Fetch the data\n",
    "import requests\n",
    "\n",
    "# replace the \"with your own API key\" apikey below with your own key from https://www.alphavantage.co/support/#api-key\n",
    "url = f'https://www.alphavantage.co/query?function=TIME_SERIES_INTRADAY&symbol=IBM&interval=5min&apikey={api_key}'\n",
    "r = requests.get(url)\n",
    "data = r.json()\n",
    "\n",
    "print(data)"
   ]
  },
  {
   "cell_type": "markdown",
   "id": "8907c8a8",
   "metadata": {},
   "source": [
    "💡 **Pro Tip:** Always check an API’s documentation to understand how to request and process data. For instance the API documentation for AlphaVintage can be found [here](https://www.alphavantage.co/documentation/)\n",
    "\n",
    "<span style=\"color: green;\">**Practical Exercise**</span>: Fetch Data from a Public API\n",
    "\n",
    "Modify the above code to fetch data from another API (e.g., CoinGecko API for cryptocurrency prices)."
   ]
  },
  {
   "cell_type": "code",
   "execution_count": 15,
   "id": "a33aaa81",
   "metadata": {},
   "outputs": [
    {
     "name": "stdout",
     "output_type": "stream",
     "text": [
      "Bitcoin Price: $85854\n"
     ]
    }
   ],
   "source": [
    "import requests\n",
    "\n",
    "url = \"https://api.coingecko.com/api/v3/simple/price?ids=bitcoin&vs_currencies=usd\"\n",
    "\n",
    "response = requests.get(url)\n",
    "data = response.json()\n",
    "\n",
    "print(f\"Bitcoin Price: ${data['bitcoin']['usd']}\")\n"
   ]
  },
  {
   "cell_type": "markdown",
   "id": "a6d9530f",
   "metadata": {},
   "source": [
    "<span style=\"color: #00008B;\">**📌 Data Formats: How is Data Stored?**</span> \n",
    "    \n",
    "|Format\t| Description\t| Example|\n",
    "|:--- |:--- |:--- |\n",
    "| CSV (Comma-Separated Values)\t| Plain text format for tabular data\t| `data.csv` |\n",
    "| JSON (JavaScript Object Notation)\t| Lightweight data format, used in APIs\t| `data.json` |\n",
    "| XML (eXtensible Markup Language)\t| Used for structured data storage\t| `data.xml`|\n",
    "| Parquet | Optimized for big data | data.parquet |"
   ]
  },
  {
   "cell_type": "markdown",
   "id": "0b9fd058",
   "metadata": {},
   "source": [
    "## <span style=\"color: #00008B;\">🚀 Conditional Statements & Loops in Python</span>"
   ]
  },
  {
   "cell_type": "code",
   "execution_count": null,
   "id": "dad91f32",
   "metadata": {},
   "outputs": [],
   "source": []
  },
  {
   "cell_type": "code",
   "execution_count": null,
   "id": "869a5c23",
   "metadata": {},
   "outputs": [],
   "source": []
  },
  {
   "cell_type": "code",
   "execution_count": null,
   "id": "e61156a9",
   "metadata": {},
   "outputs": [],
   "source": []
  },
  {
   "cell_type": "markdown",
   "id": "2e2d941d",
   "metadata": {},
   "source": [
    "## <span style=\"color: #00008B;\">🚀 Functions in Python</span>"
   ]
  },
  {
   "cell_type": "code",
   "execution_count": null,
   "id": "8651c93a",
   "metadata": {},
   "outputs": [],
   "source": []
  },
  {
   "cell_type": "code",
   "execution_count": null,
   "id": "d1080997",
   "metadata": {},
   "outputs": [],
   "source": []
  },
  {
   "cell_type": "code",
   "execution_count": null,
   "id": "cdc031ca",
   "metadata": {},
   "outputs": [],
   "source": []
  },
  {
   "cell_type": "markdown",
   "id": "161a761c",
   "metadata": {},
   "source": [
    "## <span style=\"color: #00008B;\">🚀 Python Lambda</span>"
   ]
  },
  {
   "cell_type": "code",
   "execution_count": null,
   "id": "8819e37c",
   "metadata": {},
   "outputs": [],
   "source": []
  },
  {
   "cell_type": "code",
   "execution_count": null,
   "id": "082d46b8",
   "metadata": {},
   "outputs": [],
   "source": []
  },
  {
   "cell_type": "code",
   "execution_count": null,
   "id": "c5a1b9c8",
   "metadata": {},
   "outputs": [],
   "source": []
  },
  {
   "cell_type": "markdown",
   "id": "b56df0dd",
   "metadata": {},
   "source": [
    "## <span style=\"color: #00008B;\">🚀 Error Handling in Python - Try ...Except</span>"
   ]
  },
  {
   "cell_type": "code",
   "execution_count": null,
   "id": "ed0ed6d6",
   "metadata": {},
   "outputs": [],
   "source": []
  },
  {
   "cell_type": "code",
   "execution_count": null,
   "id": "72776148",
   "metadata": {},
   "outputs": [],
   "source": []
  },
  {
   "cell_type": "code",
   "execution_count": null,
   "id": "1d3281eb",
   "metadata": {},
   "outputs": [],
   "source": []
  },
  {
   "cell_type": "markdown",
   "id": "6cc0e73f",
   "metadata": {},
   "source": [
    "_________________________________________________________________________________\n",
    "## <span style=\"color: #00008B;\">📊 Data collection methods and data ethics 🤖⚖️.</span>\n",
    "\n",
    "Welcome to one of the most important aspects of Data Science—Data Collection & Ethics! 🏆\n",
    "\n",
    "Why does it matter? Because garbage in = garbage out! 🚮 If your data is unreliable or collected unethically, no fancy AI model will save you.\n",
    "\n",
    "<span style=\"color: #00008B;\">**How Do We Collect Data?** </span>\n",
    "\n",
    "Data doesn’t magically appear—we gather it through different methods. Let’s explore the most common ones:\n",
    "\n",
    "- Manual data collection --Surveys (Google Forms, Typeform), Interviews, Observations\n",
    "- Web Scraping - Used to access large data sets from the web but before doing so, read the `robot.txt` file from the internet. \n",
    "- APIs\n",
    "- Public Data sets like Kaggle.com provide freely available data set though it's accuracy is not guaranteed. It is used for learning but not tacking a read-world problem!\n",
    "\n",
    "<span style=\"color: #00008B;\">**⚖️ Data Ethics: The Rules of the Game**</span>\n",
    "\n",
    "With great data power comes great responsibility! 🦸‍♂️ Let’s discuss ethical data collection. Here is what you should consider before collecting data; \n",
    "\n",
    "- *Informed Consent* - People should know when their data is being collected & how it will be used. No sneaky business! For instance websites ask for cookie permissions before tracking your behavior.\n",
    "- *Privacy & Anonymity* - Never collect personal data (names, emails, health records) without protecting it. It is advised that you store anonymized customer purchase history. It is unethical to sell personal phone numbers to advertisers. \n",
    "- *Avoid Bias & Discrimination** - Collected data should cover diverse backgrounds, this is important when training an AI model to be fair and just when making decisions. \n",
    "- *Data Security* - Always encrypt & protect data from hackers.\n",
    "\n",
    "**Ethical or Not?**\n",
    "\n",
    "- Company collects user data without consent.\n",
    "- A researcher anonymizes survey responses before sharing.\n",
    "- An AI hiring model favors one race/gender over another.\n",
    "-  A business buys customer emails from a third party."
   ]
  }
 ],
 "metadata": {
  "kernelspec": {
   "display_name": "Python 3 (ipykernel)",
   "language": "python",
   "name": "python3"
  },
  "language_info": {
   "codemirror_mode": {
    "name": "ipython",
    "version": 3
   },
   "file_extension": ".py",
   "mimetype": "text/x-python",
   "name": "python",
   "nbconvert_exporter": "python",
   "pygments_lexer": "ipython3",
   "version": "3.11.5"
  }
 },
 "nbformat": 4,
 "nbformat_minor": 5
}
