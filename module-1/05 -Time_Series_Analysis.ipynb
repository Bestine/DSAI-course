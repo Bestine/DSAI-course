{
 "cells": [
  {
   "attachments": {},
   "cell_type": "markdown",
   "id": "f2fb6f71-cd22-4bf0-8ab5-15a1e0278467",
   "metadata": {},
   "source": [
    "![](../images/logos/KIEPSKIES.jpg)\n",
    "\n",
    "# TIME SERIES ANALYSIS \n",
    "## 1. Introduction to Time Series\n",
    "\n",
    "- What is a time series?\n",
    "- Examples of time series data (e.g., stock prices, weather data, sales data).\n",
    "- Difference between time series data vs. cross-sectional data.\n",
    "- Importance of time series analysis in business, economics, and science.\n",
    "\n",
    "\n",
    "**Scenario**\n",
    "\n",
    "Imagine you're tracking your daily steps on a fitness app. Over time, you notice patterns—maybe you walk more on weekends or hit fewer steps on rainy days. This kind of data, recorded at consistent time intervals, is called time series data.\n",
    "\n",
    "**What is Time Series?**\n",
    "\n",
    "A time series is simply a sequence of data points collected over time. Each observation is linked to a specific timestamp — whether it's seconds, minutes, days, months, or years. Unlike a random collection of numbers, time series data has an order, and that order matters.\n",
    "\n",
    "**Examples of Time Series Data** \n",
    "\n",
    "Time series data is everywhere! Here are some common examples:\n",
    "\n",
    "* Stock Prices – How Apple’s stock fluctuates daily.\n",
    "* Weather Patterns – Daily temperature changes over a year.\n",
    "* Sales Data – Monthly revenue of an e-commerce store.\n",
    "* Heart Rate Monitoring – Data from a smartwatch tracking your pulse.\n",
    "\n",
    "**Time Series vs. Cross-Sectional Data**\n",
    "\n",
    "*Time Series Data tracks* the same variable over different time periods. (E.g., daily stock prices of Tesla for one year.)\n",
    "\n",
    "*Cross-Sectional Data* captures multiple variables at a single point in time. (E.g., income levels of 1,000 people in 2024.)\n",
    "\n",
    "**Why is Time Series Analysis Important?**\n",
    "\n",
    "Understanding time series data helps us:\n",
    "\n",
    "📈 Predict the future (e.g., will Bitcoin rise next month?).\n",
    "📊 Identify trends (e.g., is global warming getting worse?).\n",
    "⚡ Make smarter business decisions (e.g., when should a store restock its inventory?).\n",
    "\n",
    "Whether you're forecasting sales, detecting fraud, or analyzing climate change, time series analysis is a powerful tool. Ready to dive deeper? Let’s explore! 🚀\n",
    "\n",
    "**Components of Time Series** \n",
    "\n",
    "![](../images/time-series-components.png)\n",
    "\n",
    "The above graph represents an example of a time series data. To understand the underlying structure in time series, it is broken down into three components; trend, seasonality and noise. These components characterize the pattern and behavior of data over time. \n",
    "\n",
    "1. *Trend*; This will show the general direction of data whether it is upward(increasing) or downward(decreasing). They indicate long-term movement depicting overall growth or decline. The above chart shows that there was an overall growth(upward trend) over the year\n",
    "2. *Seasonality*; It is the predictable pattern that appear regularly. In the chart above there is a quarterly rise and drop of values.\n",
    "3. *Cycles*; represents the fluctuations that don't have a fixed period.\n",
    "4. *Noise/Irregularity*; its is the residual variability of data that has no explanations by the factors affecting the trend. The variability is always small compared to the trend and cycle. "
   ]
  },
  {
   "cell_type": "markdown",
   "id": "a5d985ae-844a-45d0-ad45-caceec3c9aa1",
   "metadata": {
    "jp-MarkdownHeadingCollapsed": true
   },
   "source": [
    "## 2. Time Series Data Manipulation in Python\n",
    "\n",
    "- Importing time series data using pandas.\n",
    "- Parsing dates and handling datetime objects.\n",
    "- Resampling and frequency conversion (e.g., daily to monthly).\n",
    "- Handling missing data in time series.\n",
    "\n",
    "**1. Importing Time Series Data with Pandas**\n",
    "\n",
    "First, we need to load our dataset. If you have a CSV file containing Facebook stock data, let’s bring it into Python using pandas:"
   ]
  },
  {
   "cell_type": "code",
   "execution_count": null,
   "id": "267a4fcf-5811-4998-bed2-0d42e804ed98",
   "metadata": {},
   "outputs": [],
   "source": [
    "import pandas as pd  \n",
    "\n",
    "# Load the dataset (assuming it has a 'Date' column and 'Open' price)\n",
    "df = pd.read_csv(\"../data/meta-stocks.csv\")  \n",
    "\n",
    "# Display the first few rows\n",
    "df.head()"
   ]
  },
  {
   "cell_type": "markdown",
   "id": "24503346-84c4-4bb9-b73e-5b381e8bda8b",
   "metadata": {},
   "source": [
    "**2. Parsing Dates and Handling Datetime Objects**\n",
    "\n",
    "Time series data is all about time, so we need to convert the 'Date' column into a proper datetime object."
   ]
  },
  {
   "cell_type": "code",
   "execution_count": null,
   "id": "f2ba9dff-2774-42da-b39c-50588422ed6f",
   "metadata": {},
   "outputs": [],
   "source": [
    "# Supress Python Warning - Not important for the course\n",
    "import warnings\n",
    "\n",
    "warnings.filterwarnings(\"ignore\")"
   ]
  },
  {
   "cell_type": "code",
   "execution_count": null,
   "id": "4d81f50a-8640-4748-a8e8-e19a38033e57",
   "metadata": {},
   "outputs": [],
   "source": [
    "# Convert 'Date' column to datetime format\n",
    "df['Date'] = pd.to_datetime(df['Date'])\n",
    "\n",
    "# Set the date column as the index\n",
    "df.set_index('Date', inplace=True)\n",
    "\n",
    "# Check the data types\n",
    "df.info()"
   ]
  },
  {
   "cell_type": "markdown",
   "id": "98d6c48b-6f84-485a-b3e0-24b53057f5d6",
   "metadata": {},
   "source": [
    "**3. Resampling and Frequency Conversion**\n",
    "\n",
    "Sometimes, we don’t want daily data—we might want monthly trends instead. We can resample the dataset from daily to monthly:"
   ]
  },
  {
   "cell_type": "code",
   "execution_count": null,
   "id": "835fa891-1486-40e0-a965-33b0f43371fa",
   "metadata": {},
   "outputs": [],
   "source": [
    "# Resample to monthly open prices (taking the first open price of each month)\n",
    "# df_monthly = df['Open'].resample('M').first()\n",
    "\n",
    "# # Display the first few rows\n",
    "# df_monthly.head()"
   ]
  },
  {
   "cell_type": "markdown",
   "id": "61ffd620-569e-44fe-93d3-8a213de0ed64",
   "metadata": {},
   "source": [
    "**4. Handling Missing Data in Time Series**\n",
    "\n",
    "Stock market data can have missing values due to holidays or technical issues. Let's check for missing data:"
   ]
  },
  {
   "cell_type": "code",
   "execution_count": null,
   "id": "99801b14-5471-4a5f-b668-0e1903132514",
   "metadata": {},
   "outputs": [],
   "source": [
    "# Check for missing values\n",
    "print(df.isnull().sum())"
   ]
  },
  {
   "attachments": {},
   "cell_type": "markdown",
   "id": "61eb9467-89b6-422f-ae69-03ea73f82457",
   "metadata": {
    "jp-MarkdownHeadingCollapsed": true
   },
   "source": [
    "## 3.  Exploratory Data Analysis (EDA) for Time Series\n",
    "\n",
    "- Visualizing trends and patterns using Matplotlib and Seaborn.\n",
    "- Identifying seasonality, trend, and irregularities.\n",
    "- Moving averages and smoothing techniques.\n",
    "- Detecting outliers in time series data.\n",
    "\n",
    "Now that we’ve ensured that our stock prices is clean and structured, it’s time to explore and analyze the data! This step helps us understand patterns, trends, seasonality, and anomalies before diving into forecasting. Lets begin our visual analysis; \n",
    "\n",
    "**Step 1:** *Visualizing trends and patterns*\n",
    "\n",
    "A quick way to spot patterns in time series data is by plotting it! Let’s use Matplotlib and Seaborn to visualize the daily open prices of Facebook stocks."
   ]
  },
  {
   "cell_type": "code",
   "execution_count": null,
   "id": "a08e920b-5584-4112-b3ee-efc0f2927c3a",
   "metadata": {},
   "outputs": [],
   "source": [
    "import matplotlib.pyplot as plt\n",
    "import seaborn as sns\n",
    "\n",
    "# Set plot style\n",
    "sns.set()\n",
    "\n",
    "# Plot the Open prices over time\n",
    "plt.figure(figsize=(12, 6))\n",
    "plt.plot(df.index, df['Open'], color='blue', label='Daily Open Price')\n",
    "plt.xlabel(\"Date\")\n",
    "plt.ylabel(\"Stock Price (USD)\")\n",
    "plt.title(\"Facebook Daily Open Stock Prices Over Time\")\n",
    "plt.legend()\n",
    "plt.show()"
   ]
  },
  {
   "attachments": {},
   "cell_type": "markdown",
   "id": "5a8000c0-8d8a-4428-b607-b4ede3be9a4c",
   "metadata": {},
   "source": [
    "<span style=\"color: #00008B;\">**What to Look For?**</span> \n",
    "\n",
    "- Is the stock price increasing or decreasing over time? (Trend)\n",
    "- Are there repeating patterns every month, quarter, or year? (Seasonality)\n",
    "- Are there sudden jumps or drops? (Irregularities & Outliers)\n",
    "\n",
    "**Step 2:** *Identifying seasonality, trend, and irregularities.*\n",
    "\n",
    "Our Facebook Time series data will be decomposed down into three components:\n",
    "\n",
    "- *Trend* - The overall direction of the data (upward/downward).\n",
    "- *Seasonality* - Repeating patterns at fixed time intervals (e.g., yearly trends).\n",
    "- *Residual (Irregularity)* - Random fluctuations that don’t follow a trend or seasonal pattern.\n",
    "\n",
    "The `statsmodels` package is used to decompose the time series data:"
   ]
  },
  {
   "cell_type": "code",
   "execution_count": null,
   "id": "efd6d96b-aed4-4a9b-afb7-45f8f6c958a0",
   "metadata": {},
   "outputs": [],
   "source": [
    "from statsmodels.tsa.seasonal import seasonal_decompose\n",
    "\n",
    "# Decompose the time series\n",
    "decomposition = seasonal_decompose(df['Open'], model='additive', period=30)\n",
    "\n",
    "# Plot the decomposition\n",
    "plt.figure(figsize=(12, 8))\n",
    "\n",
    "plt.subplot(4, 1, 1)\n",
    "plt.plot(df['Open'], label='Original', color='blue')\n",
    "plt.legend(loc='upper left')\n",
    "\n",
    "plt.subplot(4, 1, 2)\n",
    "plt.plot(decomposition.trend, label='Trend', color='red')\n",
    "plt.legend(loc='upper left')\n",
    "\n",
    "plt.subplot(4, 1, 3)\n",
    "plt.plot(decomposition.seasonal, label='Seasonality', color='green')\n",
    "plt.legend(loc='upper left')\n",
    "\n",
    "plt.subplot(4, 1, 4)\n",
    "plt.plot(decomposition.resid, label='Residuals', color='purple')\n",
    "plt.legend(loc='upper left')\n",
    "\n",
    "plt.tight_layout()\n",
    "plt.show()"
   ]
  },
  {
   "cell_type": "markdown",
   "id": "a8c01a84-5311-43dd-a643-fb41be9e04cd",
   "metadata": {},
   "source": [
    "<span style=\"color: #00008B;\">**Interpretation**</span>\n",
    "\n",
    "- The trend line shows that the Facebook’s stock price is increasing over time. Stock price increased from approx 200USD to above 600USD\n",
    "- The seasonal component revealed the repeating patterns in stock movements. There is temporary fall and rise of stocks by +/- ve 2 USDs\n",
    "- The residuals captured unexpected fluctuations (e.g., stock crashes or spikes). Some days there were stock crash of upto 50USD in a single day which is unexpected"
   ]
  },
  {
   "cell_type": "markdown",
   "id": "0ec422ca-c16f-4df2-9665-f6c0bb8a7909",
   "metadata": {},
   "source": [
    "**Step 3:** *Moving averages and smoothing techniques.*\n",
    "\n",
    "Stock prices fluctuate daily, making it hard to see long-term trends. A moving average (MA) smooths out short-term noise to reveal clearer patterns."
   ]
  },
  {
   "cell_type": "code",
   "execution_count": null,
   "id": "1a43b1aa-0001-4df4-99df-606e3b715c35",
   "metadata": {},
   "outputs": [],
   "source": [
    "# SIMPLE MOVING AVERAGE (SMA)\n",
    "\n",
    "## Compute 30-day moving average\n",
    "df['30-day SMA'] = df['Open'].rolling(window=30).mean()\n",
    "\n",
    "# Plot the original and smoothed data\n",
    "plt.figure(figsize=(12, 6))\n",
    "plt.plot(df['Open'], label='Daily Open Price', color='blue', alpha=0.6)\n",
    "plt.plot(df['30-day SMA'], label='30-Day Moving Average', color='red')\n",
    "plt.xlabel(\"Date\")\n",
    "plt.ylabel(\"Stock Price (USD)\")\n",
    "plt.title(\"Facebook Stock Prices with 30-Day Moving Average\")\n",
    "plt.legend()\n",
    "plt.show()"
   ]
  },
  {
   "cell_type": "markdown",
   "id": "0bf3db46-3b4f-4601-8c86-3cb6cd4c377f",
   "metadata": {},
   "source": [
    "<span style=\"color: #00008B;\">**What Does This Do?**</span> \n",
    "\n",
    "- The original daily prices are shown in blue.\n",
    "- The red line (SMA) smooths out short-term fluctuations and reveals trends.\n",
    "\n",
    "Other smoothing techniques include:\n",
    "\n",
    "* *Exponential Moving Average (EMA)*: (gives more weight to recent data).\n",
    "* *Weighted Moving Average (WMA)*: (applies different weights to past values).\n"
   ]
  },
  {
   "attachments": {},
   "cell_type": "markdown",
   "id": "05eb1d12-a9a2-4b79-a6bf-2fa98c58cbb0",
   "metadata": {
    "jp-MarkdownHeadingCollapsed": true
   },
   "source": [
    "## 4. Stationarity and Differencing\n",
    "\n",
    "- What is stationarity, and why is it important?\n",
    "- Augmented Dickey-Fuller (ADF) Test for stationarity.\n",
    "- Differencing techniques to remove trends and make data stationary.\n",
    "\n",
    "Now that we’ve decomposed Facebook stock prices into trends, seasonality, and residuals, it’s time to check if our data is stationary!\n",
    "\n",
    "<span style=\"color: #00008B;\">**What is Stationarity, and Why is it Important?**</span>\n",
    "\n",
    "A stationary time series is one where:\n",
    "- The mean (average value) remains constant over time.\n",
    "- The variance (spread of values) stays consistent.\n",
    "- The covariance (relationship between past and future values) does not change over time.\n",
    "\n",
    "<span style=\"color: #00008B;\">**📌 Why does this matter?**</span> \n",
    "\n",
    "Most time series models (like ARIMA) assume stationarity for accurate forecasting. If the data is not stationary, we must transform it before modeling.\n",
    "\n",
    "<span style=\"color: #00008B;\">**Checking for Stationarity using the Augmented Dickey-Fuller (ADF) Test**</span> \n",
    "\n",
    "The ADF test helps determine if a time series is stationary.\n",
    "\n",
    "- Null Hypothesis (H₀): The data is non-stationary (it has a trend).\n",
    "- Alternative Hypothesis (H₁): The data is stationary.\n",
    "\n",
    "📌 If the p-value < 0.05, we reject H₀ → The data is stationary!"
   ]
  },
  {
   "cell_type": "code",
   "execution_count": null,
   "id": "dc8544e6-672a-4d5e-a372-c26e0a127c38",
   "metadata": {},
   "outputs": [],
   "source": [
    "from statsmodels.tsa.stattools import adfuller\n",
    "\n",
    "# Perform the ADF Test\n",
    "result = adfuller(df['Open'])\n",
    "\n",
    "# Print the results\n",
    "print(\"ADF Test Statistic:\", result[0])\n",
    "print(\"p-value:\", result[1])\n",
    "print(\"Critical Values:\", result[4])\n",
    "\n",
    "# Interpret the result\n",
    "if result[1] < 0.05:\n",
    "    print(\"\\n ✅ The data is stationary (Reject H₀)\")\n",
    "else:\n",
    "    print(\"\\n ❌ The data is non-stationary (Fail to reject H₀)\")\n"
   ]
  },
  {
   "cell_type": "markdown",
   "id": "2896ea01-6c75-434b-b203-698659e31034",
   "metadata": {},
   "source": [
    "<br>\n",
    "<br>\n",
    "\n",
    "<span style=\"color: #00008B;\">**Differencing: Removing Trends to Make Data Stationary**</span>\n",
    "\n",
    "Since the ADF test showed non-stationarity, we will use differencing to remove trends.\n",
    "\n",
    "Differencing subtracts each value from the previous one, helping to eliminate trends."
   ]
  },
  {
   "cell_type": "code",
   "execution_count": null,
   "id": "b75ac21e-0a4d-4dad-b7f7-be2cba2b80d6",
   "metadata": {},
   "outputs": [],
   "source": [
    "df['Open_diff'] = df['Open'].diff()  # First difference\n",
    "\n",
    "# Drop NaN values (first row will be NaN)\n",
    "df.dropna(inplace=True)\n",
    "\n",
    "# Re-run the ADF test on differenced data\n",
    "result = adfuller(df['Open_diff'])\n",
    "\n",
    "print(\"ADF Test Statistic after differencing:\", result[0])\n",
    "print(\"p-value after differencing:\", result[1])"
   ]
  },
  {
   "cell_type": "markdown",
   "id": "4da18690-0e9d-47dc-a3ac-5a246ec4245a",
   "metadata": {},
   "source": [
    "If the p-value is above 0.05, the data is still non-stationary we perform second order difference(i.e is running ADF test on the difference data as below);\n",
    "```python\n",
    "df['Open_diff2'] = df['Open_diff'].diff()\n",
    "df.dropna(inplace=True)\n",
    "\n",
    "# Run ADF test again\n",
    "result = adfuller(df['Open_diff2'])\n",
    "\n",
    "print(\"ADF Test Statistic after second differencing:\", result[0])\n",
    "print(\"p-value after second differencing:\", result[1])\n",
    "```\n",
    "🚀 Once the data is stationary (p-value < 0.05), we can proceed with forecasting models! In this case the p-value is below 0.05: Therefore lets continue"
   ]
  },
  {
   "cell_type": "markdown",
   "id": "e3fbea7b-1fcc-419d-b82e-632cf738c5cb",
   "metadata": {
    "jp-MarkdownHeadingCollapsed": true
   },
   "source": [
    "## 6. Time Series Forecasting Techniques\n",
    "\n",
    "- Naïve forecasting and moving averages.\n",
    "- Exponential Smoothing (Simple, Double, Holt-Winters).\n",
    "- ARIMA (AutoRegressive Integrated Moving Average) modeling.\n",
    "- SARIMA (Seasonal ARIMA) for seasonal data.\n",
    "\n",
    "Now that we’ve made Facebook stock prices stationary, it’s time to forecast future values using ARIMA (AutoRegressive Integrated Moving Average). Lets focus on ARIMA modelling for forecasting the stock prices\n",
    "\n",
    "<span style=\"color: #00008B;\">**What is ARIMA**</span> \n",
    "\n",
    "ARIMA is a powerful time series forecasting model that consists of three key components:\n",
    "\n",
    "- AR (AutoRegression) – Uses past values to predict future values.\n",
    "- I (Integrated) – Differencing is applied to make the data stationary.\n",
    "- MA (Moving Average) – Uses past forecast errors to improve predictions.\n",
    "\n",
    "📌 ARIMA is written as ARIMA(p, d, q), where:\n",
    "\n",
    "- p = Number of lag observations (AR component).\n",
    "- d = Number of differencing steps (to make the data stationary).\n",
    "- q = Number of past error terms (MA component).\n",
    "\n",
    "Forecasting with ARIMA model will be broken down step by step; \n",
    "\n",
    "**Step 1:** Determine ARIMA Parameters (p, d, q)\n",
    "\n",
    "Instead of guessing, we use AutoCorrelation Function (ACF) and Partial AutoCorrelation Function (PACF) to determine the best p and q values."
   ]
  },
  {
   "cell_type": "code",
   "execution_count": null,
   "id": "c321b42f-935f-427e-994b-a2c01d9e5eb2",
   "metadata": {},
   "outputs": [],
   "source": [
    "from statsmodels.graphics.tsaplots import plot_acf, plot_pacf\n",
    "\n",
    "# ACF and PACF plots\n",
    "fig, axes = plt.subplots(1, 2, figsize=(12, 5))\n",
    "\n",
    "plot_acf(df['Open_diff'], ax=axes[0])\n",
    "axes[0].set_title(\"Autocorrelation (ACF)\")\n",
    "\n",
    "plot_pacf(df['Open_diff'], ax=axes[1])\n",
    "axes[1].set_title(\"Partial Autocorrelation (PACF)\")\n",
    "\n",
    "plt.show()"
   ]
  },
  {
   "cell_type": "markdown",
   "id": "eb135a90-4f38-4b98-b576-8f965129451f",
   "metadata": {},
   "source": [
    "From the Autocorrelation Function (ACF) and Partial Autocorrelation Function (PACF) plots, we observe:\n",
    "\n",
    "- ACF: Almost all values drop close to zero immediately after lag 1.\n",
    "- PACF: Similar behavior, with no significant spikes after lag 1.\n",
    "\n",
    "Choosing (p, d, q) for ARIMA;\n",
    "\n",
    "- p (AR order): Since the PACF cuts off quickly, we set p = 0 or 1.\n",
    "- d (Differencing order): If the data was already differenced once (to make it stationary), we keep d = 1.\n",
    "- q (MA order): Since the ACF also cuts off quickly, we set q = 0 or 1.\n",
    "\n",
    "🔹 Best guess for ARIMA order: (1,1,1)"
   ]
  },
  {
   "cell_type": "markdown",
   "id": "4eb5bc08-893a-4b7a-ab80-70ea0196011a",
   "metadata": {},
   "source": [
    "**Step 6:** Build and Fit the ARIMA Model\n",
    "\n",
    "Once we select p, d, q, we build the ARIMA model:"
   ]
  },
  {
   "cell_type": "code",
   "execution_count": null,
   "id": "76fd81e1-2fee-444a-af70-7fd5f0ec42f9",
   "metadata": {},
   "outputs": [],
   "source": [
    "# Supress warnings\n",
    "import warnings\n",
    "warnings.filterwarnings(\"ignore\")\n",
    "\n",
    "from statsmodels.tsa.arima.model import ARIMA\n",
    "\n",
    "# Define the ARIMA model\n",
    "model = ARIMA(df['Open'], order=(1, 1, 1))  # Example: ARIMA(1,1,1)\n",
    "\n",
    "# Fit the model\n",
    "model_fit = model.fit()\n",
    "\n",
    "# Summary of the model\n",
    "print(model_fit.summary())"
   ]
  },
  {
   "cell_type": "markdown",
   "id": "ed6fe727-ab7c-44ec-b708-941d45ce63dd",
   "metadata": {},
   "source": [
    "ARIMA(1,1,1) model for Facebook stock's Open prices has been successfully fitted. Let's break down the key insights from the model summary:\n",
    "\n",
    "- Both AR(1) and MA(1) are statistically significant (p < 0.05), meaning they contribute meaningfully to the model.\n",
    "- The model suggests that yesterday's price and past forecast errors are strong indicators of today's price."
   ]
  },
  {
   "cell_type": "markdown",
   "id": "dfea81ab-a0ab-4c6d-90bb-b8e2594308e6",
   "metadata": {},
   "source": [
    "**Step 3:** Forecast Future Prices"
   ]
  },
  {
   "cell_type": "code",
   "execution_count": null,
   "id": "d0952fe1-46cb-4716-a56e-7abf4bb7d3f3",
   "metadata": {},
   "outputs": [],
   "source": [
    "import warnings\n",
    "warnings.filterwarnings(\"ignore\")\n",
    "\n",
    "# Forecast the next 10 days\n",
    "forecast = model_fit.forecast(steps=365)\n",
    "\n",
    "# Plot Forecast\n",
    "plt.figure(figsize=(10, 5))\n",
    "plt.plot(df.index, df['Open'], label='Historical Data')\n",
    "plt.plot(pd.date_range(start=df.index[-1], periods=365, freq='D'), forecast, label='Forecast', color='red')\n",
    "plt.title(\"Facebook Stock Price Forecast\")\n",
    "plt.xlabel(\"Date\")\n",
    "plt.ylabel(\"Price\")\n",
    "plt.legend()\n",
    "plt.show()"
   ]
  },
  {
   "cell_type": "markdown",
   "id": "ae0a3ca8-7307-4382-be9f-698236f04355",
   "metadata": {},
   "source": [
    "## 7. Advanced Time Series Models (Optional for experienced students)\n",
    "\n",
    "- LSTMs (Long Short-Term Memory Networks) for Time Series Forecasting.\n",
    "- Facebook’s Prophet model for forecasting.\n",
    "- Handling multivariate time series."
   ]
  },
  {
   "cell_type": "markdown",
   "id": "d7a51555-61e7-4768-9208-3188a7d188f2",
   "metadata": {},
   "source": [
    "## 8. Time Series Anomaly Detection (Optional for real-world applications)\n",
    "\n",
    "- Identifying anomalies using statistical methods.\n",
    "- Using machine learning for anomaly detection in time series.\n",
    "- Real-world applications (e.g., fraud detection, predictive maintenance)."
   ]
  }
 ],
 "metadata": {
  "kernelspec": {
   "display_name": "Python 3 (ipykernel)",
   "language": "python",
   "name": "python3"
  },
  "language_info": {
   "codemirror_mode": {
    "name": "ipython",
    "version": 3
   },
   "file_extension": ".py",
   "mimetype": "text/x-python",
   "name": "python",
   "nbconvert_exporter": "python",
   "pygments_lexer": "ipython3",
   "version": "3.12.7"
  },
  "widgets": {
   "application/vnd.jupyter.widget-state+json": {
    "state": {},
    "version_major": 2,
    "version_minor": 0
   }
  }
 },
 "nbformat": 4,
 "nbformat_minor": 5
}
