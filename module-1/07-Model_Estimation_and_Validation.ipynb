{
 "cells": [
  {
   "cell_type": "markdown",
   "id": "5781862c-ac11-41b3-8c8c-26d7d877cf21",
   "metadata": {},
   "source": [
    "![](../images/logos/KIEPSKIES.jpg)"
   ]
  },
  {
   "cell_type": "markdown",
   "id": "b84ce0cd-4e53-4762-9f82-66f3d6f6ea8b",
   "metadata": {},
   "source": [
    "# Model Evaluation Metrics and Validation Techniques\n",
    "## Introduction to Model Evaluation\n",
    "\n",
    "- Importance of evaluating machine learning models\n",
    "- Difference between training accuracy and generalization performance\n",
    "- Overview of Titanic dataset (classification) and Boston dataset (regression)"
   ]
  },
  {
   "cell_type": "markdown",
   "id": "9b907f75-a44d-49fd-9fe0-75d30889fd9a",
   "metadata": {},
   "source": [
    "### **Importance of Evaluating Machine Learning Models**\n",
    "\n",
    "Imagine you’ve just built a machine learning model. It runs without errors, predicts outcomes, and you feel like a rockstar! 🎸 But wait—how do you know if it actually works well in the real world?\n",
    "\n",
    "<span style=\"color: #00008B;\">**1. The Illusion of Accuracy 🤔**</span>\n",
    "\n",
    "Let’s say you build a model to predict if the Titanic passengers survived (classification task). You check the accuracy, and it says 90%! Sounds amazing, right?\n",
    "\n",
    "🔴 Problem: If 90% of the passengers didn't survive, a dumb model that predicts \"No\" for everyone would still be 90% accurate! 😲\n",
    "\n",
    "💡 Lesson: Accuracy alone does not always reflect true performance. We need better ways to evaluate our models!\n",
    "\n",
    "<span style=\"color: #00008B;\">**2. Predicting House Prices: Overfitting vs Underfitting 🏠💰**</span>\n",
    "\n",
    "You train a model on the Boston House Prices dataset (regression task). The model gives almost perfect predictions on the training data! But when tested on new houses, its predictions are way off.\n",
    "\n",
    "- 🔵 Overfitting: The model memorized training data but can't generalize to new data.\n",
    "- 🟢 Underfitting: The model is too simple and doesn’t capture patterns well.\n",
    "\n",
    "💡 Lesson: We need validation techniques to detect and prevent overfitting!\n",
    "\n",
    "<span style=\"color: #00008B;\">**3. Why Just Splitting Data Isn't Enough? 🔍**</span>\n",
    "\n",
    "Using just a train-test split means your model is evaluated on a single test set—not robust enough!\n",
    "\n",
    "- Solution: Use Cross-Validation to evaluate the model on multiple subsets of the data.\n",
    "- Solution: Use multiple metrics (like Precision, Recall, R² Score) to get a full picture.\n",
    "\n",
    "<span style=\"color: #00008B;\">**4. The Real-World Impact of Bad Models 😱**</span>4.\n",
    "\n",
    "Imagine a fraud detection model predicting whether a transaction is fraudulent.\n",
    "\n",
    "- False Positives: A legit user gets locked out of their account. Frustrating!\n",
    "- False Negatives: A scammer withdraws thousands of dollars undetected. Huge loss!\n",
    "\n",
    "💡 Lesson: Confusion Matrices, Precision-Recall, and ROC Curves help analyze model risks."
   ]
  },
  {
   "cell_type": "markdown",
   "id": "0ebb8c9a-25ae-454a-8de5-ad0dac07088b",
   "metadata": {},
   "source": [
    "### **Difference between training accuracy and generalization performance**\n",
    "\n",
    "Building a machine learning model is like preparing for an exam. Do you want to memorize answers or truly understand the concepts? 🤔\n",
    "\n",
    "<span style=\"color: #00008B;\">**Training Accuracy:**</span> When the Model is a \"Memorization Expert\" 🧠\n",
    "\n",
    "Definition: Training accuracy measures how well the model performs on the same data it was trained on.\n",
    "\n",
    "- High training accuracy means the model has learned patterns in the training data well.\n",
    "- **BUT:** It could just be memorizing instead of understanding!\n",
    "\n",
    "Example: Titanic Dataset\n",
    "\n",
    "Imagine training a model to predict survival on the Titanic dataset. If training accuracy is 98%, does that mean it's a great model? Not necessarily! It might just be memorizing the training data, not learning meaningful survival patterns.\n",
    "\n",
    "<span style=\"color: #00008B;\">**Generalization Performance:**</span> Can the Model Handle New Data?\n",
    "\n",
    "Definition: Generalization performance refers to how well the model makes predictions on unseen data (test/real-world data).\n",
    "\n",
    "- High generalization performance means the model actually learns useful patterns instead of memorizing.\n",
    "- Poor generalization means the model struggles with new data, leading to overfitting or underfitting.\n",
    "\n",
    "<span style=\"color: #00008B;\">**Overfitting vs. Underfitting:**</span> The Two Pitfalls ⚠️\n",
    "\n",
    "🔴 Overfitting (High training accuracy, low test accuracy)\n",
    "\n",
    "- The model learns the training data too well (memorization).\n",
    "- Struggles with new data → Poor generalization.\n",
    "\n",
    "Example: A house price model learns that houses with \"Avenue\" in their address are expensive—but this pattern may not hold in new data.\n",
    "\n",
    "🟢 Underfitting (Low training accuracy, low test accuracy)\n",
    "\n",
    "- The model is too simple to learn meaningful patterns.\n",
    "- Poor performance on both training & test data.\n",
    "\n",
    "Example: A Titanic survival model that only looks at gender but ignores other important features.\n",
    "\n",
    "<span style=\"color: #00008B;\">**How to Improve Generalization? 🔧**</span>\n",
    "\n",
    "- Train-Test Split: Always test on unseen data (e.g., 80% train, 20% test).\n",
    "- Cross-Validation: Use K-Fold Cross-Validation to check performance across multiple splits.\n",
    "- Regularization: Techniques like L1/L2 regularization prevent overfitting.\n",
    "- Feature Selection: Remove irrelevant or highly correlated features.\n",
    "- More Data: More diverse training data helps the model generalize better.\n",
    "\n"
   ]
  },
  {
   "cell_type": "markdown",
   "id": "72d43dcd-50a0-4d13-9465-940f4e5fd522",
   "metadata": {},
   "source": [
    "### **Overview of Titanic dataset (classification) and Boston dataset (regression)**\n",
    "#### Overview of the Titanic Dataset\n",
    "\n",
    "The Titanic data set will be used for classification task, lets work on the data from importation(loading) to preprocessing. "
   ]
  },
  {
   "cell_type": "code",
   "execution_count": 1,
   "id": "08a3aa54-1fc7-4533-bb83-c0cd3a832865",
   "metadata": {},
   "outputs": [],
   "source": [
    "# Load all the required libraries \n",
    "import pandas as pd\n",
    "import numpy as np\n",
    "import seaborn as sns\n",
    "import matplotlib.pyplot as plt\n",
    "import warnings\n",
    "from sklearn.datasets import fetch_openml  \n",
    "\n",
    "warnings.filterwarnings(\"ignore\")\n",
    "\n",
    "# Load Titanic dataset  \n",
    "titanic = fetch_openml(name='titanic', version=1, as_frame=True)  \n",
    "df = titanic.frame  "
   ]
  },
  {
   "cell_type": "markdown",
   "id": "2b6692bf-8caf-4115-809d-116aad48c122",
   "metadata": {},
   "source": [
    "#### Overview of the Boston Dataset\n",
    "The boston data set will be used for regression task, here we also work on the data from importation(loading) to preprocessing. The data can be download from [here](https://www.kaggle.com/datasets/vikrishnan/boston-house-prices/data)"
   ]
  },
  {
   "cell_type": "code",
   "execution_count": 2,
   "id": "8e4b352b-3b55-4d61-97b6-c13d6d985811",
   "metadata": {},
   "outputs": [
    {
     "data": {
      "text/html": [
       "<div>\n",
       "<style scoped>\n",
       "    .dataframe tbody tr th:only-of-type {\n",
       "        vertical-align: middle;\n",
       "    }\n",
       "\n",
       "    .dataframe tbody tr th {\n",
       "        vertical-align: top;\n",
       "    }\n",
       "\n",
       "    .dataframe thead th {\n",
       "        text-align: right;\n",
       "    }\n",
       "</style>\n",
       "<table border=\"1\" class=\"dataframe\">\n",
       "  <thead>\n",
       "    <tr style=\"text-align: right;\">\n",
       "      <th></th>\n",
       "      <th>CRIM</th>\n",
       "      <th>ZN</th>\n",
       "      <th>INDUS</th>\n",
       "      <th>CHAS</th>\n",
       "      <th>NOX</th>\n",
       "      <th>RM</th>\n",
       "      <th>AGE</th>\n",
       "      <th>DIS</th>\n",
       "      <th>RAD</th>\n",
       "      <th>TAX</th>\n",
       "      <th>PTRATIO</th>\n",
       "      <th>B</th>\n",
       "      <th>LSTAT</th>\n",
       "      <th>MEDV</th>\n",
       "    </tr>\n",
       "  </thead>\n",
       "  <tbody>\n",
       "    <tr>\n",
       "      <th>0</th>\n",
       "      <td>0.00632</td>\n",
       "      <td>18.0</td>\n",
       "      <td>2.31</td>\n",
       "      <td>0</td>\n",
       "      <td>0.538</td>\n",
       "      <td>6.575</td>\n",
       "      <td>65.2</td>\n",
       "      <td>4.0900</td>\n",
       "      <td>1</td>\n",
       "      <td>296.0</td>\n",
       "      <td>15.3</td>\n",
       "      <td>396.90</td>\n",
       "      <td>4.98</td>\n",
       "      <td>24.0</td>\n",
       "    </tr>\n",
       "    <tr>\n",
       "      <th>1</th>\n",
       "      <td>0.02731</td>\n",
       "      <td>0.0</td>\n",
       "      <td>7.07</td>\n",
       "      <td>0</td>\n",
       "      <td>0.469</td>\n",
       "      <td>6.421</td>\n",
       "      <td>78.9</td>\n",
       "      <td>4.9671</td>\n",
       "      <td>2</td>\n",
       "      <td>242.0</td>\n",
       "      <td>17.8</td>\n",
       "      <td>396.90</td>\n",
       "      <td>9.14</td>\n",
       "      <td>21.6</td>\n",
       "    </tr>\n",
       "    <tr>\n",
       "      <th>2</th>\n",
       "      <td>0.02729</td>\n",
       "      <td>0.0</td>\n",
       "      <td>7.07</td>\n",
       "      <td>0</td>\n",
       "      <td>0.469</td>\n",
       "      <td>7.185</td>\n",
       "      <td>61.1</td>\n",
       "      <td>4.9671</td>\n",
       "      <td>2</td>\n",
       "      <td>242.0</td>\n",
       "      <td>17.8</td>\n",
       "      <td>392.83</td>\n",
       "      <td>4.03</td>\n",
       "      <td>34.7</td>\n",
       "    </tr>\n",
       "    <tr>\n",
       "      <th>3</th>\n",
       "      <td>0.03237</td>\n",
       "      <td>0.0</td>\n",
       "      <td>2.18</td>\n",
       "      <td>0</td>\n",
       "      <td>0.458</td>\n",
       "      <td>6.998</td>\n",
       "      <td>45.8</td>\n",
       "      <td>6.0622</td>\n",
       "      <td>3</td>\n",
       "      <td>222.0</td>\n",
       "      <td>18.7</td>\n",
       "      <td>394.63</td>\n",
       "      <td>2.94</td>\n",
       "      <td>33.4</td>\n",
       "    </tr>\n",
       "    <tr>\n",
       "      <th>4</th>\n",
       "      <td>0.06905</td>\n",
       "      <td>0.0</td>\n",
       "      <td>2.18</td>\n",
       "      <td>0</td>\n",
       "      <td>0.458</td>\n",
       "      <td>7.147</td>\n",
       "      <td>54.2</td>\n",
       "      <td>6.0622</td>\n",
       "      <td>3</td>\n",
       "      <td>222.0</td>\n",
       "      <td>18.7</td>\n",
       "      <td>396.90</td>\n",
       "      <td>5.33</td>\n",
       "      <td>36.2</td>\n",
       "    </tr>\n",
       "  </tbody>\n",
       "</table>\n",
       "</div>"
      ],
      "text/plain": [
       "      CRIM    ZN  INDUS  CHAS    NOX     RM   AGE     DIS  RAD    TAX  \\\n",
       "0  0.00632  18.0   2.31     0  0.538  6.575  65.2  4.0900    1  296.0   \n",
       "1  0.02731   0.0   7.07     0  0.469  6.421  78.9  4.9671    2  242.0   \n",
       "2  0.02729   0.0   7.07     0  0.469  7.185  61.1  4.9671    2  242.0   \n",
       "3  0.03237   0.0   2.18     0  0.458  6.998  45.8  6.0622    3  222.0   \n",
       "4  0.06905   0.0   2.18     0  0.458  7.147  54.2  6.0622    3  222.0   \n",
       "\n",
       "   PTRATIO       B  LSTAT  MEDV  \n",
       "0     15.3  396.90   4.98  24.0  \n",
       "1     17.8  396.90   9.14  21.6  \n",
       "2     17.8  392.83   4.03  34.7  \n",
       "3     18.7  394.63   2.94  33.4  \n",
       "4     18.7  396.90   5.33  36.2  "
      ]
     },
     "execution_count": 2,
     "metadata": {},
     "output_type": "execute_result"
    }
   ],
   "source": [
    "# Load the boston data \n",
    "column_names = [\n",
    "    \"CRIM\", \"ZN\", \"INDUS\", \"CHAS\", \"NOX\", \"RM\", \"AGE\", \"DIS\", \"RAD\", \"TAX\", \n",
    "    \"PTRATIO\", \"B\", \"LSTAT\", \"MEDV\"\n",
    "]\n",
    "\n",
    "boston_df = pd.read_csv('../data/housing.csv', sep = '\\s+', names=column_names)\n",
    "boston_df.head()"
   ]
  },
  {
   "cell_type": "code",
   "execution_count": 3,
   "id": "09f02032-1a2b-4403-889c-8eaaae15465e",
   "metadata": {},
   "outputs": [
    {
     "data": {
      "image/png": "[encoded data removed]",
      "text/plain": [
       "<Figure size 800x500 with 1 Axes>"
      ]
     },
     "metadata": {},
     "output_type": "display_data"
    }
   ],
   "source": [
    "# DATA CLEANING \n",
    "boston_df.replace([np.inf, -np.inf], np.nan, inplace=True)\n",
    "boston_df.dropna(inplace=True)  \n",
    "\n",
    "# EXPLANATORY DATA ANALYSIS - Data Distribution\n",
    "plt.figure(figsize=(8,5))\n",
    "sns.histplot(boston_df['MEDV'], bins=30, kde=True, color='blue')\n",
    "plt.title(\"Distribution of House Prices (MEDV)\")\n",
    "plt.xlabel(\"Median Value ($1000s)\")\n",
    "plt.ylabel(\"Count\")\n",
    "plt.show()"
   ]
  },
  {
   "cell_type": "markdown",
   "id": "1fb5b38a-8a34-4d80-9ce9-2c7137c13b3c",
   "metadata": {},
   "source": [
    "The Median House prices is evenly distributed with a slight right skew"
   ]
  },
  {
   "cell_type": "markdown",
   "id": "24adb22c-b723-4a47-adfc-56b5d8676c4f",
   "metadata": {},
   "source": [
    "## Train-Test Split for Basic Validation\n",
    "\n",
    "- Concept of holdout validation\n",
    "- Using `train_test_split()` from `sklearn.model_selection`\n",
    "- Hands-on: Splitting Titanic dataset (classification)\n",
    "- Hands-on: Splitting Boston House Prices dataset (regression)"
   ]
  },
  {
   "cell_type": "markdown",
   "id": "62620f6a-bec1-402b-aeae-839005e243b9",
   "metadata": {},
   "source": [
    "<span style=\"color: #00008B;\">**Concept of Holdout Validation**</span>\n",
    "\n",
    "Holdout validation is a method used to evaluate machine learning models by splitting the available dataset into two separate subsets:\n",
    "\n",
    "- Training Set: Used to train the model.\n",
    "- Test Set: Used to evaluate the model’s performance on unseen data.\n",
    "  \n",
    "The goal is to estimate how well the model will generalize to new data. Instead of testing on the same data used for training (which can lead to overly optimistic results), holdout validation ensures that the model is assessed on data it has never seen before.\n",
    "\n",
    "<span style=\"color: #00008B;\">**Using train_test_split() from sklearn.model_selection**</span>\n",
    "\n",
    "The train_test_split() function from Scikit-Learn is a convenient way to implement holdout validation. It randomly splits the dataset into training and test sets while maintaining the right proportions.\n",
    "\n",
    "```\n",
    "from sklearn.model_selection import train_test_split  \n",
    "\n",
    "X_train, X_test, y_train, y_test = train_test_split(X, y, test_size=0.2, random_state=42)\n",
    "```\n",
    "\n",
    "- `X` and `y` represent the features and target variable.\n",
    "- `test_size=0.2` means 20% of the data is reserved for testing.\n",
    "- `random_state=42` ensures reproducibility.\n",
    "\n",
    "<span style=\"color: #00008B;\">**Splitting the Titanic Dataset (Classification Task)**</span>\n",
    "\n",
    "For classification tasks, such as predicting survival on the Titanic, holdout validation ensures that the model learns patterns rather than memorizing specific passenger records.\n",
    "\n",
    "Lets get our hands dirty!"
   ]
  },
  {
   "cell_type": "code",
   "execution_count": 4,
   "id": "858d2488-75a8-46a4-a6ab-4a21fbf248e5",
   "metadata": {},
   "outputs": [
    {
     "name": "stdout",
     "output_type": "stream",
     "text": [
      "Training set size: 836\n",
      "Test set size: 209\n"
     ]
    }
   ],
   "source": [
    "from sklearn.model_selection import train_test_split  \n",
    "\n",
    "# Drop missing values and select relevant features  \n",
    "df = df.dropna(subset=['survived', 'age', 'fare'])  \n",
    "X_titanic = df[['age', 'fare']]  # Feature matrix  \n",
    "y_titanic = np.array(df['survived']).astype(int)       # Target variable  \n",
    "\n",
    "# Split into training and test sets  \n",
    "X_train_titanic, X_test_titanic, y_train_titanic, y_test_titanic = train_test_split(X_titanic, y_titanic, test_size=0.2, random_state=42)  \n",
    "\n",
    "# Display dataset sizes  \n",
    "print(f\"Training set size: {X_train_titanic.shape[0]}\")  \n",
    "print(f\"Test set size: {X_test_titanic.shape[0]}\")  "
   ]
  },
  {
   "cell_type": "markdown",
   "id": "9c5d4fea-7130-487b-a8fa-35c8c1a8db94",
   "metadata": {},
   "source": [
    "## Classification Model Evaluation Metrics (Titanic Dataset)\n",
    "\n",
    "- **Accuracy Score:** When it's useful and when it's misleading\n",
    "- **Precision, Recall, and F1-score:** When to prioritize precision vs recall\n",
    "- **Confusion Matrix:** Interpreting TP, FP, TN, FN\n",
    "- **ROC Curve and AUC Score:** Evaluating model probability outputs\n",
    "- **Hands-on:** Implementing these metrics using Titanic dataset"
   ]
  },
  {
   "cell_type": "markdown",
   "id": "1d7afc4b-7b66-4e95-a26a-32a74f1ea1b3",
   "metadata": {},
   "source": [
    "Evaluating a classification model is essential to determine how well it performs. Different metrics provide different perspectives, and choosing the right one depends on the problem at hand. Let's explore the key classification evaluation metrics using the Titanic dataset. \n",
    "\n",
    "<span style=\"color: #00008B;\">**Accuracy Score:**</span> When It's Useful and When It's Misleading\n",
    "\n",
    "Accuracy is the simplest metric—it tells us what percentage of predictions were correct.\n",
    "\n",
    "**Formula:** $$Accuracy = {{\\text Correct \\space Predictions}\\over{\\text Total \\space Predictions}}$$\n",
    "\n",
    "**When Accuracy is Useful:**\n",
    "\n",
    "- When the classes are balanced (roughly equal number of survivors and non-survivors).\n",
    "- When all types of misclassifications are equally costly.\n",
    "\n",
    "**When Accuracy is Misleading:**\n",
    "\n",
    "- **Imbalanced Datasets:** If 90% of passengers did not survive, a model that predicts \"No\" for everyone would still have 90% accuracy, but it would be useless!\n",
    "- **When False Positives and False Negatives have different consequences:** In medical diagnosis or fraud detection, a **false negative** (missing a fraud case) might be worse than a **false positive** (flagging a non-fraudulent transaction).\n",
    "\n",
    "Lets get our hands dirty!"
   ]
  },
  {
   "cell_type": "code",
   "execution_count": 5,
   "id": "cefb6548-b44e-4d09-a3c8-56ec700e5f52",
   "metadata": {},
   "outputs": [
    {
     "name": "stdout",
     "output_type": "stream",
     "text": [
      "Accuracy Score: 0.60\n"
     ]
    }
   ],
   "source": [
    "from sklearn.ensemble import RandomForestClassifier\n",
    "from sklearn.metrics import accuracy_score \n",
    "\n",
    "# Train a model  \n",
    "model = RandomForestClassifier(random_state=42)  \n",
    "model.fit(X_train_titanic, y_train_titanic)  \n",
    "\n",
    "# Make predictions  \n",
    "y_pred = model.predict(X_test_titanic)  \n",
    "\n",
    "# Compute accuracy  \n",
    "accuracy = accuracy_score(y_test_titanic, y_pred)  \n",
    "print(f\"Accuracy Score: {accuracy:.2f}\") "
   ]
  },
  {
   "cell_type": "markdown",
   "id": "3e39bddb-2554-4148-bea5-f2a885dbefbd",
   "metadata": {},
   "source": [
    "The model has a poor accuracy score. We will explore how to finetune the model later.\n",
    "\n",
    "<span style=\"color: #00008B;\">**Precision, Recall, and F1-score:**</span> When to Prioritize Precision vs Recall\n",
    "\n",
    "**Precision:**\n",
    "\n",
    "- Measures how many of the predicted positives (survivors) were actually correct.\n",
    "- **Formula:** $$Precision  = {{\\text True \\space Positives \\space (TP)}\\over{\\text True \\space Positives \\space(TP) \\space + \\space False \\space Positives \\space(FP)}}$$\n",
    "- **Useful when False Positives are costly:** E.g., predicting a non-survivor as a survivor when resources (like lifeboats) are limited.\n",
    "\n",
    "**Recall (Sensitivity):**\n",
    "\n",
    "- Measures how many of the actual positives (survivors) were correctly predicted.\n",
    "- **Formula:** $$\\text{ F1-score} = {2 \\times {{Precision \\times Recall}\\over{Precision + Recall}}}$$\n",
    "- This is uUseful when both False Positives and False Negatives are equally important. Lets compute recall, precision and f1-score using python"
   ]
  },
  {
   "cell_type": "code",
   "execution_count": 6,
   "id": "3b692c38-88a2-486c-a4bd-fc6644231605",
   "metadata": {},
   "outputs": [
    {
     "name": "stdout",
     "output_type": "stream",
     "text": [
      "Precision: 0.53\n",
      "Recall: 0.45\n",
      "F1-score: 0.49\n"
     ]
    }
   ],
   "source": [
    "from sklearn.metrics import precision_score, recall_score, f1_score  \n",
    "\n",
    "# Compute metrics  \n",
    "precision = precision_score(y_test_titanic, y_pred)  \n",
    "recall = recall_score(y_test_titanic, y_pred)  \n",
    "f1 = f1_score(y_test_titanic, y_pred)  \n",
    "\n",
    "print(f\"Precision: {precision:.2f}\")  \n",
    "print(f\"Recall: {recall:.2f}\")  \n",
    "print(f\"F1-score: {f1:.2f}\")  "
   ]
  },
  {
   "cell_type": "markdown",
   "id": "73b817e0-43fd-4129-9cb1-d451ff7ed819",
   "metadata": {},
   "source": [
    "<span style=\"color: #00008B;\">**Confusion Matrix:**</span> Interpreting TP, FP, TN, FN\n",
    "\n",
    "A confusion matrix provides a detailed breakdown of model performance:\n",
    "\n",
    "\n",
    "|Predicted \\ Actual| Survived (1)|\tNot Survived (0)|\n",
    "|:------:|:------:|:-----|\n",
    "|Survived (1)|TP (True Positives)|FP (False Positives)|\n",
    "|Not Survived (0)|FN (False Negatives)|TN (True Negatives)|\n",
    "\n",
    "- *True Positives (TP)*: Correctly predicted survivors.\n",
    "- *False Positives (FP)*: Incorrectly predicted survivors.\n",
    "- *False Negatives (FN)*: Survivors predicted as non-survivors.\n",
    "- *True Negatives (TN)*: Correctly predicted non-survivors.\n",
    "\n",
    "Lets put this into practice! We will plot a confusion matrix on heatmap."
   ]
  },
  {
   "cell_type": "code",
   "execution_count": 7,
   "id": "7ec18a44-e025-4a90-9d8c-6ac5c13b59a6",
   "metadata": {},
   "outputs": [
    {
     "data": {
      "image/png": "[encoded data removed]",
      "text/plain": [
       "<Figure size 500x400 with 2 Axes>"
      ]
     },
     "metadata": {},
     "output_type": "display_data"
    }
   ],
   "source": [
    "from sklearn.metrics import confusion_matrix  \n",
    "import seaborn as sns  \n",
    "import matplotlib.pyplot as plt  \n",
    "\n",
    "# Compute confusion matrix  \n",
    "cm = confusion_matrix(y_test_titanic, y_pred)  \n",
    "\n",
    "# Plot confusion matrix  \n",
    "plt.figure(figsize=(5, 4))  \n",
    "sns.heatmap(cm, annot=True, fmt=\"d\", cmap=\"Blues\", xticklabels=[\"Not Survived\", \"Survived\"], yticklabels=[\"Not Survived\", \"Survived\"])  \n",
    "plt.xlabel(\"Predicted\")  \n",
    "plt.ylabel(\"Actual\")  \n",
    "plt.title(\"Confusion Matrix\")  \n",
    "plt.show()  "
   ]
  },
  {
   "cell_type": "markdown",
   "id": "38336052-0503-4c77-9026-e795dc6556a6",
   "metadata": {},
   "source": [
    "<span style=\"color: #00008B;\">**ROC Curve and AUC Score:**</span>  Evaluating Model Probability Outputs\n",
    "\n",
    "The ROC (Receiver Operating Characteristic) curve shows how well the model distinguishes between classes at different threshold levels. The AUC (Area Under Curve) score summarizes the ROC curve into a single number.\n",
    "\n",
    "- ROC Curve: Plots True Positive Rate (TPR) vs. False Positive Rate (FPR).\n",
    "- AUC Score: Measures how well the model separates classes (higher is better)."
   ]
  },
  {
   "cell_type": "code",
   "execution_count": 8,
   "id": "19f244ba-3c56-4de0-9998-0abc37f9c3cd",
   "metadata": {},
   "outputs": [
    {
     "data": {
      "image/png": "[encoded data removed]",
      "text/plain": [
       "<Figure size 600x500 with 1 Axes>"
      ]
     },
     "metadata": {},
     "output_type": "display_data"
    }
   ],
   "source": [
    "from sklearn.metrics import roc_curve, auc  \n",
    "\n",
    "# Get predicted probabilities  \n",
    "y_probs = model.predict_proba(X_test_titanic)[:, 1]  \n",
    "\n",
    "# Compute ROC curve  \n",
    "fpr, tpr, _ = roc_curve(y_test_titanic, y_probs)  \n",
    "roc_auc = auc(fpr, tpr)  \n",
    "\n",
    "# Plot ROC curve  \n",
    "plt.figure(figsize=(6, 5))  \n",
    "plt.plot(fpr, tpr, color=\"blue\", label=f\"AUC = {roc_auc:.2f}\")  \n",
    "plt.plot([0, 1], [0, 1], color=\"gray\", linestyle=\"--\")  \n",
    "plt.xlabel(\"False Positive Rate\")  \n",
    "plt.ylabel(\"True Positive Rate\")  \n",
    "plt.title(\"ROC Curve\")  \n",
    "plt.legend(loc=\"lower right\")  \n",
    "plt.show()  \n"
   ]
  },
  {
   "cell_type": "markdown",
   "id": "86457948-399e-426b-b2b4-6f10ea402c69",
   "metadata": {},
   "source": [
    "<span style=\"color: #00008B;\">**Final Takeaways**</span>\n",
    "\n",
    "|Metric|Use Case|\n",
    "|:------:|:-------:|\n",
    "|Accuracy| When classes are balanced.|\n",
    "|Precision| When False Positives are costly (e.g., medical diagnosis, fraud detection).|\n",
    "|Recall|When False Negatives are costly (e.g., missing survivors in Titanic).|\n",
    "|F1-score|When both Precision and Recall matter.|\n",
    "|Confusion Matrix|To analyze prediction errors.|\n",
    "|ROC & AUC|When evaluating probability-based models.|\n",
    "\n",
    "Examples of probabilistic models include; Naive Bayes Classifier, Logistic Regression, Bayesian Networks, Gaussian Process Classifier (GPC), Probabilistic Neural Networks (PNNs) and Hidden Markov Models (HMMs) (for Sequential Data such as speech recognition and time series classification).\n",
    "\n",
    "With these metrics, you can confidently evaluate and improve classification models!"
   ]
  },
  {
   "cell_type": "markdown",
   "id": "03a04070-6c95-42bf-bfec-6951ccd5637a",
   "metadata": {},
   "source": [
    "<span style=\"color: #00008B;\">**Splitting the Boston House Prices Dataset (Regression Task)**</span>\n",
    "\n",
    "For regression tasks, like predicting house prices in Boston, holdout validation helps estimate how well the model generalizes to new properties."
   ]
  },
  {
   "cell_type": "code",
   "execution_count": 9,
   "id": "8d1f21c1-198a-48af-80c3-9f8c868543b3",
   "metadata": {},
   "outputs": [
    {
     "name": "stdout",
     "output_type": "stream",
     "text": [
      "Training set size: 404\n",
      "Test set size: 102\n"
     ]
    }
   ],
   "source": [
    "X_boston = boston_df.drop(columns=['MEDV'])  \n",
    "y_boston = boston_df['MEDV']  \n",
    "\n",
    "# Split into training and test sets  \n",
    "X_train_boston, X_test_boston, y_train_boston, y_test_boston = train_test_split(X_boston, y_boston, test_size=0.2, random_state=42)  \n",
    "# Display dataset sizes  \n",
    "print(f\"Training set size: {X_train_boston.shape[0]}\")  \n",
    "print(f\"Test set size: {X_test_boston.shape[0]}\")  "
   ]
  },
  {
   "cell_type": "code",
   "execution_count": 10,
   "id": "a799bfbb-b6c4-469f-9f8a-a464148172ac",
   "metadata": {},
   "outputs": [
    {
     "ename": "SyntaxError",
     "evalue": "invalid syntax (2248658553.py, line 2)",
     "output_type": "error",
     "traceback": [
      "  \u001b[36mCell\u001b[39m\u001b[36m \u001b[39m\u001b[32mIn[10]\u001b[39m\u001b[32m, line 2\u001b[39m\n\u001b[31m    \u001b[39m\u001b[31mImplementing Stratified K-Fold (for classification)\u001b[39m\n                 ^\n\u001b[31mSyntaxError\u001b[39m\u001b[31m:\u001b[39m invalid syntax\n"
     ]
    }
   ],
   "source": [
    "## Understanding the need for k-fold cross-validation\n",
    "Implementing Stratified K-Fold (for classification)\n",
    "Implementing K-Fold Cross-Validation (for regression)\n",
    "Hands-on: Using cross_val_score() with Titanic and Boston datasets"
   ]
  },
  {
   "cell_type": "markdown",
   "id": "4dd06a04-3cb8-4f44-8b78-862720ec12dd",
   "metadata": {},
   "source": [
    "## K-Fold Cross-Validation (For Classification)\n",
    "\n",
    "In machine learning, evaluating a model's performance on a single train-test split may not be reliable. The performance could be biased based on how the data was split.\n",
    "\n",
    "Here are the key reasons to use cross-validation; \n",
    "\n",
    "- Ensures the model is evaluated on multiple subsets of data.\n",
    "- Reduces variance in performance estimation.\n",
    "- Prevents overfitting or underfitting by training on multiple data splits.\n",
    "\n",
    "How K-Fold Works:\n",
    "\n",
    "1. The dataset is divided into K equal folds.\n",
    "2. The model is trained on K-1 folds and tested on the remaining fold.\n",
    "3. This process is repeated K times, with each fold serving as a test set once.\n",
    "4. The final performance is the average of all K iterations.\n",
    "\n",
    "Stratified K-Fold ensures that each fold maintains the same proportion of target class distribution as the original dataset. This is important for imbalanced datasets.\n",
    "\n",
    "Lets put it in action;"
   ]
  },
  {
   "cell_type": "code",
   "execution_count": null,
   "id": "daf29d32-fffd-4850-9409-95dbe95847d7",
   "metadata": {},
   "outputs": [],
   "source": [
    "df.columns"
   ]
  },
  {
   "cell_type": "code",
   "execution_count": null,
   "id": "15eac9fb-3efc-426f-a2f1-d25dc73bf93c",
   "metadata": {},
   "outputs": [],
   "source": [
    "# LOAD THE TITANIC DATA SET\n",
    "\n",
    "# Select relevant features\n",
    "titanic = df[['survived', 'pclass', 'sex', 'age', 'sibsp', 'parch', 'fare']]\n",
    "titanic.dropna(inplace=True)  # Remove missing values\n",
    "\n",
    "# Convert categorical column\n",
    "titanic['sex'] = titanic['sex'].map({'male': 0, 'female': 1})\n",
    "\n",
    "# Define features and target\n",
    "X = titanic.drop(columns=['survived'])\n",
    "y = titanic['survived']"
   ]
  },
  {
   "cell_type": "code",
   "execution_count": null,
   "id": "869f73f8-0590-41ab-a96d-7f4f0f5e54b1",
   "metadata": {},
   "outputs": [],
   "source": [
    "# APPLY THE STRATIFIED K-FOLD\n",
    "\n",
    "from sklearn.model_selection import StratifiedKFold\n",
    "from sklearn.model_selection import cross_val_score\n",
    "\n",
    "# Stratified K-Fold with 5 splits\n",
    "skf = StratifiedKFold(n_splits=5, shuffle=True, random_state=42)\n",
    "\n",
    "# Initialize model\n",
    "model = RandomForestClassifier(n_estimators=100, random_state=42)\n",
    "\n",
    "# Perform cross-validation\n",
    "scores = cross_val_score(model, X, y, cv=skf, scoring='accuracy')\n",
    "\n",
    "# Print results\n",
    "print(f\"Cross-Validation Accuracy Scores: {scores}\")\n",
    "print(f\"Mean Accuracy: {scores.mean():.4f}\")"
   ]
  },
  {
   "cell_type": "markdown",
   "id": "1de153a1-c406-4e73-ac1a-c6ee880b10db",
   "metadata": {},
   "source": [
    "- Stratified K-Fold ensures each fold maintains the class proportion.\n",
    "- The mean accuracy provides a reliable estimate of model performance.\n",
    "\n",
    "Now lets repeat with the Decision Tree Classifier model"
   ]
  },
  {
   "cell_type": "code",
   "execution_count": null,
   "id": "4c489ed4-8374-44b1-b7f6-6016fa6cd63b",
   "metadata": {},
   "outputs": [],
   "source": [
    "from sklearn.tree import DecisionTreeClassifier\n",
    "\n",
    "# Initialize model\n",
    "clf = DecisionTreeClassifier(random_state=42)\n",
    "\n",
    "# Perform cross-validation\n",
    "acc_scores = cross_val_score(clf, X, y, cv=skf, scoring='accuracy')\n",
    "\n",
    "print(f\"Mean Accuracy: {acc_scores.mean():.4f}\")"
   ]
  },
  {
   "cell_type": "markdown",
   "id": "7b8bf4b2-2f83-4ee0-a5f9-822180c8c5fa",
   "metadata": {},
   "source": [
    "Random Forest Classifier performs better than the Decision Tree Classifier model"
   ]
  },
  {
   "cell_type": "markdown",
   "id": "079dc3b7-ac91-4a07-8cfe-bc762756e81f",
   "metadata": {},
   "source": [
    "## Regression Model Evaluation Metrics (Boston Dataset)\n",
    "\n",
    "- **Mean Absolute Error (MAE)**\n",
    "- **Mean Squared Error (MSE) and Root Mean Squared Error (RMSE)**\n",
    "- **R-squared (R²) Score:** Interpreting model performance\n",
    "- Hands-on: Evaluating a regression model using Boston dataset\n",
    "\n",
    "<span style=\"color: #00008B;\">**Mean Absolute Error (MAE)**</span>\n",
    "\n",
    "- Measures the average absolute difference between actual and predicted values.\n",
    "- Gives an intuitive understanding of model performance in the same units as the target variable.\n",
    "\n",
    "Formula: $$MAE = {1\\over n}{\\sum{|y_i - \\hat y_i|}}$$\n",
    "\n",
    "Where $\\hat y_i$ is the true value and $y_i$   is the predicted value.\n",
    "\n",
    "MAE is used for cases where all errors are treated equally and is less sensitive to large errors than MSE.\n",
    "\n",
    "<span style=\"color: #00008B;\">**Mean Squared Error (MSE) and Root Mean Squared Error (RMSE)**</span>\n",
    "\n",
    "- MSE calculates the average of squared differences between actual and predicted values.\n",
    "- RMSE is simply the square root of MSE.\n",
    "\n",
    "Formula: $$MSE = {1 \\over n}{\\sum (\\hat y_i - y_i)^2}$$\n",
    "\n",
    "$$RMSE = \\sqrt{MSE}$$\n",
    "\n",
    "Note that MSE penalizes large errors more than MAE and RMSE provides error measurement in the same unit as the target variable. \n",
    "\n",
    "<span style=\"color: #00008B;\">**R-squared (R²) Score**</span>\n",
    "\n",
    "Represents how well the model explains variance in the target variable.\n",
    "\n",
    "Formula: $$R^2 = {1 - {{SS_{res}}\\over{SS_{tot}}}}$$\n",
    "\n",
    "where:\n",
    "\n",
    "- $SS_{res}$ = Sum of squared residuals (errors).\n",
    "- $SS_{tot}$ = Total sum of squares (variance of actual values).\n",
    "\n",
    "It is used to compare different models. A value close to 1 indicates a strong model, while a negative value suggests poor performance. Lets train a linear regression model and evaluate it."
   ]
  },
  {
   "cell_type": "code",
   "execution_count": null,
   "id": "3ee19bfc-52c7-4363-95d7-7e5f0c97a398",
   "metadata": {},
   "outputs": [],
   "source": [
    "from sklearn.linear_model import LinearRegression\n",
    "\n",
    "# Train a Linear Regression model\n",
    "model = LinearRegression()\n",
    "model.fit(X_train_boston, y_train_boston)\n",
    "\n",
    "# Make predictions\n",
    "y_pred = model.predict(X_test_boston)"
   ]
  },
  {
   "cell_type": "code",
   "execution_count": null,
   "id": "08f087ac-b13a-4402-9fa7-261fb87cc1c6",
   "metadata": {},
   "outputs": [],
   "source": [
    "from sklearn.metrics import mean_absolute_error, mean_squared_error, r2_score\n",
    "\n",
    "# Compute evaluation metrics\n",
    "mae = mean_absolute_error(y_test_boston, y_pred)\n",
    "mse = mean_squared_error(y_test_boston, y_pred)\n",
    "rmse = np.sqrt(mse)\n",
    "r2 = r2_score(y_test_boston, y_pred)\n",
    "\n",
    "# Print results\n",
    "print(f\"Mean Absolute Error (MAE): {mae:.2f}\")\n",
    "print(f\"Mean Squared Error (MSE): {mse:.2f}\")\n",
    "print(f\"Root Mean Squared Error (RMSE): {rmse:.2f}\")\n",
    "print(f\"R-squared (R²) Score: {r2:.2f}\")\n"
   ]
  },
  {
   "cell_type": "markdown",
   "id": "64ca5556-75e2-4c18-9a3a-c58ee17a926e",
   "metadata": {},
   "source": [
    "- Lower MAE, MSE, and RMSE indicate better predictions.\n",
    "- Higher R² suggests that the model explains most of the variance in house prices.\n",
    "- Compare these metrics with other models to assess improvement.\n",
    "\n",
    "You can work on alternative models Decision Trees or Random Forests for better performance. "
   ]
  },
  {
   "cell_type": "markdown",
   "id": "313544f1-2f4e-43cc-8141-905d28d085f8",
   "metadata": {},
   "source": [
    "## K-Fold Cross-Validation (for Regression)\n",
    "\n",
    "Unlike Stratified K-Fold, K-Fold is typically used for regression since there are no categorical labels to balance.\n",
    "\n",
    "Lets put it in action; We will implement the model and evaluate using mean_absolute_error"
   ]
  },
  {
   "cell_type": "code",
   "execution_count": null,
   "id": "e18e357a-1a2a-4211-9734-5834f1b1efd5",
   "metadata": {},
   "outputs": [],
   "source": [
    "from sklearn.model_selection import KFold\n",
    "\n",
    "# APPLY THE K-FOLD \n",
    "# Define K-Fold with 5 splits\n",
    "kf = KFold(n_splits=5, shuffle=True, random_state=42)\n",
    "\n",
    "# Initialize model\n",
    "model = LinearRegression()\n",
    "\n",
    "# Perform cross-validation\n",
    "mae_scores = cross_val_score(model, X_boston, y_boston, cv=kf, scoring='neg_mean_absolute_error')\n",
    "\n",
    "# Convert to positive MAE\n",
    "mae_scores = -mae_scores\n",
    "\n",
    "# Print results\n",
    "print(f\"Cross-Validation MAE Scores: {mae_scores}\")\n",
    "print(f\"Mean MAE: {mae_scores.mean():.2f}\")"
   ]
  },
  {
   "cell_type": "markdown",
   "id": "8d374fc6-e47e-422e-b521-cc891434fc72",
   "metadata": {},
   "source": [
    "- K-Fold is suitable for regression problems.\n",
    "- The Mean Absolute Error (MAE) provides a measure of model prediction accuracy.\n",
    "\n",
    "Lets repeat it with another model, Support Vector Machine Regressor"
   ]
  },
  {
   "cell_type": "code",
   "execution_count": null,
   "id": "10f442b1-c840-4a14-a1e1-cba1183e02d1",
   "metadata": {},
   "outputs": [],
   "source": [
    "from sklearn.svm import SVR\n",
    "\n",
    "# Initialize SVR model\n",
    "reg = SVR()\n",
    "\n",
    "# Perform cross-validation\n",
    "rmse_scores = np.sqrt(-cross_val_score(reg, X_boston, y_boston, cv=kf, scoring='neg_mean_squared_error'))\n",
    "\n",
    "print(f\"Mean RMSE: {rmse_scores.mean():.2f}\")"
   ]
  },
  {
   "cell_type": "code",
   "execution_count": null,
   "id": "db63ed54-e41d-4465-8fcd-000494be4ebe",
   "metadata": {},
   "outputs": [],
   "source": [
    "# Calculate the MAE for SVR model\n",
    "# Perform cross-validation\n",
    "mae_scores = cross_val_score(reg, X_boston, y_boston, cv=kf, scoring='neg_mean_absolute_error')\n",
    "\n",
    "# Convert to positive MAE\n",
    "mae_scores = -mae_scores\n",
    "\n",
    "# Print results\n",
    "print(f\"Cross-Validation MAE Scores: {mae_scores}\")\n",
    "print(f\"Mean MAE: {mae_scores.mean():.2f}\")"
   ]
  },
  {
   "cell_type": "code",
   "execution_count": null,
   "id": "cf9b8cf9-5400-49aa-ad80-c5d010233de8",
   "metadata": {},
   "outputs": [],
   "source": []
  },
  {
   "cell_type": "code",
   "execution_count": null,
   "id": "54eca25c-8ee6-4047-a82e-b558d5457427",
   "metadata": {},
   "outputs": [],
   "source": []
  },
  {
   "cell_type": "code",
   "execution_count": null,
   "id": "c8568778-310a-44db-a5bb-864355e32189",
   "metadata": {},
   "outputs": [],
   "source": []
  },
  {
   "cell_type": "code",
   "execution_count": null,
   "id": "927d19fb-9540-47d7-882b-960f8289e630",
   "metadata": {},
   "outputs": [],
   "source": []
  },
  {
   "cell_type": "code",
   "execution_count": null,
   "id": "da438635-e2bc-4ad6-9828-d2919cde053e",
   "metadata": {},
   "outputs": [],
   "source": []
  },
  {
   "cell_type": "code",
   "execution_count": null,
   "id": "fc3425a4-0ebf-43cd-abac-1fc3a7d2974d",
   "metadata": {},
   "outputs": [],
   "source": []
  },
  {
   "cell_type": "markdown",
   "id": "d35fb701-fc87-47d4-b25a-10bdf5c3de5d",
   "metadata": {},
   "source": [
    "## Hyperparameter Tuning for Model Performance\n",
    "\n",
    "- **GridSearchCV vs RandomizedSearchCV.**\n",
    "- Hands-on: Optimizing models using Titanic and Boston datasets"
   ]
  },
  {
   "cell_type": "code",
   "execution_count": null,
   "id": "b14e30d2-e61a-4340-b9fd-157d2ffbd1b9",
   "metadata": {},
   "outputs": [],
   "source": []
  },
  {
   "cell_type": "code",
   "execution_count": null,
   "id": "2d6d60f9-1f16-46a6-9804-bdc6ea831169",
   "metadata": {},
   "outputs": [],
   "source": []
  },
  {
   "cell_type": "code",
   "execution_count": null,
   "id": "a8fe308e-defb-4c72-82e9-e21ac1b9bc5b",
   "metadata": {},
   "outputs": [],
   "source": []
  },
  {
   "cell_type": "code",
   "execution_count": null,
   "id": "d24d1749-4824-4721-b67e-fb41eac34454",
   "metadata": {},
   "outputs": [],
   "source": []
  },
  {
   "cell_type": "code",
   "execution_count": null,
   "id": "98f0439d-b434-4ccf-8180-ffc8be7ce2fa",
   "metadata": {},
   "outputs": [],
   "source": []
  },
  {
   "cell_type": "code",
   "execution_count": null,
   "id": "5b168395-3cd7-4b95-bca2-51d720af8347",
   "metadata": {},
   "outputs": [],
   "source": []
  }
 ],
 "metadata": {
  "kernelspec": {
   "display_name": "Python 3 (ipykernel)",
   "language": "python",
   "name": "python3"
  },
  "language_info": {
   "codemirror_mode": {
    "name": "ipython",
    "version": 3
   },
   "file_extension": ".py",
   "mimetype": "text/x-python",
   "name": "python",
   "nbconvert_exporter": "python",
   "pygments_lexer": "ipython3",
   "version": "3.12.7"
  },
  "widgets": {
   "application/vnd.jupyter.widget-state+json": {
    "state": {},
    "version_major": 2,
    "version_minor": 0
   }
  }
 },
 "nbformat": 4,
 "nbformat_minor": 5
}
