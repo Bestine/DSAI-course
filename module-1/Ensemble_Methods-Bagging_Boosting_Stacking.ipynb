{
 "cells": [
  {
   "cell_type": "markdown",
   "id": "ec08bb69-53a8-49a5-8845-3d604c1c1ee8",
   "metadata": {},
   "source": [
    "# Ensemble Methods\n",
    "\n",
    "Ensemble methods combine multiple models to improve accuracy and robustness. The main types are:\n",
    "\n",
    "1. Bagging (Bootstrap Aggregating)\n",
    "2. Boosting (Sequential Learning)\n",
    "3. Stacking (Blending Multiple Models)\n",
    "\n",
    "We'll demonstrate these using sklearn on the breast cancer dataset."
   ]
  },
  {
   "cell_type": "markdown",
   "id": "f785d045-c607-4da1-9e72-e6258cfec9b8",
   "metadata": {},
   "source": [
    "Lets load the data and preprocess it"
   ]
  },
  {
   "cell_type": "code",
   "execution_count": 1,
   "id": "cd27c5a7-10f5-4b08-832e-4ade5629e16c",
   "metadata": {},
   "outputs": [],
   "source": [
    "import numpy as np\n",
    "import matplotlib.pyplot as plt\n",
    "from sklearn.datasets import load_breast_cancer\n",
    "from sklearn.model_selection import train_test_split\n",
    "from sklearn.preprocessing import StandardScaler\n",
    "from sklearn.ensemble import BaggingClassifier, AdaBoostClassifier, GradientBoostingClassifier, StackingClassifier\n",
    "from sklearn.linear_model import LogisticRegression\n",
    "from sklearn.tree import DecisionTreeClassifier\n",
    "from sklearn.svm import SVC\n",
    "from sklearn.metrics import accuracy_score\n",
    "\n",
    "# Load dataset\n",
    "data = load_breast_cancer()\n",
    "X, y = data.data, data.target\n",
    "\n",
    "# Split into training and testing sets\n",
    "X_train, X_test, y_train, y_test = train_test_split(X, y, test_size=0.2, random_state=42)\n",
    "\n",
    "# Scale features\n",
    "scaler = StandardScaler()\n",
    "X_train = scaler.fit_transform(X_train)\n",
    "X_test = scaler.transform(X_test)"
   ]
  },
  {
   "cell_type": "markdown",
   "id": "22de650e-e243-4f6f-bd4b-3b81509e3432",
   "metadata": {},
   "source": [
    "<span style=\"color: #00008B;\">**Bagging (Bootstrap Aggregating)**</span>\n",
    "\n",
    "Bagging reduces variance by training multiple models on random subsets of the data."
   ]
  },
  {
   "cell_type": "code",
   "execution_count": 2,
   "id": "621d5cb0-e5a4-434a-a8bf-8d6dee651a2b",
   "metadata": {},
   "outputs": [
    {
     "ename": "TypeError",
     "evalue": "BaggingClassifier.__init__() got an unexpected keyword argument 'base_estimator'",
     "output_type": "error",
     "traceback": [
      "\u001b[31m---------------------------------------------------------------------------\u001b[39m",
      "\u001b[31mTypeError\u001b[39m                                 Traceback (most recent call last)",
      "\u001b[36mCell\u001b[39m\u001b[36m \u001b[39m\u001b[32mIn[2]\u001b[39m\u001b[32m, line 2\u001b[39m\n\u001b[32m      1\u001b[39m \u001b[38;5;66;03m# Bagging using Decision Tree\u001b[39;00m\n\u001b[32m----> \u001b[39m\u001b[32m2\u001b[39m bagging_clf = \u001b[43mBaggingClassifier\u001b[49m\u001b[43m(\u001b[49m\u001b[43mbase_estimator\u001b[49m\u001b[43m=\u001b[49m\u001b[43mDecisionTreeClassifier\u001b[49m\u001b[43m(\u001b[49m\u001b[43m)\u001b[49m\u001b[43m,\u001b[49m\u001b[43m \u001b[49m\u001b[43mn_estimators\u001b[49m\u001b[43m=\u001b[49m\u001b[32;43m50\u001b[39;49m\u001b[43m,\u001b[49m\u001b[43m \u001b[49m\u001b[43mrandom_state\u001b[49m\u001b[43m=\u001b[49m\u001b[32;43m42\u001b[39;49m\u001b[43m)\u001b[49m\n\u001b[32m      3\u001b[39m bagging_clf.fit(X_train, y_train)\n\u001b[32m      4\u001b[39m y_pred_bagging = bagging_clf.predict(X_test)\n",
      "\u001b[31mTypeError\u001b[39m: BaggingClassifier.__init__() got an unexpected keyword argument 'base_estimator'"
     ]
    }
   ],
   "source": [
    "# Bagging using Decision Tree\n",
    "bagging_clf = BaggingClassifier(base_estimator=DecisionTreeClassifier(), n_estimators=50, random_state=42)\n",
    "bagging_clf.fit(X_train, y_train)\n",
    "y_pred_bagging = bagging_clf.predict(X_test)\n",
    "\n",
    "# Evaluate\n",
    "print(f\"Bagging Accuracy: {accuracy_score(y_test, y_pred_bagging):.2f}\")"
   ]
  }
 ],
 "metadata": {
  "kernelspec": {
   "display_name": "Python 3 (ipykernel)",
   "language": "python",
   "name": "python3"
  },
  "language_info": {
   "codemirror_mode": {
    "name": "ipython",
    "version": 3
   },
   "file_extension": ".py",
   "mimetype": "text/x-python",
   "name": "python",
   "nbconvert_exporter": "python",
   "pygments_lexer": "ipython3",
   "version": "3.12.7"
  },
  "widgets": {
   "application/vnd.jupyter.widget-state+json": {
    "state": {},
    "version_major": 2,
    "version_minor": 0
   }
  }
 },
 "nbformat": 4,
 "nbformat_minor": 5
}
