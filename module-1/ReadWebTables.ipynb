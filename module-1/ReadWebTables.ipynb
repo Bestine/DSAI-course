{
 "cells": [
  {
   "cell_type": "code",
   "execution_count": 1,
   "id": "ceedb8bf-b791-4dd9-87f2-dea9edb6ec07",
   "metadata": {},
   "outputs": [
    {
     "name": "stdout",
     "output_type": "stream",
     "text": [
      "5\n"
     ]
    }
   ],
   "source": [
    "# Read tables from Websites \n",
    "import pandas as pd\n",
    "\n",
    "\n",
    "url = \"https://en.wikipedia.org/wiki/List_of_countries_by_Internet_connection_speeds\"\n",
    "\n",
    "tables = pd.read_html(url)\n",
    "\n",
    "print(len(tables)) # Show number of tables"
   ]
  },
  {
   "cell_type": "code",
   "execution_count": 2,
   "id": "042575c4-1ddc-4864-9e36-8d382da4b5ab",
   "metadata": {},
   "outputs": [
    {
     "name": "stdout",
     "output_type": "stream",
     "text": [
      "    0                                                  1\n",
      "0 NaN  This section needs to be updated. Please help ...\n"
     ]
    }
   ],
   "source": [
    "print(tables[0])"
   ]
  },
  {
   "cell_type": "code",
   "execution_count": 3,
   "id": "5a83bcaa-5807-4fd5-a25b-81c88f091776",
   "metadata": {},
   "outputs": [
    {
     "name": "stdout",
     "output_type": "stream",
     "text": [
      "        Country/Territory  Averagedownloadspeed(Mbit/s)(Ookla)[1]\n",
      "0               Singapore                                  336.45\n",
      "1    United Arab Emirates                                  310.05\n",
      "2               Hong Kong                                  305.71\n",
      "3                  France                                  287.44\n",
      "4                 Iceland                                  281.95\n",
      "..                    ...                                     ...\n",
      "147              Cameroon                                    9.02\n",
      "148           Afghanistan                                    3.81\n",
      "149          Turkmenistan                                    3.60\n",
      "150                 Syria                                    3.31\n",
      "151                  Cuba                                    3.04\n",
      "\n",
      "[152 rows x 2 columns]\n"
     ]
    }
   ],
   "source": [
    "# Show another table\n",
    "print(tables[1])"
   ]
  },
  {
   "cell_type": "code",
   "execution_count": 6,
   "id": "6bd8da4b-15ef-4fef-8f8c-7d30264f959a",
   "metadata": {},
   "outputs": [
    {
     "data": {
      "text/html": [
       "<div>\n",
       "<style scoped>\n",
       "    .dataframe tbody tr th:only-of-type {\n",
       "        vertical-align: middle;\n",
       "    }\n",
       "\n",
       "    .dataframe tbody tr th {\n",
       "        vertical-align: top;\n",
       "    }\n",
       "\n",
       "    .dataframe thead th {\n",
       "        text-align: right;\n",
       "    }\n",
       "</style>\n",
       "<table border=\"1\" class=\"dataframe\">\n",
       "  <thead>\n",
       "    <tr style=\"text-align: right;\">\n",
       "      <th></th>\n",
       "      <th>Country/Territory</th>\n",
       "      <th>Average connection speed (Mbit/s) Opensignal (May 2020) (data collected Q1 2020)[2]</th>\n",
       "      <th>Median connection speed (Mbit/s) Ookla (March 2022)[3]</th>\n",
       "    </tr>\n",
       "  </thead>\n",
       "  <tbody>\n",
       "    <tr>\n",
       "      <th>0</th>\n",
       "      <td>Canada</td>\n",
       "      <td>59.6</td>\n",
       "      <td>75.18</td>\n",
       "    </tr>\n",
       "    <tr>\n",
       "      <th>1</th>\n",
       "      <td>South Korea</td>\n",
       "      <td>59.0</td>\n",
       "      <td>117.95</td>\n",
       "    </tr>\n",
       "    <tr>\n",
       "      <th>2</th>\n",
       "      <td>Netherlands</td>\n",
       "      <td>54.8</td>\n",
       "      <td>108.33</td>\n",
       "    </tr>\n",
       "    <tr>\n",
       "      <th>3</th>\n",
       "      <td>Japan</td>\n",
       "      <td>51.4</td>\n",
       "      <td>44.05</td>\n",
       "    </tr>\n",
       "    <tr>\n",
       "      <th>4</th>\n",
       "      <td>Norway</td>\n",
       "      <td>48.8</td>\n",
       "      <td>134.73</td>\n",
       "    </tr>\n",
       "  </tbody>\n",
       "</table>\n",
       "</div>"
      ],
      "text/plain": [
       "  Country/Territory  \\\n",
       "0            Canada   \n",
       "1       South Korea   \n",
       "2       Netherlands   \n",
       "3             Japan   \n",
       "4            Norway   \n",
       "\n",
       "   Average connection speed (Mbit/s) Opensignal (May 2020) (data collected Q1 2020)[2]  \\\n",
       "0                                               59.6                                     \n",
       "1                                               59.0                                     \n",
       "2                                               54.8                                     \n",
       "3                                               51.4                                     \n",
       "4                                               48.8                                     \n",
       "\n",
       "   Median connection speed (Mbit/s) Ookla (March 2022)[3]  \n",
       "0                                              75.18       \n",
       "1                                             117.95       \n",
       "2                                             108.33       \n",
       "3                                              44.05       \n",
       "4                                             134.73       "
      ]
     },
     "execution_count": 6,
     "metadata": {},
     "output_type": "execute_result"
    }
   ],
   "source": [
    "# Show another table\n",
    "tables[3].head()"
   ]
  }
 ],
 "metadata": {
  "kernelspec": {
   "display_name": "Python 3 (ipykernel)",
   "language": "python",
   "name": "python3"
  },
  "language_info": {
   "codemirror_mode": {
    "name": "ipython",
    "version": 3
   },
   "file_extension": ".py",
   "mimetype": "text/x-python",
   "name": "python",
   "nbconvert_exporter": "python",
   "pygments_lexer": "ipython3",
   "version": "3.12.7"
  },
  "widgets": {
   "application/vnd.jupyter.widget-state+json": {
    "state": {},
    "version_major": 2,
    "version_minor": 0
   }
  }
 },
 "nbformat": 4,
 "nbformat_minor": 5
}
