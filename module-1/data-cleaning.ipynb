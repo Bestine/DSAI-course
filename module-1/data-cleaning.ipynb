{
 "cells": [
  {
   "cell_type": "markdown",
   "id": "93db8fb0",
   "metadata": {
    "papermill": {
     "duration": 0.013642,
     "end_time": "2024-06-13T01:45:33.499594",
     "exception": false,
     "start_time": "2024-06-13T01:45:33.485952",
     "status": "completed"
    },
    "tags": []
   },
   "source": [
    "# A Comprehensive Guide to Data Cleaning\n",
    "\n",
    "In data analysis and machine learning, data is everything. The adage \"garbage in garbage out\" couldn't ring truer. The foundation of any meaningful data work and product lies in clean and reliable data, yet data in the real world seldom arrives clean.\n",
    "\n",
    "Whether scraped from the web or obtained through various sources, chances are that raw datasets often contain inconsistencies, errors, and missing values, rendering them unfit for analysis and modeling.\n",
    "\n",
    "**Purpose:** This guide will walk you through the process of data cleaning, covering techniques, best practices, and tools needed to turn messy, raw data into clean, organized data ready for analysis and modeling. We'll discuss each step in detail, making it easy to understand and apply these concepts to your own data projects.\n",
    "\n",
    "As we all know, clean data sparks joy. Happy learning! 😊"
   ]
  },
  {
   "cell_type": "code",
   "execution_count": 1,
   "id": "b208555c",
   "metadata": {
    "execution": {
     "iopub.execute_input": "2024-06-13T01:45:33.528304Z",
     "iopub.status.busy": "2024-06-13T01:45:33.527403Z",
     "iopub.status.idle": "2024-06-13T01:45:34.472794Z",
     "shell.execute_reply": "2024-06-13T01:45:34.471663Z"
    },
    "papermill": {
     "duration": 0.962621,
     "end_time": "2024-06-13T01:45:34.475445",
     "exception": false,
     "start_time": "2024-06-13T01:45:33.512824",
     "status": "completed"
    },
    "tags": []
   },
   "outputs": [],
   "source": [
    "import numpy as np\n",
    "import pandas as pd\n",
    "import random\n",
    "import warnings\n",
    "warnings.filterwarnings('ignore')"
   ]
  },
  {
   "cell_type": "markdown",
   "id": "da725add",
   "metadata": {
    "papermill": {
     "duration": 0.0141,
     "end_time": "2024-06-13T01:45:34.502811",
     "exception": false,
     "start_time": "2024-06-13T01:45:34.488711",
     "status": "completed"
    },
    "tags": []
   },
   "source": [
    "# 1. Generate Data\n",
    "\n",
    "For this tutorial, we will use a synthetic dataset that allows us to explore techniques and best procedures for data cleaning."
   ]
  },
  {
   "cell_type": "code",
   "execution_count": 2,
   "id": "38d2f3f7",
   "metadata": {
    "execution": {
     "iopub.execute_input": "2024-06-13T01:45:34.531052Z",
     "iopub.status.busy": "2024-06-13T01:45:34.530549Z",
     "iopub.status.idle": "2024-06-13T01:45:34.575283Z",
     "shell.execute_reply": "2024-06-13T01:45:34.573970Z"
    },
    "papermill": {
     "duration": 0.061851,
     "end_time": "2024-06-13T01:45:34.577899",
     "exception": false,
     "start_time": "2024-06-13T01:45:34.516048",
     "status": "completed"
    },
    "tags": []
   },
   "outputs": [],
   "source": [
    "random.seed(42)\n",
    "np.random.seed(42)\n",
    "\n",
    "# Generate unique sample email addresses and postal codes\n",
    "emails = [f'user{i}@example.com' for i in range(1, 101)]\n",
    "postal_codes = [f'{np.random.randint(10000, 99999)}' for _ in range(100)]\n",
    "\n",
    "# generate data\n",
    "data = {\n",
    "    'ID': range(1, 101),\n",
    "    'Age': [random.choice([25, 30, 35, 40, 45, 50, 60, 70]) for _ in range(100)],\n",
    "    'Gender': [random.choice(['M', 'F', 'Male', 'Female', 'male', 'female']) for _ in range(100)],\n",
    "    'Income': [random.choice([30000, 50000, 70000, 90000, 110000, np.nan]) for _ in range(100)],\n",
    "    'Date of Joining': pd.date_range(start='1/1/2020', periods=100, freq='D').strftime('%Y-%m-%d').tolist(),\n",
    "    'City': [random.choice(['New York', 'Los Angeles', 'Chicago', 'Houston', 'Phoenix', 'New york', 'los angeles', 'chicago', 'HOUSTON', 'phoenix', np.nan]) for _ in range(100)],\n",
    "    'Happiness Score': [random.choice([50, 60, 70, 80, 90, 100, 150, 200]) for _ in range(100)],\n",
    "    'Email_Postal': [f\"{random.choice(emails)},{random.choice(postal_codes)}\" for _ in range(100)],\n",
    "    'Education': [f\"{random.choice(['Bachelor', 'Master', 'PhD'])}\" for _ in range(100)]\n",
    "}\n",
    "\n",
    "# create dataframe\n",
    "df = pd.DataFrame(data)\n",
    "\n",
    "# add outliers\n",
    "outlier_indices = random.sample(range(len(df)), 2)\n",
    "df.loc[outlier_indices, 'Income'] = df.loc[outlier_indices, 'Income'] * 10\n",
    "\n",
    "# add duplicate rows\n",
    "duplicate_indices = random.sample(range(len(df)), 3)  # Select 3 random indices to duplicate\n",
    "df = pd.concat([df, df.loc[duplicate_indices]], ignore_index=True)  # Append duplicate rows to the DataFrame"
   ]
  },
  {
   "cell_type": "markdown",
   "id": "42b08bd5",
   "metadata": {
    "papermill": {
     "duration": 0.012966,
     "end_time": "2024-06-13T01:45:34.604227",
     "exception": false,
     "start_time": "2024-06-13T01:45:34.591261",
     "status": "completed"
    },
    "tags": []
   },
   "source": [
    "When we work on a new dataset, it is a good idea to perform an initial inspection and sanity check.\n",
    "\n",
    "| Method      | Step |\n",
    "| ----------- | ----------- |\n",
    "| `df.head()`      | First 5 rows       |\n",
    "| `df.tail()`      | Last 5 rows       |\n",
    "| `df.shape`   | No. of rows and columns |\n",
    "| `df.describe()` | Statistics summary |\n",
    "| `df.info()` | General info |"
   ]
  },
  {
   "cell_type": "code",
   "execution_count": 3,
   "id": "167e2684",
   "metadata": {
    "execution": {
     "iopub.execute_input": "2024-06-13T01:45:34.632246Z",
     "iopub.status.busy": "2024-06-13T01:45:34.631821Z",
     "iopub.status.idle": "2024-06-13T01:45:34.652499Z",
     "shell.execute_reply": "2024-06-13T01:45:34.651396Z"
    },
    "papermill": {
     "duration": 0.037837,
     "end_time": "2024-06-13T01:45:34.655204",
     "exception": false,
     "start_time": "2024-06-13T01:45:34.617367",
     "status": "completed"
    },
    "tags": []
   },
   "outputs": [
    {
     "data": {
      "text/html": [
       "<div>\n",
       "<style scoped>\n",
       "    .dataframe tbody tr th:only-of-type {\n",
       "        vertical-align: middle;\n",
       "    }\n",
       "\n",
       "    .dataframe tbody tr th {\n",
       "        vertical-align: top;\n",
       "    }\n",
       "\n",
       "    .dataframe thead th {\n",
       "        text-align: right;\n",
       "    }\n",
       "</style>\n",
       "<table border=\"1\" class=\"dataframe\">\n",
       "  <thead>\n",
       "    <tr style=\"text-align: right;\">\n",
       "      <th></th>\n",
       "      <th>ID</th>\n",
       "      <th>Age</th>\n",
       "      <th>Gender</th>\n",
       "      <th>Income</th>\n",
       "      <th>Date of Joining</th>\n",
       "      <th>City</th>\n",
       "      <th>Happiness Score</th>\n",
       "      <th>Email_Postal</th>\n",
       "      <th>Education</th>\n",
       "    </tr>\n",
       "  </thead>\n",
       "  <tbody>\n",
       "    <tr>\n",
       "      <th>98</th>\n",
       "      <td>99</td>\n",
       "      <td>30</td>\n",
       "      <td>M</td>\n",
       "      <td>110000.0</td>\n",
       "      <td>2020-04-08</td>\n",
       "      <td>New York</td>\n",
       "      <td>200</td>\n",
       "      <td>user31@example.com,72955</td>\n",
       "      <td>PhD</td>\n",
       "    </tr>\n",
       "    <tr>\n",
       "      <th>99</th>\n",
       "      <td>100</td>\n",
       "      <td>60</td>\n",
       "      <td>M</td>\n",
       "      <td>30000.0</td>\n",
       "      <td>2020-04-09</td>\n",
       "      <td>Los Angeles</td>\n",
       "      <td>70</td>\n",
       "      <td>user61@example.com,96779</td>\n",
       "      <td>Bachelor</td>\n",
       "    </tr>\n",
       "    <tr>\n",
       "      <th>100</th>\n",
       "      <td>93</td>\n",
       "      <td>30</td>\n",
       "      <td>M</td>\n",
       "      <td>110000.0</td>\n",
       "      <td>2020-04-02</td>\n",
       "      <td>Phoenix</td>\n",
       "      <td>150</td>\n",
       "      <td>user84@example.com,54131</td>\n",
       "      <td>Master</td>\n",
       "    </tr>\n",
       "    <tr>\n",
       "      <th>101</th>\n",
       "      <td>53</td>\n",
       "      <td>70</td>\n",
       "      <td>M</td>\n",
       "      <td>30000.0</td>\n",
       "      <td>2020-02-22</td>\n",
       "      <td>chicago</td>\n",
       "      <td>90</td>\n",
       "      <td>user53@example.com,97313</td>\n",
       "      <td>Master</td>\n",
       "    </tr>\n",
       "    <tr>\n",
       "      <th>102</th>\n",
       "      <td>63</td>\n",
       "      <td>35</td>\n",
       "      <td>F</td>\n",
       "      <td>50000.0</td>\n",
       "      <td>2020-03-03</td>\n",
       "      <td>NaN</td>\n",
       "      <td>150</td>\n",
       "      <td>user97@example.com,78148</td>\n",
       "      <td>Master</td>\n",
       "    </tr>\n",
       "  </tbody>\n",
       "</table>\n",
       "</div>"
      ],
      "text/plain": [
       "      ID  Age Gender    Income Date of Joining         City  Happiness Score  \\\n",
       "98    99   30      M  110000.0      2020-04-08     New York              200   \n",
       "99   100   60      M   30000.0      2020-04-09  Los Angeles               70   \n",
       "100   93   30      M  110000.0      2020-04-02      Phoenix              150   \n",
       "101   53   70      M   30000.0      2020-02-22      chicago               90   \n",
       "102   63   35      F   50000.0      2020-03-03          NaN              150   \n",
       "\n",
       "                 Email_Postal Education  \n",
       "98   user31@example.com,72955       PhD  \n",
       "99   user61@example.com,96779  Bachelor  \n",
       "100  user84@example.com,54131    Master  \n",
       "101  user53@example.com,97313    Master  \n",
       "102  user97@example.com,78148    Master  "
      ]
     },
     "execution_count": 3,
     "metadata": {},
     "output_type": "execute_result"
    }
   ],
   "source": [
    "df.tail()"
   ]
  },
  {
   "cell_type": "markdown",
   "id": "e4da01c0",
   "metadata": {
    "papermill": {
     "duration": 0.013084,
     "end_time": "2024-06-13T01:45:34.681903",
     "exception": false,
     "start_time": "2024-06-13T01:45:34.668819",
     "status": "completed"
    },
    "tags": []
   },
   "source": [
    "Notice that there are inconsistencies in `Gender`, `City` columns. (E.g. Female and F are both referring to \"Female\")"
   ]
  },
  {
   "cell_type": "code",
   "execution_count": 4,
   "id": "24022159",
   "metadata": {
    "execution": {
     "iopub.execute_input": "2024-06-13T01:45:34.710879Z",
     "iopub.status.busy": "2024-06-13T01:45:34.710490Z",
     "iopub.status.idle": "2024-06-13T01:45:34.717047Z",
     "shell.execute_reply": "2024-06-13T01:45:34.716039Z"
    },
    "papermill": {
     "duration": 0.023586,
     "end_time": "2024-06-13T01:45:34.719277",
     "exception": false,
     "start_time": "2024-06-13T01:45:34.695691",
     "status": "completed"
    },
    "tags": []
   },
   "outputs": [
    {
     "data": {
      "text/plain": [
       "(103, 9)"
      ]
     },
     "execution_count": 4,
     "metadata": {},
     "output_type": "execute_result"
    }
   ],
   "source": [
    "df.shape"
   ]
  },
  {
   "cell_type": "code",
   "execution_count": 5,
   "id": "78256b9c",
   "metadata": {
    "execution": {
     "iopub.execute_input": "2024-06-13T01:45:34.748588Z",
     "iopub.status.busy": "2024-06-13T01:45:34.748194Z",
     "iopub.status.idle": "2024-06-13T01:45:34.774294Z",
     "shell.execute_reply": "2024-06-13T01:45:34.773022Z"
    },
    "papermill": {
     "duration": 0.043719,
     "end_time": "2024-06-13T01:45:34.776665",
     "exception": false,
     "start_time": "2024-06-13T01:45:34.732946",
     "status": "completed"
    },
    "tags": []
   },
   "outputs": [
    {
     "data": {
      "text/html": [
       "<div>\n",
       "<style scoped>\n",
       "    .dataframe tbody tr th:only-of-type {\n",
       "        vertical-align: middle;\n",
       "    }\n",
       "\n",
       "    .dataframe tbody tr th {\n",
       "        vertical-align: top;\n",
       "    }\n",
       "\n",
       "    .dataframe thead th {\n",
       "        text-align: right;\n",
       "    }\n",
       "</style>\n",
       "<table border=\"1\" class=\"dataframe\">\n",
       "  <thead>\n",
       "    <tr style=\"text-align: right;\">\n",
       "      <th></th>\n",
       "      <th>ID</th>\n",
       "      <th>Age</th>\n",
       "      <th>Income</th>\n",
       "      <th>Happiness Score</th>\n",
       "    </tr>\n",
       "  </thead>\n",
       "  <tbody>\n",
       "    <tr>\n",
       "      <th>count</th>\n",
       "      <td>103.000000</td>\n",
       "      <td>103.000000</td>\n",
       "      <td>88.000000</td>\n",
       "      <td>103.000000</td>\n",
       "    </tr>\n",
       "    <tr>\n",
       "      <th>mean</th>\n",
       "      <td>51.058252</td>\n",
       "      <td>42.815534</td>\n",
       "      <td>67954.545455</td>\n",
       "      <td>99.029126</td>\n",
       "    </tr>\n",
       "    <tr>\n",
       "      <th>std</th>\n",
       "      <td>28.911910</td>\n",
       "      <td>13.073508</td>\n",
       "      <td>29249.583587</td>\n",
       "      <td>40.789141</td>\n",
       "    </tr>\n",
       "    <tr>\n",
       "      <th>min</th>\n",
       "      <td>1.000000</td>\n",
       "      <td>25.000000</td>\n",
       "      <td>30000.000000</td>\n",
       "      <td>50.000000</td>\n",
       "    </tr>\n",
       "    <tr>\n",
       "      <th>25%</th>\n",
       "      <td>26.500000</td>\n",
       "      <td>30.000000</td>\n",
       "      <td>50000.000000</td>\n",
       "      <td>70.000000</td>\n",
       "    </tr>\n",
       "    <tr>\n",
       "      <th>50%</th>\n",
       "      <td>52.000000</td>\n",
       "      <td>40.000000</td>\n",
       "      <td>70000.000000</td>\n",
       "      <td>90.000000</td>\n",
       "    </tr>\n",
       "    <tr>\n",
       "      <th>75%</th>\n",
       "      <td>75.500000</td>\n",
       "      <td>50.000000</td>\n",
       "      <td>90000.000000</td>\n",
       "      <td>125.000000</td>\n",
       "    </tr>\n",
       "    <tr>\n",
       "      <th>max</th>\n",
       "      <td>100.000000</td>\n",
       "      <td>70.000000</td>\n",
       "      <td>110000.000000</td>\n",
       "      <td>200.000000</td>\n",
       "    </tr>\n",
       "  </tbody>\n",
       "</table>\n",
       "</div>"
      ],
      "text/plain": [
       "               ID         Age         Income  Happiness Score\n",
       "count  103.000000  103.000000      88.000000       103.000000\n",
       "mean    51.058252   42.815534   67954.545455        99.029126\n",
       "std     28.911910   13.073508   29249.583587        40.789141\n",
       "min      1.000000   25.000000   30000.000000        50.000000\n",
       "25%     26.500000   30.000000   50000.000000        70.000000\n",
       "50%     52.000000   40.000000   70000.000000        90.000000\n",
       "75%     75.500000   50.000000   90000.000000       125.000000\n",
       "max    100.000000   70.000000  110000.000000       200.000000"
      ]
     },
     "execution_count": 5,
     "metadata": {},
     "output_type": "execute_result"
    }
   ],
   "source": [
    "df.describe()"
   ]
  },
  {
   "cell_type": "markdown",
   "id": "fcc84fbc",
   "metadata": {
    "papermill": {
     "duration": 0.013574,
     "end_time": "2024-06-13T01:45:34.804229",
     "exception": false,
     "start_time": "2024-06-13T01:45:34.790655",
     "status": "completed"
    },
    "tags": []
   },
   "source": [
    "This gives us the statistical summary. At a glance, we get information such as mean, median, count, standard deviation, minimum and maximum."
   ]
  },
  {
   "cell_type": "code",
   "execution_count": 6,
   "id": "aca9d28d",
   "metadata": {
    "execution": {
     "iopub.execute_input": "2024-06-13T01:45:34.834201Z",
     "iopub.status.busy": "2024-06-13T01:45:34.833155Z",
     "iopub.status.idle": "2024-06-13T01:45:34.855859Z",
     "shell.execute_reply": "2024-06-13T01:45:34.854626Z"
    },
    "papermill": {
     "duration": 0.040615,
     "end_time": "2024-06-13T01:45:34.858658",
     "exception": false,
     "start_time": "2024-06-13T01:45:34.818043",
     "status": "completed"
    },
    "tags": []
   },
   "outputs": [
    {
     "name": "stdout",
     "output_type": "stream",
     "text": [
      "<class 'pandas.core.frame.DataFrame'>\n",
      "RangeIndex: 103 entries, 0 to 102\n",
      "Data columns (total 9 columns):\n",
      " #   Column           Non-Null Count  Dtype  \n",
      "---  ------           --------------  -----  \n",
      " 0   ID               103 non-null    int64  \n",
      " 1   Age              103 non-null    int64  \n",
      " 2   Gender           103 non-null    object \n",
      " 3   Income           88 non-null     float64\n",
      " 4   Date of Joining  103 non-null    object \n",
      " 5   City             90 non-null     object \n",
      " 6   Happiness Score  103 non-null    int64  \n",
      " 7   Email_Postal     103 non-null    object \n",
      " 8   Education        103 non-null    object \n",
      "dtypes: float64(1), int64(3), object(5)\n",
      "memory usage: 7.4+ KB\n"
     ]
    }
   ],
   "source": [
    "df.info()"
   ]
  },
  {
   "cell_type": "markdown",
   "id": "9c98dbe0",
   "metadata": {
    "papermill": {
     "duration": 0.014033,
     "end_time": "2024-06-13T01:45:34.887675",
     "exception": false,
     "start_time": "2024-06-13T01:45:34.873642",
     "status": "completed"
    },
    "tags": []
   },
   "source": [
    "Here we see that `Income` and `City` have missing values. `Date of Joining` is a datetime but data is stored as object. These need to be handled later on."
   ]
  },
  {
   "cell_type": "markdown",
   "id": "f35ac334",
   "metadata": {
    "papermill": {
     "duration": 0.013701,
     "end_time": "2024-06-13T01:45:34.915832",
     "exception": false,
     "start_time": "2024-06-13T01:45:34.902131",
     "status": "completed"
    },
    "tags": []
   },
   "source": [
    "# 2. Standardization\n",
    "\n",
    "Often, converting text to lowercase and replacing spaces or special characters with underscores help ensure consistency and avoid errors."
   ]
  },
  {
   "cell_type": "code",
   "execution_count": 7,
   "id": "4b8d65d7",
   "metadata": {
    "execution": {
     "iopub.execute_input": "2024-06-13T01:45:34.945893Z",
     "iopub.status.busy": "2024-06-13T01:45:34.945487Z",
     "iopub.status.idle": "2024-06-13T01:45:34.954805Z",
     "shell.execute_reply": "2024-06-13T01:45:34.953714Z"
    },
    "papermill": {
     "duration": 0.027046,
     "end_time": "2024-06-13T01:45:34.957176",
     "exception": false,
     "start_time": "2024-06-13T01:45:34.930130",
     "status": "completed"
    },
    "tags": []
   },
   "outputs": [
    {
     "data": {
      "text/plain": [
       "Index(['id', 'age', 'gender', 'income', 'date_of_joining', 'city',\n",
       "       'happiness_score', 'email_postal', 'education'],\n",
       "      dtype='object')"
      ]
     },
     "execution_count": 7,
     "metadata": {},
     "output_type": "execute_result"
    }
   ],
   "source": [
    "# standardize column names\n",
    "df.columns = df.columns.str.lower().str.replace(' ','_').str.replace(r'\\W', '', regex=True)\n",
    "df.columns"
   ]
  },
  {
   "cell_type": "code",
   "execution_count": 8,
   "id": "1dd6d8fb",
   "metadata": {
    "execution": {
     "iopub.execute_input": "2024-06-13T01:45:34.986970Z",
     "iopub.status.busy": "2024-06-13T01:45:34.986575Z",
     "iopub.status.idle": "2024-06-13T01:45:34.995699Z",
     "shell.execute_reply": "2024-06-13T01:45:34.994504Z"
    },
    "papermill": {
     "duration": 0.026963,
     "end_time": "2024-06-13T01:45:34.998139",
     "exception": false,
     "start_time": "2024-06-13T01:45:34.971176",
     "status": "completed"
    },
    "tags": []
   },
   "outputs": [
    {
     "data": {
      "text/plain": [
       "city\n",
       "Phoenix        15\n",
       "Los Angeles    13\n",
       "NaN            13\n",
       "phoenix        11\n",
       "HOUSTON        10\n",
       "Chicago         8\n",
       "Houston         8\n",
       "New York        7\n",
       "New york        7\n",
       "chicago         6\n",
       "los angeles     5\n",
       "Name: count, dtype: int64"
      ]
     },
     "execution_count": 8,
     "metadata": {},
     "output_type": "execute_result"
    }
   ],
   "source": [
    "# standardize values in city\n",
    "df.city.value_counts(dropna=False)"
   ]
  },
  {
   "cell_type": "markdown",
   "id": "ae41bd6e",
   "metadata": {
    "papermill": {
     "duration": 0.013888,
     "end_time": "2024-06-13T01:45:35.026873",
     "exception": false,
     "start_time": "2024-06-13T01:45:35.012985",
     "status": "completed"
    },
    "tags": []
   },
   "source": [
    "Phoenix and phoenix, New York and New york. These pairs refer to the same location. One way to standardize is to lowercase the values. (Missing value will be handled later)"
   ]
  },
  {
   "cell_type": "code",
   "execution_count": 9,
   "id": "bf00b43c",
   "metadata": {
    "execution": {
     "iopub.execute_input": "2024-06-13T01:45:35.057159Z",
     "iopub.status.busy": "2024-06-13T01:45:35.056763Z",
     "iopub.status.idle": "2024-06-13T01:45:35.066023Z",
     "shell.execute_reply": "2024-06-13T01:45:35.064846Z"
    },
    "papermill": {
     "duration": 0.027187,
     "end_time": "2024-06-13T01:45:35.068441",
     "exception": false,
     "start_time": "2024-06-13T01:45:35.041254",
     "status": "completed"
    },
    "tags": []
   },
   "outputs": [
    {
     "data": {
      "text/plain": [
       "array(['chicago', 'los angeles', 'phoenix', nan, 'houston', 'new york'],\n",
       "      dtype=object)"
      ]
     },
     "execution_count": 9,
     "metadata": {},
     "output_type": "execute_result"
    }
   ],
   "source": [
    "df.city = df.city.str.lower()\n",
    "df.city.unique()"
   ]
  },
  {
   "cell_type": "code",
   "execution_count": 10,
   "id": "69834fec",
   "metadata": {
    "execution": {
     "iopub.execute_input": "2024-06-13T01:45:35.099563Z",
     "iopub.status.busy": "2024-06-13T01:45:35.099161Z",
     "iopub.status.idle": "2024-06-13T01:45:35.108623Z",
     "shell.execute_reply": "2024-06-13T01:45:35.107561Z"
    },
    "papermill": {
     "duration": 0.027427,
     "end_time": "2024-06-13T01:45:35.110971",
     "exception": false,
     "start_time": "2024-06-13T01:45:35.083544",
     "status": "completed"
    },
    "tags": []
   },
   "outputs": [
    {
     "data": {
      "text/plain": [
       "gender\n",
       "M         22\n",
       "male      21\n",
       "F         18\n",
       "female    17\n",
       "Male      14\n",
       "Female    11\n",
       "Name: count, dtype: int64"
      ]
     },
     "execution_count": 10,
     "metadata": {},
     "output_type": "execute_result"
    }
   ],
   "source": [
    "# standardize values in gender\n",
    "df.gender.value_counts()"
   ]
  },
  {
   "cell_type": "markdown",
   "id": "7a4e9027",
   "metadata": {
    "papermill": {
     "duration": 0.015583,
     "end_time": "2024-06-13T01:45:35.141166",
     "exception": false,
     "start_time": "2024-06-13T01:45:35.125583",
     "status": "completed"
    },
    "tags": []
   },
   "source": [
    "Here, we need to combine {male, M, and Male} to \"M\", and do the same for female. For this case, we can simply uppercase the values and keep the first letter."
   ]
  },
  {
   "cell_type": "code",
   "execution_count": 11,
   "id": "db1bac5b",
   "metadata": {
    "execution": {
     "iopub.execute_input": "2024-06-13T01:45:35.172475Z",
     "iopub.status.busy": "2024-06-13T01:45:35.172023Z",
     "iopub.status.idle": "2024-06-13T01:45:35.181207Z",
     "shell.execute_reply": "2024-06-13T01:45:35.180134Z"
    },
    "papermill": {
     "duration": 0.02711,
     "end_time": "2024-06-13T01:45:35.183437",
     "exception": false,
     "start_time": "2024-06-13T01:45:35.156327",
     "status": "completed"
    },
    "tags": []
   },
   "outputs": [
    {
     "data": {
      "text/plain": [
       "array(['F', 'M'], dtype=object)"
      ]
     },
     "execution_count": 11,
     "metadata": {},
     "output_type": "execute_result"
    }
   ],
   "source": [
    "df.gender = df.gender.str.upper().str[0]\n",
    "df.gender.unique()"
   ]
  },
  {
   "cell_type": "code",
   "execution_count": 12,
   "id": "9869ab43",
   "metadata": {
    "execution": {
     "iopub.execute_input": "2024-06-13T01:45:35.214369Z",
     "iopub.status.busy": "2024-06-13T01:45:35.213847Z",
     "iopub.status.idle": "2024-06-13T01:45:35.228755Z",
     "shell.execute_reply": "2024-06-13T01:45:35.227441Z"
    },
    "papermill": {
     "duration": 0.033377,
     "end_time": "2024-06-13T01:45:35.231296",
     "exception": false,
     "start_time": "2024-06-13T01:45:35.197919",
     "status": "completed"
    },
    "tags": []
   },
   "outputs": [
    {
     "data": {
      "text/html": [
       "<div>\n",
       "<style scoped>\n",
       "    .dataframe tbody tr th:only-of-type {\n",
       "        vertical-align: middle;\n",
       "    }\n",
       "\n",
       "    .dataframe tbody tr th {\n",
       "        vertical-align: top;\n",
       "    }\n",
       "\n",
       "    .dataframe thead th {\n",
       "        text-align: right;\n",
       "    }\n",
       "</style>\n",
       "<table border=\"1\" class=\"dataframe\">\n",
       "  <thead>\n",
       "    <tr style=\"text-align: right;\">\n",
       "      <th></th>\n",
       "      <th>id</th>\n",
       "      <th>age</th>\n",
       "      <th>gender</th>\n",
       "      <th>income</th>\n",
       "      <th>date_of_joining</th>\n",
       "      <th>city</th>\n",
       "      <th>happiness_score</th>\n",
       "      <th>email_postal</th>\n",
       "      <th>education</th>\n",
       "    </tr>\n",
       "  </thead>\n",
       "  <tbody>\n",
       "    <tr>\n",
       "      <th>0</th>\n",
       "      <td>1</td>\n",
       "      <td>30</td>\n",
       "      <td>F</td>\n",
       "      <td>70000.0</td>\n",
       "      <td>2020-01-01</td>\n",
       "      <td>chicago</td>\n",
       "      <td>60</td>\n",
       "      <td>user85@example.com,26023</td>\n",
       "      <td>Bachelor</td>\n",
       "    </tr>\n",
       "    <tr>\n",
       "      <th>1</th>\n",
       "      <td>2</td>\n",
       "      <td>25</td>\n",
       "      <td>M</td>\n",
       "      <td>30000.0</td>\n",
       "      <td>2020-01-02</td>\n",
       "      <td>los angeles</td>\n",
       "      <td>70</td>\n",
       "      <td>user37@example.com,55758</td>\n",
       "      <td>PhD</td>\n",
       "    </tr>\n",
       "    <tr>\n",
       "      <th>2</th>\n",
       "      <td>3</td>\n",
       "      <td>45</td>\n",
       "      <td>F</td>\n",
       "      <td>110000.0</td>\n",
       "      <td>2020-01-03</td>\n",
       "      <td>phoenix</td>\n",
       "      <td>50</td>\n",
       "      <td>user85@example.com,19268</td>\n",
       "      <td>Bachelor</td>\n",
       "    </tr>\n",
       "    <tr>\n",
       "      <th>3</th>\n",
       "      <td>4</td>\n",
       "      <td>40</td>\n",
       "      <td>M</td>\n",
       "      <td>50000.0</td>\n",
       "      <td>2020-01-04</td>\n",
       "      <td>los angeles</td>\n",
       "      <td>100</td>\n",
       "      <td>user80@example.com,97313</td>\n",
       "      <td>Master</td>\n",
       "    </tr>\n",
       "    <tr>\n",
       "      <th>4</th>\n",
       "      <td>5</td>\n",
       "      <td>40</td>\n",
       "      <td>M</td>\n",
       "      <td>70000.0</td>\n",
       "      <td>2020-01-05</td>\n",
       "      <td>NaN</td>\n",
       "      <td>70</td>\n",
       "      <td>user12@example.com,12695</td>\n",
       "      <td>PhD</td>\n",
       "    </tr>\n",
       "  </tbody>\n",
       "</table>\n",
       "</div>"
      ],
      "text/plain": [
       "   id  age gender    income date_of_joining         city  happiness_score  \\\n",
       "0   1   30      F   70000.0      2020-01-01      chicago               60   \n",
       "1   2   25      M   30000.0      2020-01-02  los angeles               70   \n",
       "2   3   45      F  110000.0      2020-01-03      phoenix               50   \n",
       "3   4   40      M   50000.0      2020-01-04  los angeles              100   \n",
       "4   5   40      M   70000.0      2020-01-05          NaN               70   \n",
       "\n",
       "               email_postal education  \n",
       "0  user85@example.com,26023  Bachelor  \n",
       "1  user37@example.com,55758       PhD  \n",
       "2  user85@example.com,19268  Bachelor  \n",
       "3  user80@example.com,97313    Master  \n",
       "4  user12@example.com,12695       PhD  "
      ]
     },
     "execution_count": 12,
     "metadata": {},
     "output_type": "execute_result"
    }
   ],
   "source": [
    "df.head()"
   ]
  },
  {
   "cell_type": "markdown",
   "id": "35d1c654",
   "metadata": {
    "papermill": {
     "duration": 0.014422,
     "end_time": "2024-06-13T01:45:35.319002",
     "exception": false,
     "start_time": "2024-06-13T01:45:35.304580",
     "status": "completed"
    },
    "tags": []
   },
   "source": [
    "# 3. Data Types\n",
    "\n",
    "In Python, basic data types are like the building blocks of a structure. They're the simple pieces you use to represent different kinds of information in your code. They include things like numbers, words, and true/false values. These data types are the foundation of almost every Python program, helping you work with different kinds of data easily.\n",
    "\n",
    "| Method      | Step |\n",
    "| ----------- | ----------- |\n",
    "| `df.dtypes`      | Check data types       |\n",
    "| `df.astype()`      | Convert data types       |"
   ]
  },
  {
   "cell_type": "code",
   "execution_count": 13,
   "id": "24f4a533",
   "metadata": {
    "execution": {
     "iopub.execute_input": "2024-06-13T01:45:35.350624Z",
     "iopub.status.busy": "2024-06-13T01:45:35.350234Z",
     "iopub.status.idle": "2024-06-13T01:45:35.358356Z",
     "shell.execute_reply": "2024-06-13T01:45:35.357312Z"
    },
    "papermill": {
     "duration": 0.026601,
     "end_time": "2024-06-13T01:45:35.360589",
     "exception": false,
     "start_time": "2024-06-13T01:45:35.333988",
     "status": "completed"
    },
    "tags": []
   },
   "outputs": [
    {
     "data": {
      "text/plain": [
       "id                   int64\n",
       "age                  int64\n",
       "gender              object\n",
       "income             float64\n",
       "date_of_joining     object\n",
       "city                object\n",
       "happiness_score      int64\n",
       "email_postal        object\n",
       "education           object\n",
       "dtype: object"
      ]
     },
     "execution_count": 13,
     "metadata": {},
     "output_type": "execute_result"
    }
   ],
   "source": [
    "df.dtypes"
   ]
  },
  {
   "cell_type": "markdown",
   "id": "4cbd0ed7",
   "metadata": {
    "papermill": {
     "duration": 0.014911,
     "end_time": "2024-06-13T01:45:35.390569",
     "exception": false,
     "start_time": "2024-06-13T01:45:35.375658",
     "status": "completed"
    },
    "tags": []
   },
   "source": [
    "Convert date_of_joining to datetime dtype."
   ]
  },
  {
   "cell_type": "code",
   "execution_count": 14,
   "id": "3c2e45fc",
   "metadata": {
    "execution": {
     "iopub.execute_input": "2024-06-13T01:45:35.422585Z",
     "iopub.status.busy": "2024-06-13T01:45:35.422184Z",
     "iopub.status.idle": "2024-06-13T01:45:35.431016Z",
     "shell.execute_reply": "2024-06-13T01:45:35.429981Z"
    },
    "papermill": {
     "duration": 0.027772,
     "end_time": "2024-06-13T01:45:35.433425",
     "exception": false,
     "start_time": "2024-06-13T01:45:35.405653",
     "status": "completed"
    },
    "tags": []
   },
   "outputs": [],
   "source": [
    "df['date_of_joining'] = pd.to_datetime(df['date_of_joining'], format='%Y-%m-%d')"
   ]
  },
  {
   "cell_type": "markdown",
   "id": "031949e3",
   "metadata": {
    "papermill": {
     "duration": 0.014799,
     "end_time": "2024-06-13T01:45:35.463281",
     "exception": false,
     "start_time": "2024-06-13T01:45:35.448482",
     "status": "completed"
    },
    "tags": []
   },
   "source": [
    "# 4. Remove Duplicates\n",
    "\n",
    "Duplicate rows can distort statistical analyses and machine learning models. Removing duplicates improves data quality.\n",
    "\n",
    "| Method      | Step |\n",
    "| ----------- | ----------- |\n",
    "| `df.duplicated()`      | Identify duplicates       |\n",
    "| `df.drop_duplicates()`      | Remove duplicate rows       |"
   ]
  },
  {
   "cell_type": "code",
   "execution_count": 15,
   "id": "72b68aa4",
   "metadata": {
    "execution": {
     "iopub.execute_input": "2024-06-13T01:45:35.495290Z",
     "iopub.status.busy": "2024-06-13T01:45:35.494839Z",
     "iopub.status.idle": "2024-06-13T01:45:35.504422Z",
     "shell.execute_reply": "2024-06-13T01:45:35.503090Z"
    },
    "papermill": {
     "duration": 0.02866,
     "end_time": "2024-06-13T01:45:35.506926",
     "exception": false,
     "start_time": "2024-06-13T01:45:35.478266",
     "status": "completed"
    },
    "tags": []
   },
   "outputs": [
    {
     "name": "stdout",
     "output_type": "stream",
     "text": [
      "No of duplicate rows: 3\n"
     ]
    }
   ],
   "source": [
    "# identify duplicates\n",
    "duplicate_mask = df.duplicated()\n",
    "print(f'No of duplicate rows: {duplicate_mask.sum()}')"
   ]
  },
  {
   "cell_type": "code",
   "execution_count": 16,
   "id": "c5f9365f",
   "metadata": {
    "execution": {
     "iopub.execute_input": "2024-06-13T01:45:35.539603Z",
     "iopub.status.busy": "2024-06-13T01:45:35.539209Z",
     "iopub.status.idle": "2024-06-13T01:45:35.552914Z",
     "shell.execute_reply": "2024-06-13T01:45:35.551829Z"
    },
    "papermill": {
     "duration": 0.032729,
     "end_time": "2024-06-13T01:45:35.555150",
     "exception": false,
     "start_time": "2024-06-13T01:45:35.522421",
     "status": "completed"
    },
    "tags": []
   },
   "outputs": [
    {
     "data": {
      "text/plain": [
       "0"
      ]
     },
     "execution_count": 16,
     "metadata": {},
     "output_type": "execute_result"
    }
   ],
   "source": [
    "# remove duplicate rows\n",
    "df = df.drop_duplicates()\n",
    "df.duplicated().sum()"
   ]
  },
  {
   "cell_type": "markdown",
   "id": "62c5f85c",
   "metadata": {
    "papermill": {
     "duration": 0.014987,
     "end_time": "2024-06-13T01:45:35.585638",
     "exception": false,
     "start_time": "2024-06-13T01:45:35.570651",
     "status": "completed"
    },
    "tags": []
   },
   "source": [
    "# 5. Missing Values\n",
    "\n",
    "Handling missing data is a crucial step in data cleaning as it ensures the dataset is complete and reliable for analysis. Identifying missing values can be done using `df.isnull().sum()`. Once identified, missing data can be imputed using either `sklearn.impute` or `pd.fillna()`\n",
    "\n",
    "A quick guide in **selecting the values to impute** for missing data:\n",
    "1. Numeric data: impute with mean/median (to preserve central tendency/distribution) or mode\n",
    "2. Categorical data: impute with most frequent category or creating a new label \"Unknown\"\n",
    "3. Time series: impute using linear interpolation or forward/backward filling if data exhibits a trend"
   ]
  },
  {
   "cell_type": "code",
   "execution_count": 17,
   "id": "4235d6b7",
   "metadata": {
    "execution": {
     "iopub.execute_input": "2024-06-13T01:45:35.617825Z",
     "iopub.status.busy": "2024-06-13T01:45:35.617418Z",
     "iopub.status.idle": "2024-06-13T01:45:35.626696Z",
     "shell.execute_reply": "2024-06-13T01:45:35.625562Z"
    },
    "papermill": {
     "duration": 0.027944,
     "end_time": "2024-06-13T01:45:35.628843",
     "exception": false,
     "start_time": "2024-06-13T01:45:35.600899",
     "status": "completed"
    },
    "tags": []
   },
   "outputs": [
    {
     "data": {
      "text/plain": [
       "id                  0\n",
       "age                 0\n",
       "gender              0\n",
       "income             15\n",
       "date_of_joining     0\n",
       "city               12\n",
       "happiness_score     0\n",
       "email_postal        0\n",
       "education           0\n",
       "dtype: int64"
      ]
     },
     "execution_count": 17,
     "metadata": {},
     "output_type": "execute_result"
    }
   ],
   "source": [
    "df.isnull().sum()"
   ]
  },
  {
   "cell_type": "markdown",
   "id": "4d79606c",
   "metadata": {
    "papermill": {
     "duration": 0.015088,
     "end_time": "2024-06-13T01:45:35.659344",
     "exception": false,
     "start_time": "2024-06-13T01:45:35.644256",
     "status": "completed"
    },
    "tags": []
   },
   "source": [
    "Since `income` is numerical data, let's impute missing values with mean."
   ]
  },
  {
   "cell_type": "code",
   "execution_count": 18,
   "id": "b936d107",
   "metadata": {
    "execution": {
     "iopub.execute_input": "2024-06-13T01:45:35.691696Z",
     "iopub.status.busy": "2024-06-13T01:45:35.691309Z",
     "iopub.status.idle": "2024-06-13T01:45:35.697285Z",
     "shell.execute_reply": "2024-06-13T01:45:35.696208Z"
    },
    "papermill": {
     "duration": 0.024971,
     "end_time": "2024-06-13T01:45:35.699559",
     "exception": false,
     "start_time": "2024-06-13T01:45:35.674588",
     "status": "completed"
    },
    "tags": []
   },
   "outputs": [],
   "source": [
    "mean_income = df.income.mean()\n",
    "df['income'] = df['income'].fillna(mean_income)"
   ]
  },
  {
   "cell_type": "code",
   "execution_count": 19,
   "id": "dd10a51b",
   "metadata": {
    "execution": {
     "iopub.execute_input": "2024-06-13T01:45:35.733116Z",
     "iopub.status.busy": "2024-06-13T01:45:35.732732Z",
     "iopub.status.idle": "2024-06-13T01:45:35.741593Z",
     "shell.execute_reply": "2024-06-13T01:45:35.740390Z"
    },
    "papermill": {
     "duration": 0.028163,
     "end_time": "2024-06-13T01:45:35.743748",
     "exception": false,
     "start_time": "2024-06-13T01:45:35.715585",
     "status": "completed"
    },
    "tags": []
   },
   "outputs": [
    {
     "data": {
      "text/plain": [
       "city\n",
       "phoenix        25\n",
       "los angeles    18\n",
       "houston        18\n",
       "new york       14\n",
       "chicago        13\n",
       "NaN            12\n",
       "Name: count, dtype: int64"
      ]
     },
     "execution_count": 19,
     "metadata": {},
     "output_type": "execute_result"
    }
   ],
   "source": [
    "df.city.value_counts(dropna=False)"
   ]
  },
  {
   "cell_type": "markdown",
   "id": "62d335b3",
   "metadata": {
    "papermill": {
     "duration": 0.015326,
     "end_time": "2024-06-13T01:45:35.774682",
     "exception": false,
     "start_time": "2024-06-13T01:45:35.759356",
     "status": "completed"
    },
    "tags": []
   },
   "source": [
    "Since `city` is categorical data without a clear majority, let's impute missing values with \"Unknown\""
   ]
  },
  {
   "cell_type": "code",
   "execution_count": 20,
   "id": "f1672733",
   "metadata": {
    "execution": {
     "iopub.execute_input": "2024-06-13T01:45:35.807208Z",
     "iopub.status.busy": "2024-06-13T01:45:35.806813Z",
     "iopub.status.idle": "2024-06-13T01:45:35.812322Z",
     "shell.execute_reply": "2024-06-13T01:45:35.811254Z"
    },
    "papermill": {
     "duration": 0.024408,
     "end_time": "2024-06-13T01:45:35.814427",
     "exception": false,
     "start_time": "2024-06-13T01:45:35.790019",
     "status": "completed"
    },
    "tags": []
   },
   "outputs": [],
   "source": [
    "df['city'] = df['city'].fillna(\"Unknown\")"
   ]
  },
  {
   "cell_type": "code",
   "execution_count": 21,
   "id": "4b14f141",
   "metadata": {
    "execution": {
     "iopub.execute_input": "2024-06-13T01:45:35.847097Z",
     "iopub.status.busy": "2024-06-13T01:45:35.846704Z",
     "iopub.status.idle": "2024-06-13T01:45:35.855152Z",
     "shell.execute_reply": "2024-06-13T01:45:35.854134Z"
    },
    "papermill": {
     "duration": 0.027439,
     "end_time": "2024-06-13T01:45:35.857414",
     "exception": false,
     "start_time": "2024-06-13T01:45:35.829975",
     "status": "completed"
    },
    "tags": []
   },
   "outputs": [
    {
     "data": {
      "text/plain": [
       "id                 0\n",
       "age                0\n",
       "gender             0\n",
       "income             0\n",
       "date_of_joining    0\n",
       "city               0\n",
       "happiness_score    0\n",
       "email_postal       0\n",
       "education          0\n",
       "dtype: int64"
      ]
     },
     "execution_count": 21,
     "metadata": {},
     "output_type": "execute_result"
    }
   ],
   "source": [
    "# final check: no missing values\n",
    "df.isnull().sum()"
   ]
  },
  {
   "cell_type": "markdown",
   "id": "cb99d923",
   "metadata": {
    "papermill": {
     "duration": 0.015096,
     "end_time": "2024-06-13T01:45:35.888005",
     "exception": false,
     "start_time": "2024-06-13T01:45:35.872909",
     "status": "completed"
    },
    "tags": []
   },
   "source": [
    "# 6. Handle Outliers\n",
    "\n",
    "Treating outliers is an essential step to ensure that anomalous data points do not unduly influence statistical analyses or machine learning models. Visualizing the data distribution using techniques such as boxplots, scatterplots, and distribution plots helps identify outliers visually.\n",
    "\n",
    "Earlier, from `df.describe()`, we notice a possible skew/outlier in `income` column. Let's visualize this column as a boxplot."
   ]
  },
  {
   "cell_type": "code",
   "execution_count": 22,
   "id": "82e3fdf3",
   "metadata": {
    "execution": {
     "iopub.execute_input": "2024-06-13T01:45:35.920615Z",
     "iopub.status.busy": "2024-06-13T01:45:35.920263Z",
     "iopub.status.idle": "2024-06-13T01:45:37.899108Z",
     "shell.execute_reply": "2024-06-13T01:45:37.897744Z"
    },
    "papermill": {
     "duration": 1.99832,
     "end_time": "2024-06-13T01:45:37.901758",
     "exception": false,
     "start_time": "2024-06-13T01:45:35.903438",
     "status": "completed"
    },
    "tags": []
   },
   "outputs": [
    {
     "data": {
      "image/png": "[encoded data removed]",
      "text/plain": [
       "<Figure size 800x400 with 2 Axes>"
      ]
     },
     "metadata": {},
     "output_type": "display_data"
    }
   ],
   "source": [
    "import matplotlib.pyplot as plt\n",
    "import seaborn as sns\n",
    "plt.figure(figsize=(8,4))\n",
    "\n",
    "plt.subplot(1,2,1)\n",
    "sns.boxplot(df.income)\n",
    "\n",
    "plt.subplot(1,2,2)\n",
    "sns.histplot(df.income)\n",
    "\n",
    "plt.tight_layout()"
   ]
  },
  {
   "cell_type": "markdown",
   "id": "b77cd142",
   "metadata": {
    "papermill": {
     "duration": 0.01625,
     "end_time": "2024-06-13T01:45:37.935460",
     "exception": false,
     "start_time": "2024-06-13T01:45:37.919210",
     "status": "completed"
    },
    "tags": []
   },
   "source": [
    "From the plots, there seems to be a few outlier points in the `income` column.\n",
    "\n",
    "Note: we remove outliers when (a) it represents data quality issues or (b) it significantly affects the results or assumptions of the analysis. Conversely, outliers may be retained if they represent genuine variability in the data, rare events of interest, or insights derived from domain knowledge.\n",
    "\n",
    "In our case, we assume there are data quality issues. Let's remove the outliers."
   ]
  },
  {
   "cell_type": "code",
   "execution_count": 23,
   "id": "a8f9c130",
   "metadata": {
    "execution": {
     "iopub.execute_input": "2024-06-13T01:45:37.970011Z",
     "iopub.status.busy": "2024-06-13T01:45:37.969106Z",
     "iopub.status.idle": "2024-06-13T01:45:37.978242Z",
     "shell.execute_reply": "2024-06-13T01:45:37.977134Z"
    },
    "papermill": {
     "duration": 0.028917,
     "end_time": "2024-06-13T01:45:37.980575",
     "exception": false,
     "start_time": "2024-06-13T01:45:37.951658",
     "status": "completed"
    },
    "tags": []
   },
   "outputs": [
    {
     "data": {
      "text/plain": [
       "50    110000.0\n",
       "8     110000.0\n",
       "75    110000.0\n",
       "84    110000.0\n",
       "86    110000.0\n",
       "Name: income, dtype: float64"
      ]
     },
     "execution_count": 23,
     "metadata": {},
     "output_type": "execute_result"
    }
   ],
   "source": [
    "df.income.sort_values(ascending=False).head()"
   ]
  },
  {
   "cell_type": "markdown",
   "id": "f2839a40",
   "metadata": {
    "papermill": {
     "duration": 0.016243,
     "end_time": "2024-06-13T01:45:38.013445",
     "exception": false,
     "start_time": "2024-06-13T01:45:37.997202",
     "status": "completed"
    },
    "tags": []
   },
   "source": [
    "One outlier point spotted."
   ]
  },
  {
   "cell_type": "code",
   "execution_count": 24,
   "id": "1c4ec2a0",
   "metadata": {
    "execution": {
     "iopub.execute_input": "2024-06-13T01:45:38.048133Z",
     "iopub.status.busy": "2024-06-13T01:45:38.047653Z",
     "iopub.status.idle": "2024-06-13T01:45:38.054412Z",
     "shell.execute_reply": "2024-06-13T01:45:38.053152Z"
    },
    "papermill": {
     "duration": 0.026903,
     "end_time": "2024-06-13T01:45:38.056833",
     "exception": false,
     "start_time": "2024-06-13T01:45:38.029930",
     "status": "completed"
    },
    "tags": []
   },
   "outputs": [],
   "source": [
    "outlier_threshold = 200000\n",
    "\n",
    "# remove outlier\n",
    "df = df.loc[df.income <= outlier_threshold]"
   ]
  },
  {
   "cell_type": "code",
   "execution_count": 25,
   "id": "420ac657",
   "metadata": {
    "execution": {
     "iopub.execute_input": "2024-06-13T01:45:38.092861Z",
     "iopub.status.busy": "2024-06-13T01:45:38.092456Z",
     "iopub.status.idle": "2024-06-13T01:45:38.099343Z",
     "shell.execute_reply": "2024-06-13T01:45:38.098249Z"
    },
    "papermill": {
     "duration": 0.027656,
     "end_time": "2024-06-13T01:45:38.101577",
     "exception": false,
     "start_time": "2024-06-13T01:45:38.073921",
     "status": "completed"
    },
    "tags": []
   },
   "outputs": [
    {
     "data": {
      "text/plain": [
       "(100, 9)"
      ]
     },
     "execution_count": 25,
     "metadata": {},
     "output_type": "execute_result"
    }
   ],
   "source": [
    "df.shape"
   ]
  },
  {
   "cell_type": "code",
   "execution_count": 26,
   "id": "e90649d0",
   "metadata": {
    "execution": {
     "iopub.execute_input": "2024-06-13T01:45:38.136288Z",
     "iopub.status.busy": "2024-06-13T01:45:38.135857Z",
     "iopub.status.idle": "2024-06-13T01:45:38.145321Z",
     "shell.execute_reply": "2024-06-13T01:45:38.143953Z"
    },
    "papermill": {
     "duration": 0.029284,
     "end_time": "2024-06-13T01:45:38.147586",
     "exception": false,
     "start_time": "2024-06-13T01:45:38.118302",
     "status": "completed"
    },
    "tags": []
   },
   "outputs": [
    {
     "data": {
      "text/plain": [
       "50    110000.0\n",
       "8     110000.0\n",
       "75    110000.0\n",
       "84    110000.0\n",
       "86    110000.0\n",
       "Name: income, dtype: float64"
      ]
     },
     "execution_count": 26,
     "metadata": {},
     "output_type": "execute_result"
    }
   ],
   "source": [
    "df.income.sort_values(ascending=False).head()"
   ]
  },
  {
   "cell_type": "markdown",
   "id": "097f8e4e",
   "metadata": {
    "papermill": {
     "duration": 0.016745,
     "end_time": "2024-06-13T01:45:38.182653",
     "exception": false,
     "start_time": "2024-06-13T01:45:38.165908",
     "status": "completed"
    },
    "tags": []
   },
   "source": [
    "# 7. String Manipulation\n",
    "\n",
    "Sometimes, data can be merged into one value and requires string manipulation to clean the data"
   ]
  },
  {
   "cell_type": "code",
   "execution_count": 27,
   "id": "855ea0d4",
   "metadata": {
    "execution": {
     "iopub.execute_input": "2024-06-13T01:45:38.218551Z",
     "iopub.status.busy": "2024-06-13T01:45:38.218098Z",
     "iopub.status.idle": "2024-06-13T01:45:38.233975Z",
     "shell.execute_reply": "2024-06-13T01:45:38.232902Z"
    },
    "papermill": {
     "duration": 0.03672,
     "end_time": "2024-06-13T01:45:38.236255",
     "exception": false,
     "start_time": "2024-06-13T01:45:38.199535",
     "status": "completed"
    },
    "tags": []
   },
   "outputs": [
    {
     "data": {
      "text/html": [
       "<div>\n",
       "<style scoped>\n",
       "    .dataframe tbody tr th:only-of-type {\n",
       "        vertical-align: middle;\n",
       "    }\n",
       "\n",
       "    .dataframe tbody tr th {\n",
       "        vertical-align: top;\n",
       "    }\n",
       "\n",
       "    .dataframe thead th {\n",
       "        text-align: right;\n",
       "    }\n",
       "</style>\n",
       "<table border=\"1\" class=\"dataframe\">\n",
       "  <thead>\n",
       "    <tr style=\"text-align: right;\">\n",
       "      <th></th>\n",
       "      <th>id</th>\n",
       "      <th>age</th>\n",
       "      <th>gender</th>\n",
       "      <th>income</th>\n",
       "      <th>date_of_joining</th>\n",
       "      <th>city</th>\n",
       "      <th>happiness_score</th>\n",
       "      <th>email_postal</th>\n",
       "      <th>education</th>\n",
       "    </tr>\n",
       "  </thead>\n",
       "  <tbody>\n",
       "    <tr>\n",
       "      <th>0</th>\n",
       "      <td>1</td>\n",
       "      <td>30</td>\n",
       "      <td>F</td>\n",
       "      <td>70000.0</td>\n",
       "      <td>2020-01-01</td>\n",
       "      <td>chicago</td>\n",
       "      <td>60</td>\n",
       "      <td>user85@example.com,26023</td>\n",
       "      <td>Bachelor</td>\n",
       "    </tr>\n",
       "    <tr>\n",
       "      <th>1</th>\n",
       "      <td>2</td>\n",
       "      <td>25</td>\n",
       "      <td>M</td>\n",
       "      <td>30000.0</td>\n",
       "      <td>2020-01-02</td>\n",
       "      <td>los angeles</td>\n",
       "      <td>70</td>\n",
       "      <td>user37@example.com,55758</td>\n",
       "      <td>PhD</td>\n",
       "    </tr>\n",
       "    <tr>\n",
       "      <th>2</th>\n",
       "      <td>3</td>\n",
       "      <td>45</td>\n",
       "      <td>F</td>\n",
       "      <td>110000.0</td>\n",
       "      <td>2020-01-03</td>\n",
       "      <td>phoenix</td>\n",
       "      <td>50</td>\n",
       "      <td>user85@example.com,19268</td>\n",
       "      <td>Bachelor</td>\n",
       "    </tr>\n",
       "    <tr>\n",
       "      <th>3</th>\n",
       "      <td>4</td>\n",
       "      <td>40</td>\n",
       "      <td>M</td>\n",
       "      <td>50000.0</td>\n",
       "      <td>2020-01-04</td>\n",
       "      <td>los angeles</td>\n",
       "      <td>100</td>\n",
       "      <td>user80@example.com,97313</td>\n",
       "      <td>Master</td>\n",
       "    </tr>\n",
       "    <tr>\n",
       "      <th>4</th>\n",
       "      <td>5</td>\n",
       "      <td>40</td>\n",
       "      <td>M</td>\n",
       "      <td>70000.0</td>\n",
       "      <td>2020-01-05</td>\n",
       "      <td>Unknown</td>\n",
       "      <td>70</td>\n",
       "      <td>user12@example.com,12695</td>\n",
       "      <td>PhD</td>\n",
       "    </tr>\n",
       "  </tbody>\n",
       "</table>\n",
       "</div>"
      ],
      "text/plain": [
       "   id  age gender    income date_of_joining         city  happiness_score  \\\n",
       "0   1   30      F   70000.0      2020-01-01      chicago               60   \n",
       "1   2   25      M   30000.0      2020-01-02  los angeles               70   \n",
       "2   3   45      F  110000.0      2020-01-03      phoenix               50   \n",
       "3   4   40      M   50000.0      2020-01-04  los angeles              100   \n",
       "4   5   40      M   70000.0      2020-01-05      Unknown               70   \n",
       "\n",
       "               email_postal education  \n",
       "0  user85@example.com,26023  Bachelor  \n",
       "1  user37@example.com,55758       PhD  \n",
       "2  user85@example.com,19268  Bachelor  \n",
       "3  user80@example.com,97313    Master  \n",
       "4  user12@example.com,12695       PhD  "
      ]
     },
     "execution_count": 27,
     "metadata": {},
     "output_type": "execute_result"
    }
   ],
   "source": [
    "df.head()"
   ]
  },
  {
   "cell_type": "markdown",
   "id": "5b98aadb",
   "metadata": {
    "papermill": {
     "duration": 0.01649,
     "end_time": "2024-06-13T01:45:38.269423",
     "exception": false,
     "start_time": "2024-06-13T01:45:38.252933",
     "status": "completed"
    },
    "tags": []
   },
   "source": [
    "In this scenario, we want to split `email_postal` into 3 columns - `name` (user 85) `email` (user85@example.com) `postal` (26023). We can use string functions or regex to process the text data."
   ]
  },
  {
   "cell_type": "code",
   "execution_count": 28,
   "id": "2925e790",
   "metadata": {
    "execution": {
     "iopub.execute_input": "2024-06-13T01:45:38.304566Z",
     "iopub.status.busy": "2024-06-13T01:45:38.304155Z",
     "iopub.status.idle": "2024-06-13T01:45:38.312098Z",
     "shell.execute_reply": "2024-06-13T01:45:38.310906Z"
    },
    "papermill": {
     "duration": 0.028007,
     "end_time": "2024-06-13T01:45:38.314284",
     "exception": false,
     "start_time": "2024-06-13T01:45:38.286277",
     "status": "completed"
    },
    "tags": []
   },
   "outputs": [],
   "source": [
    "# splits email_postal on \",\"\n",
    "df[['email', 'postal']] = df['email_postal'].str.split(',', expand=True)"
   ]
  },
  {
   "cell_type": "code",
   "execution_count": 29,
   "id": "eb363608",
   "metadata": {
    "execution": {
     "iopub.execute_input": "2024-06-13T01:45:38.349106Z",
     "iopub.status.busy": "2024-06-13T01:45:38.348703Z",
     "iopub.status.idle": "2024-06-13T01:45:38.355646Z",
     "shell.execute_reply": "2024-06-13T01:45:38.354372Z"
    },
    "papermill": {
     "duration": 0.02711,
     "end_time": "2024-06-13T01:45:38.358034",
     "exception": false,
     "start_time": "2024-06-13T01:45:38.330924",
     "status": "completed"
    },
    "tags": []
   },
   "outputs": [],
   "source": [
    "# extracts text infront of \"@\" symbol and assign it to `name` column\n",
    "df['name'] = df['email'].str.extract(r'^(.*)@')"
   ]
  },
  {
   "cell_type": "code",
   "execution_count": 30,
   "id": "1745d162",
   "metadata": {
    "execution": {
     "iopub.execute_input": "2024-06-13T01:45:38.393312Z",
     "iopub.status.busy": "2024-06-13T01:45:38.392864Z",
     "iopub.status.idle": "2024-06-13T01:45:38.410875Z",
     "shell.execute_reply": "2024-06-13T01:45:38.409514Z"
    },
    "papermill": {
     "duration": 0.038738,
     "end_time": "2024-06-13T01:45:38.413458",
     "exception": false,
     "start_time": "2024-06-13T01:45:38.374720",
     "status": "completed"
    },
    "tags": []
   },
   "outputs": [
    {
     "data": {
      "text/html": [
       "<div>\n",
       "<style scoped>\n",
       "    .dataframe tbody tr th:only-of-type {\n",
       "        vertical-align: middle;\n",
       "    }\n",
       "\n",
       "    .dataframe tbody tr th {\n",
       "        vertical-align: top;\n",
       "    }\n",
       "\n",
       "    .dataframe thead th {\n",
       "        text-align: right;\n",
       "    }\n",
       "</style>\n",
       "<table border=\"1\" class=\"dataframe\">\n",
       "  <thead>\n",
       "    <tr style=\"text-align: right;\">\n",
       "      <th></th>\n",
       "      <th>id</th>\n",
       "      <th>age</th>\n",
       "      <th>gender</th>\n",
       "      <th>income</th>\n",
       "      <th>date_of_joining</th>\n",
       "      <th>city</th>\n",
       "      <th>happiness_score</th>\n",
       "      <th>education</th>\n",
       "      <th>email</th>\n",
       "      <th>postal</th>\n",
       "      <th>name</th>\n",
       "    </tr>\n",
       "  </thead>\n",
       "  <tbody>\n",
       "    <tr>\n",
       "      <th>0</th>\n",
       "      <td>1</td>\n",
       "      <td>30</td>\n",
       "      <td>F</td>\n",
       "      <td>70000.0</td>\n",
       "      <td>2020-01-01</td>\n",
       "      <td>chicago</td>\n",
       "      <td>60</td>\n",
       "      <td>Bachelor</td>\n",
       "      <td>user85@example.com</td>\n",
       "      <td>26023</td>\n",
       "      <td>user85</td>\n",
       "    </tr>\n",
       "    <tr>\n",
       "      <th>1</th>\n",
       "      <td>2</td>\n",
       "      <td>25</td>\n",
       "      <td>M</td>\n",
       "      <td>30000.0</td>\n",
       "      <td>2020-01-02</td>\n",
       "      <td>los angeles</td>\n",
       "      <td>70</td>\n",
       "      <td>PhD</td>\n",
       "      <td>user37@example.com</td>\n",
       "      <td>55758</td>\n",
       "      <td>user37</td>\n",
       "    </tr>\n",
       "    <tr>\n",
       "      <th>2</th>\n",
       "      <td>3</td>\n",
       "      <td>45</td>\n",
       "      <td>F</td>\n",
       "      <td>110000.0</td>\n",
       "      <td>2020-01-03</td>\n",
       "      <td>phoenix</td>\n",
       "      <td>50</td>\n",
       "      <td>Bachelor</td>\n",
       "      <td>user85@example.com</td>\n",
       "      <td>19268</td>\n",
       "      <td>user85</td>\n",
       "    </tr>\n",
       "    <tr>\n",
       "      <th>3</th>\n",
       "      <td>4</td>\n",
       "      <td>40</td>\n",
       "      <td>M</td>\n",
       "      <td>50000.0</td>\n",
       "      <td>2020-01-04</td>\n",
       "      <td>los angeles</td>\n",
       "      <td>100</td>\n",
       "      <td>Master</td>\n",
       "      <td>user80@example.com</td>\n",
       "      <td>97313</td>\n",
       "      <td>user80</td>\n",
       "    </tr>\n",
       "    <tr>\n",
       "      <th>4</th>\n",
       "      <td>5</td>\n",
       "      <td>40</td>\n",
       "      <td>M</td>\n",
       "      <td>70000.0</td>\n",
       "      <td>2020-01-05</td>\n",
       "      <td>Unknown</td>\n",
       "      <td>70</td>\n",
       "      <td>PhD</td>\n",
       "      <td>user12@example.com</td>\n",
       "      <td>12695</td>\n",
       "      <td>user12</td>\n",
       "    </tr>\n",
       "  </tbody>\n",
       "</table>\n",
       "</div>"
      ],
      "text/plain": [
       "   id  age gender    income date_of_joining         city  happiness_score  \\\n",
       "0   1   30      F   70000.0      2020-01-01      chicago               60   \n",
       "1   2   25      M   30000.0      2020-01-02  los angeles               70   \n",
       "2   3   45      F  110000.0      2020-01-03      phoenix               50   \n",
       "3   4   40      M   50000.0      2020-01-04  los angeles              100   \n",
       "4   5   40      M   70000.0      2020-01-05      Unknown               70   \n",
       "\n",
       "  education               email postal    name  \n",
       "0  Bachelor  user85@example.com  26023  user85  \n",
       "1       PhD  user37@example.com  55758  user37  \n",
       "2  Bachelor  user85@example.com  19268  user85  \n",
       "3    Master  user80@example.com  97313  user80  \n",
       "4       PhD  user12@example.com  12695  user12  "
      ]
     },
     "execution_count": 30,
     "metadata": {},
     "output_type": "execute_result"
    }
   ],
   "source": [
    "df.drop(columns='email_postal',inplace=True)\n",
    "df.head()"
   ]
  },
  {
   "cell_type": "markdown",
   "id": "4acd7eb8",
   "metadata": {
    "papermill": {
     "duration": 0.016771,
     "end_time": "2024-06-13T01:45:38.447453",
     "exception": false,
     "start_time": "2024-06-13T01:45:38.430682",
     "status": "completed"
    },
    "tags": []
   },
   "source": [
    "## Advanced Data Processing\n",
    "---"
   ]
  },
  {
   "cell_type": "markdown",
   "id": "7e474dd6",
   "metadata": {
    "papermill": {
     "duration": 0.016922,
     "end_time": "2024-06-13T01:45:38.481208",
     "exception": false,
     "start_time": "2024-06-13T01:45:38.464286",
     "status": "completed"
    },
    "tags": []
   },
   "source": [
    "# 8. Encoding Categorical Data\n",
    "\n",
    "Encoding categorical data is important because many machine learning algorithms can only work with numerical data. Categorical data, like gender and cities, needs to be turned into numbers so the algorithms can understand it. We do this encoding step before training our models. It helps the models learn from the data and make accurate predictions.\n",
    "\n",
    "| Method      | Step |\n",
    "| ----------- | ----------- |\n",
    "| `LabelEncoder`      | Label encoding        |\n",
    "| `OneHotEncoder`      | One-hot encoding        |\n",
    "| `TargetEncoder`      | Target encoding        |\n",
    "\n",
    "We use different encoding methods based on the type of categorical data and the requirements of our machine learning task:\n",
    "\n",
    "`LabelEncoder`: We use Label encoding when we have ordinal categorical data, where there's a natural order or ranking among the categories. For example, education levels like \"high school,\" \"college,\" and \"graduate\" can be encoded as 0, 1, and 2, respectively.\n",
    "\n",
    "`OneHotEncoder`: One-hot encoding is used when we have nominal categorical data, where there's no inherent order among the categories. Each category is represented by a binary column, with 1 indicating the presence of the category and 0 indicating absence. This method is suitable when the number of categories is relatively small.\n",
    "\n",
    "`TargetEncoder`: Target encoding is used when we have high-cardinality categorical features (i.e., features with a large number of unique categories) and we want to encode them based on their relationship with the target variable. It replaces each category with the mean of the target variable for that category. This method is useful for preventing overfitting and capturing category-level information in the target variable."
   ]
  },
  {
   "cell_type": "code",
   "execution_count": 31,
   "id": "aae114e7",
   "metadata": {
    "execution": {
     "iopub.execute_input": "2024-06-13T01:45:38.517254Z",
     "iopub.status.busy": "2024-06-13T01:45:38.516783Z",
     "iopub.status.idle": "2024-06-13T01:45:38.804799Z",
     "shell.execute_reply": "2024-06-13T01:45:38.803635Z"
    },
    "papermill": {
     "duration": 0.309127,
     "end_time": "2024-06-13T01:45:38.807190",
     "exception": false,
     "start_time": "2024-06-13T01:45:38.498063",
     "status": "completed"
    },
    "tags": []
   },
   "outputs": [
    {
     "data": {
      "text/plain": [
       "(array([0, 1, 2, 3, 4, 5]),\n",
       " [Text(0, 0, 'chicago'),\n",
       "  Text(1, 0, 'los angeles'),\n",
       "  Text(2, 0, 'phoenix'),\n",
       "  Text(3, 0, 'Unknown'),\n",
       "  Text(4, 0, 'houston'),\n",
       "  Text(5, 0, 'new york')])"
      ]
     },
     "execution_count": 31,
     "metadata": {},
     "output_type": "execute_result"
    },
    {
     "data": {
      "image/png": "[encoded data removed]",
      "text/plain": [
       "<Figure size 1000x200 with 2 Axes>"
      ]
     },
     "metadata": {},
     "output_type": "display_data"
    }
   ],
   "source": [
    "plt.figure(figsize=(10,2))\n",
    "\n",
    "plt.subplot(121)\n",
    "sns.countplot(df, x='education')\n",
    "\n",
    "plt.subplot(122)\n",
    "sns.countplot(df, x='city')\n",
    "plt.xticks(rotation=45)"
   ]
  },
  {
   "cell_type": "markdown",
   "id": "8fce563a",
   "metadata": {
    "papermill": {
     "duration": 0.017123,
     "end_time": "2024-06-13T01:45:38.841949",
     "exception": false,
     "start_time": "2024-06-13T01:45:38.824826",
     "status": "completed"
    },
    "tags": []
   },
   "source": [
    "We will use `LabelEncoder` for `education` as there is a natural ranking within the category"
   ]
  },
  {
   "cell_type": "code",
   "execution_count": 32,
   "id": "2f27fb6c",
   "metadata": {
    "execution": {
     "iopub.execute_input": "2024-06-13T01:45:38.878947Z",
     "iopub.status.busy": "2024-06-13T01:45:38.878546Z",
     "iopub.status.idle": "2024-06-13T01:45:39.049416Z",
     "shell.execute_reply": "2024-06-13T01:45:39.048311Z"
    },
    "papermill": {
     "duration": 0.192261,
     "end_time": "2024-06-13T01:45:39.051821",
     "exception": false,
     "start_time": "2024-06-13T01:45:38.859560",
     "status": "completed"
    },
    "tags": []
   },
   "outputs": [
    {
     "data": {
      "text/html": [
       "<div>\n",
       "<style scoped>\n",
       "    .dataframe tbody tr th:only-of-type {\n",
       "        vertical-align: middle;\n",
       "    }\n",
       "\n",
       "    .dataframe tbody tr th {\n",
       "        vertical-align: top;\n",
       "    }\n",
       "\n",
       "    .dataframe thead th {\n",
       "        text-align: right;\n",
       "    }\n",
       "</style>\n",
       "<table border=\"1\" class=\"dataframe\">\n",
       "  <thead>\n",
       "    <tr style=\"text-align: right;\">\n",
       "      <th></th>\n",
       "      <th>education</th>\n",
       "      <th>education_enc</th>\n",
       "    </tr>\n",
       "  </thead>\n",
       "  <tbody>\n",
       "    <tr>\n",
       "      <th>0</th>\n",
       "      <td>Bachelor</td>\n",
       "      <td>0</td>\n",
       "    </tr>\n",
       "    <tr>\n",
       "      <th>1</th>\n",
       "      <td>PhD</td>\n",
       "      <td>2</td>\n",
       "    </tr>\n",
       "    <tr>\n",
       "      <th>2</th>\n",
       "      <td>Bachelor</td>\n",
       "      <td>0</td>\n",
       "    </tr>\n",
       "    <tr>\n",
       "      <th>3</th>\n",
       "      <td>Master</td>\n",
       "      <td>1</td>\n",
       "    </tr>\n",
       "    <tr>\n",
       "      <th>4</th>\n",
       "      <td>PhD</td>\n",
       "      <td>2</td>\n",
       "    </tr>\n",
       "  </tbody>\n",
       "</table>\n",
       "</div>"
      ],
      "text/plain": [
       "  education  education_enc\n",
       "0  Bachelor              0\n",
       "1       PhD              2\n",
       "2  Bachelor              0\n",
       "3    Master              1\n",
       "4       PhD              2"
      ]
     },
     "execution_count": 32,
     "metadata": {},
     "output_type": "execute_result"
    }
   ],
   "source": [
    "from sklearn.preprocessing import LabelEncoder\n",
    "\n",
    "label_encoder = LabelEncoder()\n",
    "label_encoder.fit(['Bachelor', 'Master', 'PhD'])\n",
    "\n",
    "df['education_enc'] = label_encoder.transform(df['education'])\n",
    "df[['education', 'education_enc']].head()"
   ]
  },
  {
   "cell_type": "markdown",
   "id": "a6b5288c",
   "metadata": {
    "papermill": {
     "duration": 0.017679,
     "end_time": "2024-06-13T01:45:39.087386",
     "exception": false,
     "start_time": "2024-06-13T01:45:39.069707",
     "status": "completed"
    },
    "tags": []
   },
   "source": [
    "We will use `OneHotEncoder` for `city` as the number of categories are small and there is no natural order within the category"
   ]
  },
  {
   "cell_type": "code",
   "execution_count": 33,
   "id": "51d1ffed",
   "metadata": {
    "execution": {
     "iopub.execute_input": "2024-06-13T01:45:39.127778Z",
     "iopub.status.busy": "2024-06-13T01:45:39.127378Z",
     "iopub.status.idle": "2024-06-13T01:45:39.142630Z",
     "shell.execute_reply": "2024-06-13T01:45:39.141172Z"
    },
    "papermill": {
     "duration": 0.040319,
     "end_time": "2024-06-13T01:45:39.145344",
     "exception": false,
     "start_time": "2024-06-13T01:45:39.105025",
     "status": "completed"
    },
    "tags": []
   },
   "outputs": [
    {
     "data": {
      "text/plain": [
       "[array(['Unknown', 'chicago', 'houston', 'los angeles', 'new york',\n",
       "        'phoenix'], dtype=object)]"
      ]
     },
     "execution_count": 33,
     "metadata": {},
     "output_type": "execute_result"
    }
   ],
   "source": [
    "from sklearn.preprocessing import OneHotEncoder # pd.get_dummies work too\n",
    "\n",
    "ohe = OneHotEncoder()\n",
    "\n",
    "ohe.fit(df[['city']])\n",
    "ohe.categories_"
   ]
  },
  {
   "cell_type": "code",
   "execution_count": 34,
   "id": "89e54a67",
   "metadata": {
    "execution": {
     "iopub.execute_input": "2024-06-13T01:45:39.191507Z",
     "iopub.status.busy": "2024-06-13T01:45:39.191029Z",
     "iopub.status.idle": "2024-06-13T01:45:39.211856Z",
     "shell.execute_reply": "2024-06-13T01:45:39.210557Z"
    },
    "papermill": {
     "duration": 0.045213,
     "end_time": "2024-06-13T01:45:39.214819",
     "exception": false,
     "start_time": "2024-06-13T01:45:39.169606",
     "status": "completed"
    },
    "tags": []
   },
   "outputs": [
    {
     "data": {
      "text/html": [
       "<div>\n",
       "<style scoped>\n",
       "    .dataframe tbody tr th:only-of-type {\n",
       "        vertical-align: middle;\n",
       "    }\n",
       "\n",
       "    .dataframe tbody tr th {\n",
       "        vertical-align: top;\n",
       "    }\n",
       "\n",
       "    .dataframe thead th {\n",
       "        text-align: right;\n",
       "    }\n",
       "</style>\n",
       "<table border=\"1\" class=\"dataframe\">\n",
       "  <thead>\n",
       "    <tr style=\"text-align: right;\">\n",
       "      <th></th>\n",
       "      <th>city_Unknown</th>\n",
       "      <th>city_chicago</th>\n",
       "      <th>city_houston</th>\n",
       "      <th>city_los angeles</th>\n",
       "      <th>city_new york</th>\n",
       "      <th>city_phoenix</th>\n",
       "    </tr>\n",
       "  </thead>\n",
       "  <tbody>\n",
       "    <tr>\n",
       "      <th>0</th>\n",
       "      <td>0.0</td>\n",
       "      <td>1.0</td>\n",
       "      <td>0.0</td>\n",
       "      <td>0.0</td>\n",
       "      <td>0.0</td>\n",
       "      <td>0.0</td>\n",
       "    </tr>\n",
       "    <tr>\n",
       "      <th>1</th>\n",
       "      <td>0.0</td>\n",
       "      <td>0.0</td>\n",
       "      <td>0.0</td>\n",
       "      <td>1.0</td>\n",
       "      <td>0.0</td>\n",
       "      <td>0.0</td>\n",
       "    </tr>\n",
       "    <tr>\n",
       "      <th>2</th>\n",
       "      <td>0.0</td>\n",
       "      <td>0.0</td>\n",
       "      <td>0.0</td>\n",
       "      <td>0.0</td>\n",
       "      <td>0.0</td>\n",
       "      <td>1.0</td>\n",
       "    </tr>\n",
       "    <tr>\n",
       "      <th>3</th>\n",
       "      <td>0.0</td>\n",
       "      <td>0.0</td>\n",
       "      <td>0.0</td>\n",
       "      <td>1.0</td>\n",
       "      <td>0.0</td>\n",
       "      <td>0.0</td>\n",
       "    </tr>\n",
       "    <tr>\n",
       "      <th>4</th>\n",
       "      <td>1.0</td>\n",
       "      <td>0.0</td>\n",
       "      <td>0.0</td>\n",
       "      <td>0.0</td>\n",
       "      <td>0.0</td>\n",
       "      <td>0.0</td>\n",
       "    </tr>\n",
       "  </tbody>\n",
       "</table>\n",
       "</div>"
      ],
      "text/plain": [
       "   city_Unknown  city_chicago  city_houston  city_los angeles  city_new york  \\\n",
       "0           0.0           1.0           0.0               0.0            0.0   \n",
       "1           0.0           0.0           0.0               1.0            0.0   \n",
       "2           0.0           0.0           0.0               0.0            0.0   \n",
       "3           0.0           0.0           0.0               1.0            0.0   \n",
       "4           1.0           0.0           0.0               0.0            0.0   \n",
       "\n",
       "   city_phoenix  \n",
       "0           0.0  \n",
       "1           0.0  \n",
       "2           1.0  \n",
       "3           0.0  \n",
       "4           0.0  "
      ]
     },
     "execution_count": 34,
     "metadata": {},
     "output_type": "execute_result"
    }
   ],
   "source": [
    "feature_names = ohe.get_feature_names_out(['city'])\n",
    "\n",
    "enc_df = pd.DataFrame(ohe.transform(df[['city']]).toarray(), columns=feature_names)\n",
    "enc_df.head()"
   ]
  },
  {
   "cell_type": "code",
   "execution_count": 35,
   "id": "6d22eaec",
   "metadata": {
    "execution": {
     "iopub.execute_input": "2024-06-13T01:45:39.261873Z",
     "iopub.status.busy": "2024-06-13T01:45:39.260621Z",
     "iopub.status.idle": "2024-06-13T01:45:39.291537Z",
     "shell.execute_reply": "2024-06-13T01:45:39.290427Z"
    },
    "papermill": {
     "duration": 0.058741,
     "end_time": "2024-06-13T01:45:39.293917",
     "exception": false,
     "start_time": "2024-06-13T01:45:39.235176",
     "status": "completed"
    },
    "tags": []
   },
   "outputs": [
    {
     "data": {
      "text/html": [
       "<div>\n",
       "<style scoped>\n",
       "    .dataframe tbody tr th:only-of-type {\n",
       "        vertical-align: middle;\n",
       "    }\n",
       "\n",
       "    .dataframe tbody tr th {\n",
       "        vertical-align: top;\n",
       "    }\n",
       "\n",
       "    .dataframe thead th {\n",
       "        text-align: right;\n",
       "    }\n",
       "</style>\n",
       "<table border=\"1\" class=\"dataframe\">\n",
       "  <thead>\n",
       "    <tr style=\"text-align: right;\">\n",
       "      <th></th>\n",
       "      <th>id</th>\n",
       "      <th>age</th>\n",
       "      <th>gender</th>\n",
       "      <th>income</th>\n",
       "      <th>date_of_joining</th>\n",
       "      <th>city</th>\n",
       "      <th>happiness_score</th>\n",
       "      <th>education</th>\n",
       "      <th>email</th>\n",
       "      <th>postal</th>\n",
       "      <th>name</th>\n",
       "      <th>education_enc</th>\n",
       "      <th>city_Unknown</th>\n",
       "      <th>city_chicago</th>\n",
       "      <th>city_houston</th>\n",
       "      <th>city_los angeles</th>\n",
       "      <th>city_new york</th>\n",
       "      <th>city_phoenix</th>\n",
       "    </tr>\n",
       "  </thead>\n",
       "  <tbody>\n",
       "    <tr>\n",
       "      <th>0</th>\n",
       "      <td>1</td>\n",
       "      <td>30</td>\n",
       "      <td>F</td>\n",
       "      <td>70000.0</td>\n",
       "      <td>2020-01-01</td>\n",
       "      <td>chicago</td>\n",
       "      <td>60</td>\n",
       "      <td>Bachelor</td>\n",
       "      <td>user85@example.com</td>\n",
       "      <td>26023</td>\n",
       "      <td>user85</td>\n",
       "      <td>0</td>\n",
       "      <td>0.0</td>\n",
       "      <td>1.0</td>\n",
       "      <td>0.0</td>\n",
       "      <td>0.0</td>\n",
       "      <td>0.0</td>\n",
       "      <td>0.0</td>\n",
       "    </tr>\n",
       "    <tr>\n",
       "      <th>1</th>\n",
       "      <td>2</td>\n",
       "      <td>25</td>\n",
       "      <td>M</td>\n",
       "      <td>30000.0</td>\n",
       "      <td>2020-01-02</td>\n",
       "      <td>los angeles</td>\n",
       "      <td>70</td>\n",
       "      <td>PhD</td>\n",
       "      <td>user37@example.com</td>\n",
       "      <td>55758</td>\n",
       "      <td>user37</td>\n",
       "      <td>2</td>\n",
       "      <td>0.0</td>\n",
       "      <td>0.0</td>\n",
       "      <td>0.0</td>\n",
       "      <td>1.0</td>\n",
       "      <td>0.0</td>\n",
       "      <td>0.0</td>\n",
       "    </tr>\n",
       "    <tr>\n",
       "      <th>2</th>\n",
       "      <td>3</td>\n",
       "      <td>45</td>\n",
       "      <td>F</td>\n",
       "      <td>110000.0</td>\n",
       "      <td>2020-01-03</td>\n",
       "      <td>phoenix</td>\n",
       "      <td>50</td>\n",
       "      <td>Bachelor</td>\n",
       "      <td>user85@example.com</td>\n",
       "      <td>19268</td>\n",
       "      <td>user85</td>\n",
       "      <td>0</td>\n",
       "      <td>0.0</td>\n",
       "      <td>0.0</td>\n",
       "      <td>0.0</td>\n",
       "      <td>0.0</td>\n",
       "      <td>0.0</td>\n",
       "      <td>1.0</td>\n",
       "    </tr>\n",
       "    <tr>\n",
       "      <th>3</th>\n",
       "      <td>4</td>\n",
       "      <td>40</td>\n",
       "      <td>M</td>\n",
       "      <td>50000.0</td>\n",
       "      <td>2020-01-04</td>\n",
       "      <td>los angeles</td>\n",
       "      <td>100</td>\n",
       "      <td>Master</td>\n",
       "      <td>user80@example.com</td>\n",
       "      <td>97313</td>\n",
       "      <td>user80</td>\n",
       "      <td>1</td>\n",
       "      <td>0.0</td>\n",
       "      <td>0.0</td>\n",
       "      <td>0.0</td>\n",
       "      <td>1.0</td>\n",
       "      <td>0.0</td>\n",
       "      <td>0.0</td>\n",
       "    </tr>\n",
       "    <tr>\n",
       "      <th>4</th>\n",
       "      <td>5</td>\n",
       "      <td>40</td>\n",
       "      <td>M</td>\n",
       "      <td>70000.0</td>\n",
       "      <td>2020-01-05</td>\n",
       "      <td>Unknown</td>\n",
       "      <td>70</td>\n",
       "      <td>PhD</td>\n",
       "      <td>user12@example.com</td>\n",
       "      <td>12695</td>\n",
       "      <td>user12</td>\n",
       "      <td>2</td>\n",
       "      <td>1.0</td>\n",
       "      <td>0.0</td>\n",
       "      <td>0.0</td>\n",
       "      <td>0.0</td>\n",
       "      <td>0.0</td>\n",
       "      <td>0.0</td>\n",
       "    </tr>\n",
       "  </tbody>\n",
       "</table>\n",
       "</div>"
      ],
      "text/plain": [
       "   id  age gender    income date_of_joining         city  happiness_score  \\\n",
       "0   1   30      F   70000.0      2020-01-01      chicago               60   \n",
       "1   2   25      M   30000.0      2020-01-02  los angeles               70   \n",
       "2   3   45      F  110000.0      2020-01-03      phoenix               50   \n",
       "3   4   40      M   50000.0      2020-01-04  los angeles              100   \n",
       "4   5   40      M   70000.0      2020-01-05      Unknown               70   \n",
       "\n",
       "  education               email postal    name  education_enc  city_Unknown  \\\n",
       "0  Bachelor  user85@example.com  26023  user85              0           0.0   \n",
       "1       PhD  user37@example.com  55758  user37              2           0.0   \n",
       "2  Bachelor  user85@example.com  19268  user85              0           0.0   \n",
       "3    Master  user80@example.com  97313  user80              1           0.0   \n",
       "4       PhD  user12@example.com  12695  user12              2           1.0   \n",
       "\n",
       "   city_chicago  city_houston  city_los angeles  city_new york  city_phoenix  \n",
       "0           1.0           0.0               0.0            0.0           0.0  \n",
       "1           0.0           0.0               1.0            0.0           0.0  \n",
       "2           0.0           0.0               0.0            0.0           1.0  \n",
       "3           0.0           0.0               1.0            0.0           0.0  \n",
       "4           0.0           0.0               0.0            0.0           0.0  "
      ]
     },
     "execution_count": 35,
     "metadata": {},
     "output_type": "execute_result"
    }
   ],
   "source": [
    "# merge main df with ohe df\n",
    "df = df.join(enc_df)\n",
    "df.head()"
   ]
  },
  {
   "cell_type": "markdown",
   "id": "c1ce8ff4",
   "metadata": {
    "papermill": {
     "duration": 0.017969,
     "end_time": "2024-06-13T01:45:39.330997",
     "exception": false,
     "start_time": "2024-06-13T01:45:39.313028",
     "status": "completed"
    },
    "tags": []
   },
   "source": [
    "# 9. Normalize (Scale) Data\n",
    "\n",
    "Normalization is the process of rescaling numerical data to a common scale, often between 0 and 1, to facilitate comparison and analysis.\n",
    "\n",
    "This is important for ML regression tasks because it ensures all input features are on a similar scale, preventing certain features from disproportionately influencing the model's training process.\n",
    "\n",
    "| Method      | Step |\n",
    "| ----------- | ----------- |\n",
    "| `MinMaxScaler`      | 0 to 1 scaler        |\n",
    "| `StandardScaler`      | Z-normalization        |\n",
    "| `Normalizer`      | Normalizer        |\n",
    "\n",
    "1. **MinMaxScaler**: This method scales the data to a specified range, typically between 0 and 1. It subtracts the minimum value from each feature and then divides by the range (maximum value minus minimum value). Min-max scaling preserves the original distribution of the data while ensuring that all features are within the specified range.\n",
    "\n",
    "2. **StandardScaler**: StandardScaler standardizes the data by removing the mean and scaling to unit variance. It transforms the data such that it has a mean of 0 and a standard deviation of 1. This technique is suitable when the data follows a Gaussian distribution and helps algorithms converge faster.\n",
    "\n",
    "3. **Normalizer**: Normalizer scales each data point independently to have a unit norm (the sum of squares of each feature equals 1). It is applied to each row of the dataset rather than to the entire dataset. Normalizer is useful when the magnitude of the data is not relevant for the model, such as in text classification or clustering tasks."
   ]
  },
  {
   "cell_type": "markdown",
   "id": "c0970971",
   "metadata": {
    "papermill": {
     "duration": 0.017773,
     "end_time": "2024-06-13T01:45:39.367193",
     "exception": false,
     "start_time": "2024-06-13T01:45:39.349420",
     "status": "completed"
    },
    "tags": []
   },
   "source": [
    "In our case, we want to build a regression model using income and age to predict happiness_score."
   ]
  },
  {
   "cell_type": "code",
   "execution_count": 36,
   "id": "b365caa9",
   "metadata": {
    "execution": {
     "iopub.execute_input": "2024-06-13T01:45:39.406970Z",
     "iopub.status.busy": "2024-06-13T01:45:39.406569Z",
     "iopub.status.idle": "2024-06-13T01:45:39.419123Z",
     "shell.execute_reply": "2024-06-13T01:45:39.418101Z"
    },
    "papermill": {
     "duration": 0.035447,
     "end_time": "2024-06-13T01:45:39.421473",
     "exception": false,
     "start_time": "2024-06-13T01:45:39.386026",
     "status": "completed"
    },
    "tags": []
   },
   "outputs": [
    {
     "data": {
      "text/html": [
       "<div>\n",
       "<style scoped>\n",
       "    .dataframe tbody tr th:only-of-type {\n",
       "        vertical-align: middle;\n",
       "    }\n",
       "\n",
       "    .dataframe tbody tr th {\n",
       "        vertical-align: top;\n",
       "    }\n",
       "\n",
       "    .dataframe thead th {\n",
       "        text-align: right;\n",
       "    }\n",
       "</style>\n",
       "<table border=\"1\" class=\"dataframe\">\n",
       "  <thead>\n",
       "    <tr style=\"text-align: right;\">\n",
       "      <th></th>\n",
       "      <th>income</th>\n",
       "      <th>age</th>\n",
       "      <th>happiness_score</th>\n",
       "    </tr>\n",
       "  </thead>\n",
       "  <tbody>\n",
       "    <tr>\n",
       "      <th>0</th>\n",
       "      <td>70000.0</td>\n",
       "      <td>30</td>\n",
       "      <td>60</td>\n",
       "    </tr>\n",
       "    <tr>\n",
       "      <th>1</th>\n",
       "      <td>30000.0</td>\n",
       "      <td>25</td>\n",
       "      <td>70</td>\n",
       "    </tr>\n",
       "    <tr>\n",
       "      <th>2</th>\n",
       "      <td>110000.0</td>\n",
       "      <td>45</td>\n",
       "      <td>50</td>\n",
       "    </tr>\n",
       "    <tr>\n",
       "      <th>3</th>\n",
       "      <td>50000.0</td>\n",
       "      <td>40</td>\n",
       "      <td>100</td>\n",
       "    </tr>\n",
       "    <tr>\n",
       "      <th>4</th>\n",
       "      <td>70000.0</td>\n",
       "      <td>40</td>\n",
       "      <td>70</td>\n",
       "    </tr>\n",
       "  </tbody>\n",
       "</table>\n",
       "</div>"
      ],
      "text/plain": [
       "     income  age  happiness_score\n",
       "0   70000.0   30               60\n",
       "1   30000.0   25               70\n",
       "2  110000.0   45               50\n",
       "3   50000.0   40              100\n",
       "4   70000.0   40               70"
      ]
     },
     "execution_count": 36,
     "metadata": {},
     "output_type": "execute_result"
    }
   ],
   "source": [
    "df[['income', 'age', 'happiness_score']].head()"
   ]
  },
  {
   "cell_type": "markdown",
   "id": "2678fe2a",
   "metadata": {
    "papermill": {
     "duration": 0.018181,
     "end_time": "2024-06-13T01:45:39.458415",
     "exception": false,
     "start_time": "2024-06-13T01:45:39.440234",
     "status": "completed"
    },
    "tags": []
   },
   "source": [
    "Scaling is necessary in this case because the features `income` and `age` have different scales. `Income` values are typically much larger than `age` values, which can cause issues during model training. If one feature dominates the other due to its larger scale, the model may become biased and give undue importance to that feature. Scaling ensures that both features contribute equally to the model's learning process.\n",
    "\n",
    "For this regression task,we will use `StandardScaler`. `StandardScaler` transforms the data to have a mean of 0 and a standard deviation of 1. This ensures that both `income` and `age` are on the same scale, making it easier for the model to learn their respective contributions to predicting \"happiness_score.\" Additionally, `StandardScaler` is robust to outliers and works well with most machine learning algorithms."
   ]
  },
  {
   "cell_type": "code",
   "execution_count": 37,
   "id": "9559323b",
   "metadata": {
    "execution": {
     "iopub.execute_input": "2024-06-13T01:45:39.503173Z",
     "iopub.status.busy": "2024-06-13T01:45:39.502356Z",
     "iopub.status.idle": "2024-06-13T01:45:39.526391Z",
     "shell.execute_reply": "2024-06-13T01:45:39.525144Z"
    },
    "papermill": {
     "duration": 0.05144,
     "end_time": "2024-06-13T01:45:39.528680",
     "exception": false,
     "start_time": "2024-06-13T01:45:39.477240",
     "status": "completed"
    },
    "tags": []
   },
   "outputs": [
    {
     "data": {
      "text/html": [
       "<div>\n",
       "<style scoped>\n",
       "    .dataframe tbody tr th:only-of-type {\n",
       "        vertical-align: middle;\n",
       "    }\n",
       "\n",
       "    .dataframe tbody tr th {\n",
       "        vertical-align: top;\n",
       "    }\n",
       "\n",
       "    .dataframe thead th {\n",
       "        text-align: right;\n",
       "    }\n",
       "</style>\n",
       "<table border=\"1\" class=\"dataframe\">\n",
       "  <thead>\n",
       "    <tr style=\"text-align: right;\">\n",
       "      <th></th>\n",
       "      <th>income</th>\n",
       "      <th>age</th>\n",
       "      <th>happiness_score</th>\n",
       "    </tr>\n",
       "  </thead>\n",
       "  <tbody>\n",
       "    <tr>\n",
       "      <th>0</th>\n",
       "      <td>0.070694</td>\n",
       "      <td>-0.993527</td>\n",
       "      <td>60</td>\n",
       "    </tr>\n",
       "    <tr>\n",
       "      <th>1</th>\n",
       "      <td>-1.431550</td>\n",
       "      <td>-1.383146</td>\n",
       "      <td>70</td>\n",
       "    </tr>\n",
       "    <tr>\n",
       "      <th>2</th>\n",
       "      <td>1.572938</td>\n",
       "      <td>0.175328</td>\n",
       "      <td>50</td>\n",
       "    </tr>\n",
       "    <tr>\n",
       "      <th>3</th>\n",
       "      <td>-0.680428</td>\n",
       "      <td>-0.214290</td>\n",
       "      <td>100</td>\n",
       "    </tr>\n",
       "    <tr>\n",
       "      <th>4</th>\n",
       "      <td>0.070694</td>\n",
       "      <td>-0.214290</td>\n",
       "      <td>70</td>\n",
       "    </tr>\n",
       "  </tbody>\n",
       "</table>\n",
       "</div>"
      ],
      "text/plain": [
       "     income       age  happiness_score\n",
       "0  0.070694 -0.993527               60\n",
       "1 -1.431550 -1.383146               70\n",
       "2  1.572938  0.175328               50\n",
       "3 -0.680428 -0.214290              100\n",
       "4  0.070694 -0.214290               70"
      ]
     },
     "execution_count": 37,
     "metadata": {},
     "output_type": "execute_result"
    }
   ],
   "source": [
    "from sklearn.preprocessing import StandardScaler\n",
    "\n",
    "features_to_scale = ['income', 'age']\n",
    "scaler = StandardScaler()\n",
    "\n",
    "df_scaled = df.copy()\n",
    "df_scaled[features_to_scale] = scaler.fit_transform(df_scaled[features_to_scale])\n",
    "\n",
    "df_scaled[['income', 'age', 'happiness_score']].head()"
   ]
  },
  {
   "cell_type": "code",
   "execution_count": 38,
   "id": "1e346c26",
   "metadata": {
    "execution": {
     "iopub.execute_input": "2024-06-13T01:45:39.569200Z",
     "iopub.status.busy": "2024-06-13T01:45:39.567952Z",
     "iopub.status.idle": "2024-06-13T01:45:42.231448Z",
     "shell.execute_reply": "2024-06-13T01:45:42.230154Z"
    },
    "papermill": {
     "duration": 2.686136,
     "end_time": "2024-06-13T01:45:42.233832",
     "exception": false,
     "start_time": "2024-06-13T01:45:39.547696",
     "status": "completed"
    },
    "tags": []
   },
   "outputs": [
    {
     "data": {
      "text/plain": [
       "<seaborn.axisgrid.PairGrid at 0x785c84698b50>"
      ]
     },
     "execution_count": 38,
     "metadata": {},
     "output_type": "execute_result"
    },
    {
     "data": {
      "image/png": "[encoded data removed]",
      "text/plain": [
       "<Figure size 750x750 with 12 Axes>"
      ]
     },
     "metadata": {},
     "output_type": "display_data"
    }
   ],
   "source": [
    "sns.pairplot(df_scaled[['income', 'age', 'happiness_score']])"
   ]
  },
  {
   "cell_type": "markdown",
   "id": "8f05c3ff",
   "metadata": {
    "papermill": {
     "duration": 0.020191,
     "end_time": "2024-06-13T01:45:42.273946",
     "exception": false,
     "start_time": "2024-06-13T01:45:42.253755",
     "status": "completed"
    },
    "tags": []
   },
   "source": [
    "# 10. Feature Engineering\n",
    "\n",
    "Lastly, we will cover feature engineering briefly. This doesn't traditionally come under \"data cleaning\" but it's good to touch on it a little. \n",
    "\n",
    "Feature engineering enhances model performance by creating or transforming features to better represent the underlying patterns in the data, leading to more accurate predictions and improved model interpretability.\n",
    "\n",
    "Common FE processes:\n",
    "\n",
    "| Step      | Method |\n",
    "| ----------- | ----------- |\n",
    "| Create new features | `df['new_feature'] = df['col1'] / df['col2']` |\n",
    "| Log transformation | `np.log1p()`, `np.log()` |\n",
    "| Binning | `pd.cut()`, `pd.qcut()` |\n",
    "| Date time | `df['year'] = pd.to_datetime(df['date_column']).dt.year` |\n",
    "| Value mapping | `mapping = {'Low' : 0, 'High': 1}`, `df['mapped'] = df['feature'].map(mapping)` |\n",
    "\n",
    "\n",
    "\n",
    "\n"
   ]
  },
  {
   "cell_type": "code",
   "execution_count": 39,
   "id": "91708993",
   "metadata": {
    "execution": {
     "iopub.execute_input": "2024-06-13T01:45:42.315679Z",
     "iopub.status.busy": "2024-06-13T01:45:42.315284Z",
     "iopub.status.idle": "2024-06-13T01:45:42.332492Z",
     "shell.execute_reply": "2024-06-13T01:45:42.331338Z"
    },
    "papermill": {
     "duration": 0.040707,
     "end_time": "2024-06-13T01:45:42.334922",
     "exception": false,
     "start_time": "2024-06-13T01:45:42.294215",
     "status": "completed"
    },
    "tags": []
   },
   "outputs": [
    {
     "data": {
      "text/html": [
       "<div>\n",
       "<style scoped>\n",
       "    .dataframe tbody tr th:only-of-type {\n",
       "        vertical-align: middle;\n",
       "    }\n",
       "\n",
       "    .dataframe tbody tr th {\n",
       "        vertical-align: top;\n",
       "    }\n",
       "\n",
       "    .dataframe thead th {\n",
       "        text-align: right;\n",
       "    }\n",
       "</style>\n",
       "<table border=\"1\" class=\"dataframe\">\n",
       "  <thead>\n",
       "    <tr style=\"text-align: right;\">\n",
       "      <th></th>\n",
       "      <th>date_of_joining</th>\n",
       "      <th>year</th>\n",
       "      <th>month</th>\n",
       "      <th>day</th>\n",
       "    </tr>\n",
       "  </thead>\n",
       "  <tbody>\n",
       "    <tr>\n",
       "      <th>0</th>\n",
       "      <td>2020-01-01</td>\n",
       "      <td>2020</td>\n",
       "      <td>1</td>\n",
       "      <td>1</td>\n",
       "    </tr>\n",
       "    <tr>\n",
       "      <th>1</th>\n",
       "      <td>2020-01-02</td>\n",
       "      <td>2020</td>\n",
       "      <td>1</td>\n",
       "      <td>2</td>\n",
       "    </tr>\n",
       "    <tr>\n",
       "      <th>2</th>\n",
       "      <td>2020-01-03</td>\n",
       "      <td>2020</td>\n",
       "      <td>1</td>\n",
       "      <td>3</td>\n",
       "    </tr>\n",
       "    <tr>\n",
       "      <th>3</th>\n",
       "      <td>2020-01-04</td>\n",
       "      <td>2020</td>\n",
       "      <td>1</td>\n",
       "      <td>4</td>\n",
       "    </tr>\n",
       "    <tr>\n",
       "      <th>4</th>\n",
       "      <td>2020-01-05</td>\n",
       "      <td>2020</td>\n",
       "      <td>1</td>\n",
       "      <td>5</td>\n",
       "    </tr>\n",
       "  </tbody>\n",
       "</table>\n",
       "</div>"
      ],
      "text/plain": [
       "  date_of_joining  year  month  day\n",
       "0      2020-01-01  2020      1    1\n",
       "1      2020-01-02  2020      1    2\n",
       "2      2020-01-03  2020      1    3\n",
       "3      2020-01-04  2020      1    4\n",
       "4      2020-01-05  2020      1    5"
      ]
     },
     "execution_count": 39,
     "metadata": {},
     "output_type": "execute_result"
    }
   ],
   "source": [
    "# Extracting year, month, day from datetime\n",
    "df['year'] = df['date_of_joining'].dt.year\n",
    "df['month'] = df['date_of_joining'].dt.month\n",
    "df['day'] = df['date_of_joining'].dt.day\n",
    "\n",
    "df[['date_of_joining', 'year', 'month', 'day']].head()"
   ]
  },
  {
   "cell_type": "code",
   "execution_count": 40,
   "id": "d24d6673",
   "metadata": {
    "execution": {
     "iopub.execute_input": "2024-06-13T01:45:42.376717Z",
     "iopub.status.busy": "2024-06-13T01:45:42.376338Z",
     "iopub.status.idle": "2024-06-13T01:45:42.625017Z",
     "shell.execute_reply": "2024-06-13T01:45:42.623836Z"
    },
    "papermill": {
     "duration": 0.272712,
     "end_time": "2024-06-13T01:45:42.627623",
     "exception": false,
     "start_time": "2024-06-13T01:45:42.354911",
     "status": "completed"
    },
    "tags": []
   },
   "outputs": [
    {
     "data": {
      "text/plain": [
       "<Axes: xlabel='income', ylabel='Count'>"
      ]
     },
     "execution_count": 40,
     "metadata": {},
     "output_type": "execute_result"
    },
    {
     "data": {
      "image/png": "[encoded data removed]",
      "text/plain": [
       "<Figure size 640x480 with 1 Axes>"
      ]
     },
     "metadata": {},
     "output_type": "display_data"
    }
   ],
   "source": [
    "# Binning income groups\n",
    "sns.histplot(df.income)"
   ]
  },
  {
   "cell_type": "code",
   "execution_count": 41,
   "id": "eddb63e5",
   "metadata": {
    "execution": {
     "iopub.execute_input": "2024-06-13T01:45:42.671128Z",
     "iopub.status.busy": "2024-06-13T01:45:42.670106Z",
     "iopub.status.idle": "2024-06-13T01:45:42.687584Z",
     "shell.execute_reply": "2024-06-13T01:45:42.686521Z"
    },
    "papermill": {
     "duration": 0.041447,
     "end_time": "2024-06-13T01:45:42.689748",
     "exception": false,
     "start_time": "2024-06-13T01:45:42.648301",
     "status": "completed"
    },
    "tags": []
   },
   "outputs": [
    {
     "data": {
      "text/html": [
       "<div>\n",
       "<style scoped>\n",
       "    .dataframe tbody tr th:only-of-type {\n",
       "        vertical-align: middle;\n",
       "    }\n",
       "\n",
       "    .dataframe tbody tr th {\n",
       "        vertical-align: top;\n",
       "    }\n",
       "\n",
       "    .dataframe thead th {\n",
       "        text-align: right;\n",
       "    }\n",
       "</style>\n",
       "<table border=\"1\" class=\"dataframe\">\n",
       "  <thead>\n",
       "    <tr style=\"text-align: right;\">\n",
       "      <th></th>\n",
       "      <th>income</th>\n",
       "      <th>income_groups</th>\n",
       "    </tr>\n",
       "  </thead>\n",
       "  <tbody>\n",
       "    <tr>\n",
       "      <th>0</th>\n",
       "      <td>70000.0</td>\n",
       "      <td>60-80K</td>\n",
       "    </tr>\n",
       "    <tr>\n",
       "      <th>1</th>\n",
       "      <td>30000.0</td>\n",
       "      <td>20-40K</td>\n",
       "    </tr>\n",
       "    <tr>\n",
       "      <th>2</th>\n",
       "      <td>110000.0</td>\n",
       "      <td>100K+</td>\n",
       "    </tr>\n",
       "    <tr>\n",
       "      <th>3</th>\n",
       "      <td>50000.0</td>\n",
       "      <td>40-60K</td>\n",
       "    </tr>\n",
       "    <tr>\n",
       "      <th>4</th>\n",
       "      <td>70000.0</td>\n",
       "      <td>60-80K</td>\n",
       "    </tr>\n",
       "  </tbody>\n",
       "</table>\n",
       "</div>"
      ],
      "text/plain": [
       "     income income_groups\n",
       "0   70000.0        60-80K\n",
       "1   30000.0        20-40K\n",
       "2  110000.0         100K+\n",
       "3   50000.0        40-60K\n",
       "4   70000.0        60-80K"
      ]
     },
     "execution_count": 41,
     "metadata": {},
     "output_type": "execute_result"
    }
   ],
   "source": [
    "# bin edges\n",
    "bins = np.arange(0, 120001, 20000)\n",
    "\n",
    "# define bin labels\n",
    "labels = [f'{i//1000}-{(i+20000)//1000}K' for i in range(0, 120000, 20000)]\n",
    "labels[-1] = '100K+'\n",
    "\n",
    "# bin income groups\n",
    "df['income_groups'] = pd.cut(df['income'], bins=bins, labels=labels, right=False)\n",
    "\n",
    "df[['income', 'income_groups']].head()"
   ]
  },
  {
   "cell_type": "markdown",
   "id": "05a8420a",
   "metadata": {
    "papermill": {
     "duration": 0.022079,
     "end_time": "2024-06-13T01:45:42.732608",
     "exception": false,
     "start_time": "2024-06-13T01:45:42.710529",
     "status": "completed"
    },
    "tags": []
   },
   "source": [
    "# 11. Summary\n",
    "\n",
    "Mastering data cleaning techniques is essential for ensuring accurate analyses and reliable machine learning models. By addressing issues like missing data, outliers, and categorical variables, and by scaling and engineering features, you can enhance the quality of your data and models.\n",
    "\n",
    "If you found this resource on data cleaning techniques helpful, please consider giving it an upvote. Your support helps learning resources like this reach more people, benefiting fellow data science learners and practitioners. Thank you 😊"
   ]
  }
 ],
 "metadata": {
  "kaggle": {
   "accelerator": "none",
   "dataSources": [],
   "dockerImageVersionId": 30698,
   "isGpuEnabled": false,
   "isInternetEnabled": true,
   "language": "python",
   "sourceType": "notebook"
  },
  "kernelspec": {
   "display_name": "Python 3",
   "language": "python",
   "name": "python3"
  },
  "language_info": {
   "codemirror_mode": {
    "name": "ipython",
    "version": 3
   },
   "file_extension": ".py",
   "mimetype": "text/x-python",
   "name": "python",
   "nbconvert_exporter": "python",
   "pygments_lexer": "ipython3",
   "version": "3.10.13"
  },
  "papermill": {
   "default_parameters": {},
   "duration": 12.782161,
   "end_time": "2024-06-13T01:45:43.375453",
   "environment_variables": {},
   "exception": null,
   "input_path": "__notebook__.ipynb",
   "output_path": "__notebook__.ipynb",
   "parameters": {},
   "start_time": "2024-06-13T01:45:30.593292",
   "version": "2.5.0"
  }
 },
 "nbformat": 4,
 "nbformat_minor": 5
}
